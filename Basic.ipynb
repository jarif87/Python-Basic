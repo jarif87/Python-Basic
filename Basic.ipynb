{
  "nbformat": 4,
  "nbformat_minor": 0,
  "metadata": {
    "colab": {
      "provenance": []
    },
    "kernelspec": {
      "name": "python3",
      "display_name": "Python 3"
    },
    "language_info": {
      "name": "python"
    }
  },
  "cells": [
    {
      "cell_type": "code",
      "execution_count": 2,
      "metadata": {
        "colab": {
          "base_uri": "https://localhost:8080/"
        },
        "id": "0bHhEFLOfWe_",
        "outputId": "13d45eaf-ee6c-4561-d1d5-77c257e69cf3"
      },
      "outputs": [
        {
          "output_type": "stream",
          "name": "stdout",
          "text": [
            "protik\n",
            "jarif\n"
          ]
        }
      ],
      "source": [
        "name=\"protik\"\n",
        "Name=\"jarif\"\n",
        "print(name)\n",
        "print(Name)"
      ]
    },
    {
      "cell_type": "code",
      "source": [
        "age=30\n",
        "if age>30:\n",
        "  print(\"age is greater than 30\")\n",
        "else:\n",
        "  print(\"age is less than 30\")"
      ],
      "metadata": {
        "colab": {
          "base_uri": "https://localhost:8080/"
        },
        "id": "_f9qxMxrfX9w",
        "outputId": "e420ee10-e9ac-4052-b384-7faaeae2dfbb"
      },
      "execution_count": 3,
      "outputs": [
        {
          "output_type": "stream",
          "name": "stdout",
          "text": [
            "age is less than 30\n"
          ]
        }
      ]
    },
    {
      "cell_type": "code",
      "source": [
        "print(\"hello world\")"
      ],
      "metadata": {
        "colab": {
          "base_uri": "https://localhost:8080/"
        },
        "id": "HTno3fOyfYCD",
        "outputId": "31810de7-6d16-4792-82d2-cecba17b73bf"
      },
      "execution_count": 4,
      "outputs": [
        {
          "output_type": "stream",
          "name": "stdout",
          "text": [
            "hello world\n"
          ]
        }
      ]
    },
    {
      "cell_type": "code",
      "source": [
        "total=1+2+3+4+\\\n",
        "5+6\n",
        "print(total)"
      ],
      "metadata": {
        "colab": {
          "base_uri": "https://localhost:8080/"
        },
        "id": "TS56P7UofYGA",
        "outputId": "bf77c605-95e4-424d-ea93-a858bea773cc"
      },
      "execution_count": 5,
      "outputs": [
        {
          "output_type": "stream",
          "name": "stdout",
          "text": [
            "21\n"
          ]
        }
      ]
    },
    {
      "cell_type": "code",
      "source": [
        "x=5;y=10;z=x+y\n",
        "print(z)"
      ],
      "metadata": {
        "colab": {
          "base_uri": "https://localhost:8080/"
        },
        "id": "q-Ixu2_pfYJv",
        "outputId": "38a85cb1-f653-4f19-dbfd-8637a202fc93"
      },
      "execution_count": 8,
      "outputs": [
        {
          "output_type": "stream",
          "name": "stdout",
          "text": [
            "15\n"
          ]
        }
      ]
    },
    {
      "cell_type": "code",
      "source": [
        "variable=10\n",
        "type(variable)"
      ],
      "metadata": {
        "colab": {
          "base_uri": "https://localhost:8080/"
        },
        "id": "ElLI6eFkfYNe",
        "outputId": "fb44ab20-b777-4f6d-ad52-5a19c68a807e"
      },
      "execution_count": 9,
      "outputs": [
        {
          "output_type": "execute_result",
          "data": {
            "text/plain": [
              "int"
            ]
          },
          "metadata": {},
          "execution_count": 9
        }
      ]
    },
    {
      "cell_type": "code",
      "source": [
        "s=\"protik\"\n",
        "type(s)"
      ],
      "metadata": {
        "colab": {
          "base_uri": "https://localhost:8080/"
        },
        "id": "-Ul4uZu0fYQ7",
        "outputId": "05fa9399-ec1b-466f-f88b-22706d3363c0"
      },
      "execution_count": 10,
      "outputs": [
        {
          "output_type": "execute_result",
          "data": {
            "text/plain": [
              "str"
            ]
          },
          "metadata": {},
          "execution_count": 10
        }
      ]
    },
    {
      "cell_type": "code",
      "source": [
        "if True:\n",
        "  print(\"bangladesh is a poor country\")\n",
        "  if False:\n",
        "\n",
        "\n",
        "    print(\"this book color is black\")\n",
        "  print(\"she is a good girl\")\n",
        "print(\"hello\")"
      ],
      "metadata": {
        "colab": {
          "base_uri": "https://localhost:8080/"
        },
        "id": "4-JbeywvfYUr",
        "outputId": "72da0009-67b3-4272-ffc8-57cd9c96c78a"
      },
      "execution_count": 15,
      "outputs": [
        {
          "output_type": "stream",
          "name": "stdout",
          "text": [
            "bangladesh is a poor country\n",
            "she is a good girl\n",
            "hello\n"
          ]
        }
      ]
    },
    {
      "cell_type": "code",
      "source": [],
      "metadata": {
        "id": "yvp1Bh1HjwI7"
      },
      "execution_count": null,
      "outputs": []
    }
  ]
}