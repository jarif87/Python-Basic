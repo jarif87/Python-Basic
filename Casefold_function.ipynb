{
  "nbformat": 4,
  "nbformat_minor": 0,
  "metadata": {
    "colab": {
      "provenance": []
    },
    "kernelspec": {
      "name": "python3",
      "display_name": "Python 3"
    },
    "language_info": {
      "name": "python"
    }
  },
  "cells": [
    {
      "cell_type": "code",
      "execution_count": 21,
      "metadata": {
        "id": "NfXPvshejWmM"
      },
      "outputs": [],
      "source": [
        "test_text=\"bANgLadeSh\""
      ]
    },
    {
      "cell_type": "code",
      "source": [
        "print(test_text.casefold())"
      ],
      "metadata": {
        "colab": {
          "base_uri": "https://localhost:8080/"
        },
        "id": "qPYY0t8Qmipn",
        "outputId": "e7e14acb-9cb7-4459-8d4d-dacd25b21b5f"
      },
      "execution_count": 22,
      "outputs": [
        {
          "output_type": "stream",
          "name": "stdout",
          "text": [
            "bangladesh\n"
          ]
        }
      ]
    },
    {
      "cell_type": "markdown",
      "source": [
        "# Space Matters Here it will count (Space) careful with space"
      ],
      "metadata": {
        "id": "iC1PGbJ5oh6F"
      }
    },
    {
      "cell_type": "code",
      "source": [
        "text_0=\"i aM a StudeNt\"\n",
        "text_1=\"  i am a  STUDENT\""
      ],
      "metadata": {
        "id": "VJxSqfCgmiug"
      },
      "execution_count": 23,
      "outputs": []
    },
    {
      "cell_type": "code",
      "source": [
        "if text_0.casefold()==text_1.casefold():\n",
        "  print(\"Equal\")\n",
        "else:\n",
        "  print(\"Not Equal\")"
      ],
      "metadata": {
        "colab": {
          "base_uri": "https://localhost:8080/"
        },
        "id": "VpuypxocmizD",
        "outputId": "560a2b93-b7a5-47f8-b013-93291f1fe30f"
      },
      "execution_count": 24,
      "outputs": [
        {
          "output_type": "stream",
          "name": "stdout",
          "text": [
            "Not Equal\n"
          ]
        }
      ]
    },
    {
      "cell_type": "code",
      "source": [
        "text_0.casefold()"
      ],
      "metadata": {
        "colab": {
          "base_uri": "https://localhost:8080/",
          "height": 35
        },
        "id": "aqhMXN1PmjKC",
        "outputId": "feaae2bd-1798-45aa-b6b1-f70e84cdf391"
      },
      "execution_count": 25,
      "outputs": [
        {
          "output_type": "execute_result",
          "data": {
            "text/plain": [
              "'i am a student'"
            ],
            "application/vnd.google.colaboratory.intrinsic+json": {
              "type": "string"
            }
          },
          "metadata": {},
          "execution_count": 25
        }
      ]
    },
    {
      "cell_type": "code",
      "source": [
        "text_1.casefold()"
      ],
      "metadata": {
        "colab": {
          "base_uri": "https://localhost:8080/",
          "height": 35
        },
        "id": "sFgzx_IZmjNu",
        "outputId": "6144e8a0-89ed-48ac-93b8-c0527e4c401d"
      },
      "execution_count": 26,
      "outputs": [
        {
          "output_type": "execute_result",
          "data": {
            "text/plain": [
              "'  i am a  student'"
            ],
            "application/vnd.google.colaboratory.intrinsic+json": {
              "type": "string"
            }
          },
          "metadata": {},
          "execution_count": 26
        }
      ]
    },
    {
      "cell_type": "code",
      "source": [
        "x=\"Bangladesh\"\n",
        "y=\"bangLAdesh\""
      ],
      "metadata": {
        "id": "luPjnmbaoOPn"
      },
      "execution_count": 27,
      "outputs": []
    },
    {
      "cell_type": "code",
      "source": [
        "if x.casefold()==y.casefold():\n",
        "  print(\"Equal\")\n",
        "else:\n",
        "  print(\"Not Equal\")\n"
      ],
      "metadata": {
        "colab": {
          "base_uri": "https://localhost:8080/"
        },
        "id": "Iw3w5qhcoOJu",
        "outputId": "bceaff88-6e92-49fd-825a-e01a8dbcb3cc"
      },
      "execution_count": 28,
      "outputs": [
        {
          "output_type": "stream",
          "name": "stdout",
          "text": [
            "Equal\n"
          ]
        }
      ]
    },
    {
      "cell_type": "code",
      "source": [],
      "metadata": {
        "id": "3ZxQpDaKoOFe"
      },
      "execution_count": 28,
      "outputs": []
    },
    {
      "cell_type": "code",
      "source": [],
      "metadata": {
        "id": "qH8R7jJDmjQ5"
      },
      "execution_count": 28,
      "outputs": []
    }
  ]
}