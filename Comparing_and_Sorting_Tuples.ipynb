{
  "nbformat": 4,
  "nbformat_minor": 0,
  "metadata": {
    "colab": {
      "provenance": []
    },
    "kernelspec": {
      "name": "python3",
      "display_name": "Python 3"
    },
    "language_info": {
      "name": "python"
    }
  },
  "cells": [
    {
      "cell_type": "code",
      "execution_count": 1,
      "metadata": {
        "id": "tNPfmra-VtYm"
      },
      "outputs": [],
      "source": [
        "d={\"a\":10,\"b\":20,\"c\":54,\"d\":30}"
      ]
    },
    {
      "cell_type": "code",
      "source": [
        "d.items()"
      ],
      "metadata": {
        "colab": {
          "base_uri": "https://localhost:8080/"
        },
        "id": "QPVjMD2qV0w2",
        "outputId": "1ca99c90-3d6e-4188-def4-30cc00a2cd14"
      },
      "execution_count": 2,
      "outputs": [
        {
          "output_type": "execute_result",
          "data": {
            "text/plain": [
              "dict_items([('a', 10), ('b', 20), ('c', 54), ('d', 30)])"
            ]
          },
          "metadata": {},
          "execution_count": 2
        }
      ]
    },
    {
      "cell_type": "code",
      "source": [
        "sorted(d.items())"
      ],
      "metadata": {
        "colab": {
          "base_uri": "https://localhost:8080/"
        },
        "id": "jWLUh_1ZV01R",
        "outputId": "912f1870-10eb-4f96-9576-210c288fc9bf"
      },
      "execution_count": 3,
      "outputs": [
        {
          "output_type": "execute_result",
          "data": {
            "text/plain": [
              "[('a', 10), ('b', 20), ('c', 54), ('d', 30)]"
            ]
          },
          "metadata": {},
          "execution_count": 3
        }
      ]
    },
    {
      "cell_type": "code",
      "source": [
        "for m,n in sorted(d.items()):\n",
        "  print(m,n)"
      ],
      "metadata": {
        "colab": {
          "base_uri": "https://localhost:8080/"
        },
        "id": "p-UOeKJfV05u",
        "outputId": "73d97549-9db0-4744-908a-fb55bda1bac0"
      },
      "execution_count": 4,
      "outputs": [
        {
          "output_type": "stream",
          "name": "stdout",
          "text": [
            "a 10\n",
            "b 20\n",
            "c 54\n",
            "d 30\n"
          ]
        }
      ]
    },
    {
      "cell_type": "code",
      "source": [
        "temp=list()\n",
        "c={\"a\":10,\"b\":20,\"c\":54,\"d\":30}"
      ],
      "metadata": {
        "id": "dzl1gJrdV09l"
      },
      "execution_count": 6,
      "outputs": []
    },
    {
      "cell_type": "code",
      "source": [
        "for k,v in c.items():\n",
        "  temp.append((k,v))\n",
        "print(temp)"
      ],
      "metadata": {
        "colab": {
          "base_uri": "https://localhost:8080/"
        },
        "id": "tPPWvcplV1SR",
        "outputId": "6277cf9b-bb27-40ea-92a0-0dca8e70c6b6"
      },
      "execution_count": 8,
      "outputs": [
        {
          "output_type": "stream",
          "name": "stdout",
          "text": [
            "[('a', 10), ('b', 20), ('c', 54), ('d', 30)]\n"
          ]
        }
      ]
    },
    {
      "cell_type": "code",
      "source": [
        "temp=sorted(temp,reverse=True)\n",
        "print(temp)"
      ],
      "metadata": {
        "colab": {
          "base_uri": "https://localhost:8080/"
        },
        "id": "Dsf08MCAV1WF",
        "outputId": "ae3da97a-9d96-4abe-c513-42f17b879fb6"
      },
      "execution_count": 9,
      "outputs": [
        {
          "output_type": "stream",
          "name": "stdout",
          "text": [
            "[('d', 30), ('c', 54), ('b', 20), ('a', 10)]\n"
          ]
        }
      ]
    },
    {
      "cell_type": "code",
      "source": [
        "f={\"a\":10,\"b\":20,\"c\":54,\"d\":30}"
      ],
      "metadata": {
        "id": "_f24dHwHXlp9"
      },
      "execution_count": 10,
      "outputs": []
    },
    {
      "cell_type": "code",
      "source": [
        "print(sorted([(a,b) for b,a in f.items()]))"
      ],
      "metadata": {
        "colab": {
          "base_uri": "https://localhost:8080/"
        },
        "id": "plFeJgZWXlmC",
        "outputId": "0d274694-eea6-4d36-c00f-0c68c5b54691"
      },
      "execution_count": 12,
      "outputs": [
        {
          "output_type": "stream",
          "name": "stdout",
          "text": [
            "[(10, 'a'), (20, 'b'), (30, 'd'), (54, 'c')]\n"
          ]
        }
      ]
    },
    {
      "cell_type": "code",
      "source": [],
      "metadata": {
        "id": "CbjGKdOMXlhU"
      },
      "execution_count": null,
      "outputs": []
    },
    {
      "cell_type": "code",
      "source": [],
      "metadata": {
        "id": "DsRr3HS5XldJ"
      },
      "execution_count": null,
      "outputs": []
    },
    {
      "cell_type": "code",
      "source": [],
      "metadata": {
        "id": "Y5WImNolXlHP"
      },
      "execution_count": null,
      "outputs": []
    },
    {
      "cell_type": "code",
      "source": [],
      "metadata": {
        "id": "2FIPqd6xXlDg"
      },
      "execution_count": null,
      "outputs": []
    },
    {
      "cell_type": "code",
      "source": [],
      "metadata": {
        "id": "MD-lrt6hXk_Q"
      },
      "execution_count": null,
      "outputs": []
    }
  ]
}