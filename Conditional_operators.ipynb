{
  "nbformat": 4,
  "nbformat_minor": 0,
  "metadata": {
    "colab": {
      "provenance": []
    },
    "kernelspec": {
      "name": "python3",
      "display_name": "Python 3"
    },
    "language_info": {
      "name": "python"
    }
  },
  "cells": [
    {
      "cell_type": "code",
      "execution_count": 2,
      "metadata": {
        "colab": {
          "base_uri": "https://localhost:8080/"
        },
        "id": "mSsnBTYzhyWj",
        "outputId": "82612c11-9958-48ea-9720-402aba1816ea"
      },
      "outputs": [
        {
          "name": "stdout",
          "output_type": "stream",
          "text": [
            "Enter first number : 10\n",
            "Enter second  number : 20\n",
            "Enter third  number : 30\n"
          ]
        }
      ],
      "source": [
        "x=int(input(\"Enter first number : \"))\n",
        "y=int(input(\"Enter second  number : \"))\n",
        "z=int(input(\"Enter third  number : \"))"
      ]
    },
    {
      "cell_type": "code",
      "source": [
        "if x>y  and  x>z:\n",
        "  print(x,\"is large\")\n",
        "elif y>x and y>z:\n",
        "  print(y,\"is large\")\n",
        "else:\n",
        "  print(z,\"is large\")"
      ],
      "metadata": {
        "colab": {
          "base_uri": "https://localhost:8080/"
        },
        "id": "cuUHeVVfiE2z",
        "outputId": "7c84a21f-0aa5-4c53-e9db-d07878f81888"
      },
      "execution_count": 4,
      "outputs": [
        {
          "output_type": "stream",
          "name": "stdout",
          "text": [
            "30 is large\n"
          ]
        }
      ]
    },
    {
      "cell_type": "code",
      "source": [],
      "metadata": {
        "id": "7xHCOUzuiE7H"
      },
      "execution_count": null,
      "outputs": []
    },
    {
      "cell_type": "code",
      "source": [],
      "metadata": {
        "id": "15bKuJQGiE-3"
      },
      "execution_count": null,
      "outputs": []
    }
  ]
}