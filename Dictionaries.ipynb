{
  "nbformat": 4,
  "nbformat_minor": 0,
  "metadata": {
    "colab": {
      "provenance": []
    },
    "kernelspec": {
      "name": "python3",
      "display_name": "Python 3"
    },
    "language_info": {
      "name": "python"
    }
  },
  "cells": [
    {
      "cell_type": "code",
      "execution_count": 3,
      "metadata": {
        "id": "RlyQSSGSpxF-"
      },
      "outputs": [],
      "source": [
        "dict0={}"
      ]
    },
    {
      "cell_type": "code",
      "source": [
        "type(dict0)"
      ],
      "metadata": {
        "colab": {
          "base_uri": "https://localhost:8080/"
        },
        "id": "vZ3TWFlfp1fT",
        "outputId": "095a5037-4e88-4994-d9fa-a7cc93a56019"
      },
      "execution_count": 4,
      "outputs": [
        {
          "output_type": "execute_result",
          "data": {
            "text/plain": [
              "dict"
            ]
          },
          "metadata": {},
          "execution_count": 4
        }
      ]
    },
    {
      "cell_type": "code",
      "source": [
        "dict1={\"name\":\"anamika\",\"country\":\"bangladesh\",\"age\":30,2:40}"
      ],
      "metadata": {
        "id": "HCabI-HTp1kA"
      },
      "execution_count": 5,
      "outputs": []
    },
    {
      "cell_type": "code",
      "source": [
        "dict1"
      ],
      "metadata": {
        "colab": {
          "base_uri": "https://localhost:8080/"
        },
        "id": "SNx6XgCKp1px",
        "outputId": "67aa71f0-72b5-4ed6-ed24-84a83a2da655"
      },
      "execution_count": 6,
      "outputs": [
        {
          "output_type": "execute_result",
          "data": {
            "text/plain": [
              "{'name': 'anamika', 'country': 'bangladesh', 'age': 30, 2: 40}"
            ]
          },
          "metadata": {},
          "execution_count": 6
        }
      ]
    },
    {
      "cell_type": "code",
      "source": [
        "dict2={1:\"name\",2:\"bangla\",3:\"english\"}"
      ],
      "metadata": {
        "id": "kIoOJQk-p1u1"
      },
      "execution_count": 7,
      "outputs": []
    },
    {
      "cell_type": "code",
      "source": [
        "dict2"
      ],
      "metadata": {
        "colab": {
          "base_uri": "https://localhost:8080/"
        },
        "id": "ZfKZfIk8p1-U",
        "outputId": "4f25b43e-4f7f-486f-d7cc-333afa0fc82f"
      },
      "execution_count": 8,
      "outputs": [
        {
          "output_type": "execute_result",
          "data": {
            "text/plain": [
              "{1: 'name', 2: 'bangla', 3: 'english'}"
            ]
          },
          "metadata": {},
          "execution_count": 8
        }
      ]
    },
    {
      "cell_type": "code",
      "source": [
        "dict3=dict()"
      ],
      "metadata": {
        "id": "qvq6zVe9BQHP"
      },
      "execution_count": 9,
      "outputs": []
    },
    {
      "cell_type": "code",
      "source": [
        "type(dict3)"
      ],
      "metadata": {
        "colab": {
          "base_uri": "https://localhost:8080/"
        },
        "id": "y8nm5zfMBP-D",
        "outputId": "9f66ca9f-d6e4-4d31-b644-d1b6e25ee4f3"
      },
      "execution_count": 10,
      "outputs": [
        {
          "output_type": "execute_result",
          "data": {
            "text/plain": [
              "dict"
            ]
          },
          "metadata": {},
          "execution_count": 10
        }
      ]
    },
    {
      "cell_type": "code",
      "source": [
        "dict4=dict({1:\"bangla\",2:\"nepal\",\"name\":\"anika\"})"
      ],
      "metadata": {
        "id": "AfTtYsO8BPyx"
      },
      "execution_count": 11,
      "outputs": []
    },
    {
      "cell_type": "code",
      "source": [
        "dict4"
      ],
      "metadata": {
        "colab": {
          "base_uri": "https://localhost:8080/"
        },
        "id": "LYg4q4_1CeOf",
        "outputId": "67b0a6e6-b311-4e4e-cfaf-8b018469bafb"
      },
      "execution_count": 13,
      "outputs": [
        {
          "output_type": "execute_result",
          "data": {
            "text/plain": [
              "{1: 'bangla', 2: 'nepal', 'name': 'anika'}"
            ]
          },
          "metadata": {},
          "execution_count": 13
        }
      ]
    },
    {
      "cell_type": "code",
      "source": [
        "type(dict4)"
      ],
      "metadata": {
        "colab": {
          "base_uri": "https://localhost:8080/"
        },
        "id": "z1rD7tqZCeKp",
        "outputId": "c81b14e5-1884-4a3a-8f36-8d4eb1ad428b"
      },
      "execution_count": 14,
      "outputs": [
        {
          "output_type": "execute_result",
          "data": {
            "text/plain": [
              "dict"
            ]
          },
          "metadata": {},
          "execution_count": 14
        }
      ]
    },
    {
      "cell_type": "code",
      "source": [
        "dict5=dict({(1,\"python\"),(2,\"java\"),(3,\"c++\")})"
      ],
      "metadata": {
        "id": "PWVYtiMDCd8S"
      },
      "execution_count": 15,
      "outputs": []
    },
    {
      "cell_type": "code",
      "source": [
        "dict5"
      ],
      "metadata": {
        "colab": {
          "base_uri": "https://localhost:8080/"
        },
        "id": "mahbeIQxC4kp",
        "outputId": "f80b3c47-6851-4c1d-a6e5-922981df282c"
      },
      "execution_count": 17,
      "outputs": [
        {
          "output_type": "execute_result",
          "data": {
            "text/plain": [
              "{1: 'python', 3: 'c++', 2: 'java'}"
            ]
          },
          "metadata": {},
          "execution_count": 17
        }
      ]
    },
    {
      "cell_type": "code",
      "source": [
        "type(dict5)"
      ],
      "metadata": {
        "colab": {
          "base_uri": "https://localhost:8080/"
        },
        "id": "_nOigyfrp2Do",
        "outputId": "7e0ef92d-c31a-4e69-9e5c-02eb27b4e429"
      },
      "execution_count": 16,
      "outputs": [
        {
          "output_type": "execute_result",
          "data": {
            "text/plain": [
              "dict"
            ]
          },
          "metadata": {},
          "execution_count": 16
        }
      ]
    },
    {
      "cell_type": "code",
      "source": [],
      "metadata": {
        "id": "cyKl73qWp2JW"
      },
      "execution_count": null,
      "outputs": []
    }
  ]
}