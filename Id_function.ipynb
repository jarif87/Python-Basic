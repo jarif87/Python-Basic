{
  "nbformat": 4,
  "nbformat_minor": 0,
  "metadata": {
    "colab": {
      "provenance": []
    },
    "kernelspec": {
      "name": "python3",
      "display_name": "Python 3"
    },
    "language_info": {
      "name": "python"
    }
  },
  "cells": [
    {
      "cell_type": "code",
      "execution_count": 1,
      "metadata": {
        "colab": {
          "base_uri": "https://localhost:8080/"
        },
        "id": "FPf515I_5R9q",
        "outputId": "419cb9a1-e111-4722-a938-ce6eb43dcacc"
      },
      "outputs": [
        {
          "output_type": "stream",
          "name": "stdout",
          "text": [
            "11527904\n"
          ]
        }
      ],
      "source": [
        "num1=10\n",
        "print(id(num1))"
      ]
    },
    {
      "cell_type": "code",
      "source": [
        "num2=10\n",
        "print(id(num2))"
      ],
      "metadata": {
        "colab": {
          "base_uri": "https://localhost:8080/"
        },
        "id": "VyExOYydK3_A",
        "outputId": "94c04b9d-4a84-4b15-f850-09930f684eb6"
      },
      "execution_count": 2,
      "outputs": [
        {
          "output_type": "stream",
          "name": "stdout",
          "text": [
            "11527904\n"
          ]
        }
      ]
    },
    {
      "cell_type": "code",
      "source": [
        "num3=1.025\n",
        "print(id(num3))"
      ],
      "metadata": {
        "colab": {
          "base_uri": "https://localhost:8080/"
        },
        "id": "7me_01gPK4Eu",
        "outputId": "a6630dfe-5f0d-46d3-d7d9-9da437452392"
      },
      "execution_count": 3,
      "outputs": [
        {
          "output_type": "stream",
          "name": "stdout",
          "text": [
            "139993202178864\n"
          ]
        }
      ]
    },
    {
      "cell_type": "code",
      "source": [
        "text=\"text data\""
      ],
      "metadata": {
        "id": "d44xfESsK4Ju"
      },
      "execution_count": 4,
      "outputs": []
    },
    {
      "cell_type": "code",
      "source": [
        "print(id(text))"
      ],
      "metadata": {
        "colab": {
          "base_uri": "https://localhost:8080/"
        },
        "id": "MqBLskrEK4Ne",
        "outputId": "5bde7fa2-a623-4305-ab57-5c6d145e49a4"
      },
      "execution_count": 5,
      "outputs": [
        {
          "output_type": "stream",
          "name": "stdout",
          "text": [
            "139993138395824\n"
          ]
        }
      ]
    }
  ]
}