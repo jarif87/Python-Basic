{
 "cells": [
  {
   "cell_type": "markdown",
   "id": "860570c1",
   "metadata": {},
   "source": [
    "# Logical Operator"
   ]
  },
  {
   "cell_type": "code",
   "execution_count": 1,
   "id": "99fc28eb",
   "metadata": {},
   "outputs": [],
   "source": [
    "p=True\n",
    "q=False\n"
   ]
  },
  {
   "cell_type": "code",
   "execution_count": 2,
   "id": "e430ae5c",
   "metadata": {},
   "outputs": [
    {
     "data": {
      "text/plain": [
       "False"
      ]
     },
     "execution_count": 2,
     "metadata": {},
     "output_type": "execute_result"
    }
   ],
   "source": [
    "p==q"
   ]
  },
  {
   "cell_type": "code",
   "execution_count": 3,
   "id": "657acc92",
   "metadata": {},
   "outputs": [
    {
     "name": "stdout",
     "output_type": "stream",
     "text": [
      "True\n"
     ]
    }
   ],
   "source": [
    "print( p or q)"
   ]
  },
  {
   "cell_type": "code",
   "execution_count": 4,
   "id": "b95e8bdb",
   "metadata": {},
   "outputs": [],
   "source": [
    "w=False"
   ]
  },
  {
   "cell_type": "code",
   "execution_count": 10,
   "id": "89c0092e",
   "metadata": {},
   "outputs": [
    {
     "name": "stdout",
     "output_type": "stream",
     "text": [
      "False\n"
     ]
    }
   ],
   "source": [
    "print(q or w)"
   ]
  },
  {
   "cell_type": "code",
   "execution_count": null,
   "id": "0cba24b2",
   "metadata": {},
   "outputs": [],
   "source": []
  },
  {
   "cell_type": "code",
   "execution_count": 11,
   "id": "7ab20a34",
   "metadata": {},
   "outputs": [
    {
     "name": "stdout",
     "output_type": "stream",
     "text": [
      "False\n"
     ]
    }
   ],
   "source": [
    "print(q and w)"
   ]
  },
  {
   "cell_type": "code",
   "execution_count": 16,
   "id": "45f23c71",
   "metadata": {},
   "outputs": [],
   "source": [
    "n=True"
   ]
  },
  {
   "cell_type": "code",
   "execution_count": 17,
   "id": "818acf74",
   "metadata": {},
   "outputs": [
    {
     "name": "stdout",
     "output_type": "stream",
     "text": [
      "True\n"
     ]
    }
   ],
   "source": [
    "print(p and n)"
   ]
  },
  {
   "cell_type": "code",
   "execution_count": 12,
   "id": "02714821",
   "metadata": {},
   "outputs": [
    {
     "name": "stdout",
     "output_type": "stream",
     "text": [
      "False\n"
     ]
    }
   ],
   "source": [
    "print( p and q)"
   ]
  },
  {
   "cell_type": "code",
   "execution_count": 18,
   "id": "2ce33dd9",
   "metadata": {},
   "outputs": [
    {
     "name": "stdout",
     "output_type": "stream",
     "text": [
      "False\n"
     ]
    }
   ],
   "source": [
    "print(not n)"
   ]
  },
  {
   "cell_type": "code",
   "execution_count": 19,
   "id": "412792da",
   "metadata": {},
   "outputs": [],
   "source": [
    "a=7\n",
    "b=9"
   ]
  },
  {
   "cell_type": "code",
   "execution_count": 20,
   "id": "de33d801",
   "metadata": {},
   "outputs": [
    {
     "name": "stdout",
     "output_type": "stream",
     "text": [
      "True\n"
     ]
    }
   ],
   "source": [
    "print(a==a and a==a)"
   ]
  },
  {
   "cell_type": "code",
   "execution_count": 21,
   "id": "d54be9e8",
   "metadata": {},
   "outputs": [
    {
     "name": "stdout",
     "output_type": "stream",
     "text": [
      "False\n"
     ]
    }
   ],
   "source": [
    "print(a==a and a==b)"
   ]
  },
  {
   "cell_type": "code",
   "execution_count": 22,
   "id": "1fdd8d8a",
   "metadata": {},
   "outputs": [
    {
     "name": "stdout",
     "output_type": "stream",
     "text": [
      "True\n"
     ]
    }
   ],
   "source": [
    "print(a==a or a==a)"
   ]
  },
  {
   "cell_type": "code",
   "execution_count": 23,
   "id": "835c2c3f",
   "metadata": {},
   "outputs": [
    {
     "name": "stdout",
     "output_type": "stream",
     "text": [
      "True\n"
     ]
    }
   ],
   "source": [
    "print(a==a or a==b)"
   ]
  },
  {
   "cell_type": "code",
   "execution_count": 25,
   "id": "3f0ef548",
   "metadata": {},
   "outputs": [
    {
     "name": "stdout",
     "output_type": "stream",
     "text": [
      "False\n"
     ]
    }
   ],
   "source": [
    "print(a==b)"
   ]
  },
  {
   "cell_type": "code",
   "execution_count": 26,
   "id": "390c9af6",
   "metadata": {},
   "outputs": [
    {
     "name": "stdout",
     "output_type": "stream",
     "text": [
      "True\n"
     ]
    }
   ],
   "source": [
    "print(not a==b)"
   ]
  },
  {
   "cell_type": "code",
   "execution_count": 27,
   "id": "0e745055",
   "metadata": {},
   "outputs": [
    {
     "name": "stdout",
     "output_type": "stream",
     "text": [
      "False\n"
     ]
    }
   ],
   "source": [
    "print(not a==a)"
   ]
  },
  {
   "cell_type": "code",
   "execution_count": null,
   "id": "494d1f8f",
   "metadata": {},
   "outputs": [],
   "source": []
  }
 ],
 "metadata": {
  "kernelspec": {
   "display_name": "Python 3 (ipykernel)",
   "language": "python",
   "name": "python3"
  },
  "language_info": {
   "codemirror_mode": {
    "name": "ipython",
    "version": 3
   },
   "file_extension": ".py",
   "mimetype": "text/x-python",
   "name": "python",
   "nbconvert_exporter": "python",
   "pygments_lexer": "ipython3",
   "version": "3.9.1"
  },
  "varInspector": {
   "cols": {
    "lenName": 16,
    "lenType": 16,
    "lenVar": 40
   },
   "kernels_config": {
    "python": {
     "delete_cmd_postfix": "",
     "delete_cmd_prefix": "del ",
     "library": "var_list.py",
     "varRefreshCmd": "print(var_dic_list())"
    },
    "r": {
     "delete_cmd_postfix": ") ",
     "delete_cmd_prefix": "rm(",
     "library": "var_list.r",
     "varRefreshCmd": "cat(var_dic_list()) "
    }
   },
   "types_to_exclude": [
    "module",
    "function",
    "builtin_function_or_method",
    "instance",
    "_Feature"
   ],
   "window_display": false
  }
 },
 "nbformat": 4,
 "nbformat_minor": 5
}
