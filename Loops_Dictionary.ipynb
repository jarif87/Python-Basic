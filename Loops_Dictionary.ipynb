{
  "nbformat": 4,
  "nbformat_minor": 0,
  "metadata": {
    "colab": {
      "provenance": []
    },
    "kernelspec": {
      "name": "python3",
      "display_name": "Python 3"
    },
    "language_info": {
      "name": "python"
    }
  },
  "cells": [
    {
      "cell_type": "code",
      "execution_count": 1,
      "metadata": {
        "colab": {
          "base_uri": "https://localhost:8080/"
        },
        "id": "f6b1BzWPXZH9",
        "outputId": "91e9e9ee-e815-497e-83fd-9c0f06ce17a5"
      },
      "outputs": [
        {
          "name": "stdout",
          "output_type": "stream",
          "text": [
            "Enter Your Text : I don’t own windows, if i upgrade do i now own windows for fr\n"
          ]
        }
      ],
      "source": [
        "count=dict()\n",
        "line=input(\"Enter Your Text : \")\n",
        "words=line.split()"
      ]
    },
    {
      "cell_type": "code",
      "source": [
        "words"
      ],
      "metadata": {
        "colab": {
          "base_uri": "https://localhost:8080/"
        },
        "id": "3QyWNBumXdR8",
        "outputId": "849b7116-c74c-42a1-ac7f-b7201c35d4ad"
      },
      "execution_count": 2,
      "outputs": [
        {
          "output_type": "execute_result",
          "data": {
            "text/plain": [
              "['I',\n",
              " 'don’t',\n",
              " 'own',\n",
              " 'windows,',\n",
              " 'if',\n",
              " 'i',\n",
              " 'upgrade',\n",
              " 'do',\n",
              " 'i',\n",
              " 'now',\n",
              " 'own',\n",
              " 'windows',\n",
              " 'for',\n",
              " 'fr']"
            ]
          },
          "metadata": {},
          "execution_count": 2
        }
      ]
    },
    {
      "cell_type": "code",
      "source": [
        "for word in words:\n",
        "  count[word]=count.get(word,0)+1\n",
        "  print(count)  \n",
        "\n",
        "    \n"
      ],
      "metadata": {
        "colab": {
          "base_uri": "https://localhost:8080/"
        },
        "id": "oySs0QN8XdV8",
        "outputId": "86e2d5b5-3f42-496b-de65-1b0e17848f5b"
      },
      "execution_count": 6,
      "outputs": [
        {
          "output_type": "stream",
          "name": "stdout",
          "text": [
            "{'I': 2, 'don’t': 1, 'own': 2, 'windows,': 1, 'if': 1, 'i': 2, 'upgrade': 1, 'do': 1, 'now': 1, 'windows': 1, 'for': 1, 'fr': 1}\n",
            "{'I': 2, 'don’t': 2, 'own': 2, 'windows,': 1, 'if': 1, 'i': 2, 'upgrade': 1, 'do': 1, 'now': 1, 'windows': 1, 'for': 1, 'fr': 1}\n",
            "{'I': 2, 'don’t': 2, 'own': 3, 'windows,': 1, 'if': 1, 'i': 2, 'upgrade': 1, 'do': 1, 'now': 1, 'windows': 1, 'for': 1, 'fr': 1}\n",
            "{'I': 2, 'don’t': 2, 'own': 3, 'windows,': 2, 'if': 1, 'i': 2, 'upgrade': 1, 'do': 1, 'now': 1, 'windows': 1, 'for': 1, 'fr': 1}\n",
            "{'I': 2, 'don’t': 2, 'own': 3, 'windows,': 2, 'if': 2, 'i': 2, 'upgrade': 1, 'do': 1, 'now': 1, 'windows': 1, 'for': 1, 'fr': 1}\n",
            "{'I': 2, 'don’t': 2, 'own': 3, 'windows,': 2, 'if': 2, 'i': 3, 'upgrade': 1, 'do': 1, 'now': 1, 'windows': 1, 'for': 1, 'fr': 1}\n",
            "{'I': 2, 'don’t': 2, 'own': 3, 'windows,': 2, 'if': 2, 'i': 3, 'upgrade': 2, 'do': 1, 'now': 1, 'windows': 1, 'for': 1, 'fr': 1}\n",
            "{'I': 2, 'don’t': 2, 'own': 3, 'windows,': 2, 'if': 2, 'i': 3, 'upgrade': 2, 'do': 2, 'now': 1, 'windows': 1, 'for': 1, 'fr': 1}\n",
            "{'I': 2, 'don’t': 2, 'own': 3, 'windows,': 2, 'if': 2, 'i': 4, 'upgrade': 2, 'do': 2, 'now': 1, 'windows': 1, 'for': 1, 'fr': 1}\n",
            "{'I': 2, 'don’t': 2, 'own': 3, 'windows,': 2, 'if': 2, 'i': 4, 'upgrade': 2, 'do': 2, 'now': 2, 'windows': 1, 'for': 1, 'fr': 1}\n",
            "{'I': 2, 'don’t': 2, 'own': 4, 'windows,': 2, 'if': 2, 'i': 4, 'upgrade': 2, 'do': 2, 'now': 2, 'windows': 1, 'for': 1, 'fr': 1}\n",
            "{'I': 2, 'don’t': 2, 'own': 4, 'windows,': 2, 'if': 2, 'i': 4, 'upgrade': 2, 'do': 2, 'now': 2, 'windows': 2, 'for': 1, 'fr': 1}\n",
            "{'I': 2, 'don’t': 2, 'own': 4, 'windows,': 2, 'if': 2, 'i': 4, 'upgrade': 2, 'do': 2, 'now': 2, 'windows': 2, 'for': 2, 'fr': 1}\n",
            "{'I': 2, 'don’t': 2, 'own': 4, 'windows,': 2, 'if': 2, 'i': 4, 'upgrade': 2, 'do': 2, 'now': 2, 'windows': 2, 'for': 2, 'fr': 2}\n"
          ]
        }
      ]
    },
    {
      "cell_type": "code",
      "source": [
        "dict0={\"bangla\":20,\"english\":30,\"math\":40}"
      ],
      "metadata": {
        "id": "xZ-pARkBXdac"
      },
      "execution_count": 7,
      "outputs": []
    },
    {
      "cell_type": "code",
      "source": [
        "for key in dict0:\n",
        "  print(key,dict0[key])"
      ],
      "metadata": {
        "colab": {
          "base_uri": "https://localhost:8080/"
        },
        "id": "li0vF9h-Xder",
        "outputId": "df5a1039-1ba9-44ba-ff71-308f4fc68ce8"
      },
      "execution_count": 11,
      "outputs": [
        {
          "output_type": "stream",
          "name": "stdout",
          "text": [
            "bangla 20\n",
            "english 30\n",
            "math 40\n"
          ]
        }
      ]
    },
    {
      "cell_type": "code",
      "source": [
        "dict1={\"bangla\":20,\"english\":30,\"math\":40}"
      ],
      "metadata": {
        "id": "THL54NWnXduq"
      },
      "execution_count": 12,
      "outputs": []
    },
    {
      "cell_type": "code",
      "source": [
        "list(dict1)"
      ],
      "metadata": {
        "colab": {
          "base_uri": "https://localhost:8080/"
        },
        "id": "Mv7QtFBxXdyF",
        "outputId": "c57df794-cc0b-4820-ad01-7c7450a175aa"
      },
      "execution_count": 13,
      "outputs": [
        {
          "output_type": "execute_result",
          "data": {
            "text/plain": [
              "['bangla', 'english', 'math']"
            ]
          },
          "metadata": {},
          "execution_count": 13
        }
      ]
    },
    {
      "cell_type": "code",
      "source": [
        "dict1.keys()"
      ],
      "metadata": {
        "colab": {
          "base_uri": "https://localhost:8080/"
        },
        "id": "h-4IFk3YXd12",
        "outputId": "ed4a428d-f299-46eb-b32b-8949b86c9ddb"
      },
      "execution_count": 14,
      "outputs": [
        {
          "output_type": "execute_result",
          "data": {
            "text/plain": [
              "dict_keys(['bangla', 'english', 'math'])"
            ]
          },
          "metadata": {},
          "execution_count": 14
        }
      ]
    },
    {
      "cell_type": "code",
      "source": [
        "dict1.values()"
      ],
      "metadata": {
        "colab": {
          "base_uri": "https://localhost:8080/"
        },
        "id": "aQqow3pnXd61",
        "outputId": "bfe4b55e-2502-48fb-c207-e23794a5ff99"
      },
      "execution_count": 15,
      "outputs": [
        {
          "output_type": "execute_result",
          "data": {
            "text/plain": [
              "dict_values([20, 30, 40])"
            ]
          },
          "metadata": {},
          "execution_count": 15
        }
      ]
    },
    {
      "cell_type": "code",
      "source": [
        "dict1.items()"
      ],
      "metadata": {
        "colab": {
          "base_uri": "https://localhost:8080/"
        },
        "id": "Uut3gH_LXd_F",
        "outputId": "f8d62759-3ae4-4422-f998-1061d448295a"
      },
      "execution_count": 16,
      "outputs": [
        {
          "output_type": "execute_result",
          "data": {
            "text/plain": [
              "dict_items([('bangla', 20), ('english', 30), ('math', 40)])"
            ]
          },
          "metadata": {},
          "execution_count": 16
        }
      ]
    },
    {
      "cell_type": "markdown",
      "source": [
        "# two iteration variables"
      ],
      "metadata": {
        "id": "Evv9G1piZ3iC"
      }
    },
    {
      "cell_type": "code",
      "source": [
        "dict2={\"name\":\"fariha\",\"age\":30,\"address\":\"dhaka\"}"
      ],
      "metadata": {
        "id": "Pnj2vBPyXeOL"
      },
      "execution_count": 17,
      "outputs": []
    },
    {
      "cell_type": "code",
      "source": [
        "for m,n in dict2.items():\n",
        "  print(f\"{m} ={n}\")"
      ],
      "metadata": {
        "colab": {
          "base_uri": "https://localhost:8080/"
        },
        "id": "i_P1jWt_XeRy",
        "outputId": "e09eb7e1-d91b-4067-edee-fdbfed481a4a"
      },
      "execution_count": 26,
      "outputs": [
        {
          "output_type": "stream",
          "name": "stdout",
          "text": [
            "name =fariha\n",
            "age =30\n",
            "address =dhaka\n"
          ]
        }
      ]
    },
    {
      "cell_type": "code",
      "source": [],
      "metadata": {
        "id": "rjptQHQHXeVg"
      },
      "execution_count": null,
      "outputs": []
    }
  ]
}