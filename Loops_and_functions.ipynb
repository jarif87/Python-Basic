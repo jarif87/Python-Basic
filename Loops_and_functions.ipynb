{
  "nbformat": 4,
  "nbformat_minor": 0,
  "metadata": {
    "colab": {
      "provenance": []
    },
    "kernelspec": {
      "name": "python3",
      "display_name": "Python 3"
    },
    "language_info": {
      "name": "python"
    }
  },
  "cells": [
    {
      "cell_type": "code",
      "execution_count": 2,
      "metadata": {
        "colab": {
          "base_uri": "https://localhost:8080/"
        },
        "id": "dvTmjl8GTfN_",
        "outputId": "958ebfad-aaa0-4cf6-9968-510d56be5435"
      },
      "outputs": [
        {
          "output_type": "stream",
          "name": "stdout",
          "text": [
            "[1, 4, 9, 16, 25, 36]\n"
          ]
        }
      ],
      "source": [
        "result=[]\n",
        "value=[1,2,3,4,5,6]\n",
        "for i in value:\n",
        "  result.append(i*i)\n",
        "print(result)"
      ]
    },
    {
      "cell_type": "code",
      "source": [
        "result=[]\n",
        "value=[1,2,3,4,5,6]\n",
        "for i in value:\n",
        "  result.append(i**i)\n",
        "  print(result)"
      ],
      "metadata": {
        "colab": {
          "base_uri": "https://localhost:8080/"
        },
        "id": "y--5dt3mTh0-",
        "outputId": "7bb0de02-4dff-49a0-dd53-a249a994dec5"
      },
      "execution_count": 4,
      "outputs": [
        {
          "output_type": "stream",
          "name": "stdout",
          "text": [
            "[1]\n",
            "[1, 4]\n",
            "[1, 4, 27]\n",
            "[1, 4, 27, 256]\n",
            "[1, 4, 27, 256, 3125]\n",
            "[1, 4, 27, 256, 3125, 46656]\n"
          ]
        }
      ]
    },
    {
      "cell_type": "code",
      "source": [
        "[x*x for x in value]"
      ],
      "metadata": {
        "colab": {
          "base_uri": "https://localhost:8080/"
        },
        "id": "zYgR7UhuTiCy",
        "outputId": "279c79c0-2d10-479d-ac4e-1bffee6bca84"
      },
      "execution_count": 6,
      "outputs": [
        {
          "output_type": "execute_result",
          "data": {
            "text/plain": [
              "[1, 4, 9, 16, 25, 36]"
            ]
          },
          "metadata": {},
          "execution_count": 6
        }
      ]
    }
  ]
}