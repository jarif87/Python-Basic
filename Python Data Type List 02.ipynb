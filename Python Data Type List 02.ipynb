{
 "cells": [
  {
   "cell_type": "code",
   "execution_count": 6,
   "metadata": {},
   "outputs": [
    {
     "data": {
      "text/plain": [
       "['dhaka', 'bangla', 'khulna', 'dinajpur', 12, 3, 4, 5, 6, 7, 8, 10]"
      ]
     },
     "execution_count": 6,
     "metadata": {},
     "output_type": "execute_result"
    }
   ],
   "source": [
    "# index of an item in a list\n",
    "list_1=[\"dhaka\",\"bangla\",\"khulna\",\"dinajpur\",12,3,4,5,6,7,8,10]\n",
    "list_1"
   ]
  },
  {
   "cell_type": "code",
   "execution_count": 7,
   "metadata": {},
   "outputs": [
    {
     "name": "stdout",
     "output_type": "stream",
     "text": [
      "['dhaka', 'bangla', 'khulna', 'dinajpur', 12, 3, 4, 5, 6, 7, 8, 10]\n"
     ]
    }
   ],
   "source": [
    "list_1.index(\"khulna\")\n",
    "print(list_1)"
   ]
  },
  {
   "cell_type": "code",
   "execution_count": 8,
   "metadata": {},
   "outputs": [
    {
     "name": "stdout",
     "output_type": "stream",
     "text": [
      "['dhaka', 'horse', 'bangla', 'khulna', 'dinajpur', 12, 3, 4, 5, 6, 7, 8, 10]\n"
     ]
    }
   ],
   "source": [
    "list_1.insert(1,\"horse\")\n",
    "print(list_1)"
   ]
  },
  {
   "cell_type": "code",
   "execution_count": 11,
   "metadata": {},
   "outputs": [
    {
     "data": {
      "text/plain": [
       "[[1, 2, 3, 4], [4, 5, 6, 7], [7, 8, 9, 10]]"
      ]
     },
     "execution_count": 11,
     "metadata": {},
     "output_type": "execute_result"
    }
   ],
   "source": [
    "list_2=[1,2,3,4,5,6,7,\"bangla\",\"english\",\"math\",\"cat\"]\n",
    "my_list=[[1,2,3,4],\n",
    "         [4,5,6,7],\n",
    "         [7,8,9,10]]\n",
    "my_list"
   ]
  },
  {
   "cell_type": "code",
   "execution_count": 13,
   "metadata": {},
   "outputs": [
    {
     "data": {
      "text/plain": [
       "[1, 2, 3, 4, 4, 5, 6, 7, 7, 8, 9, 10]"
      ]
     },
     "execution_count": 13,
     "metadata": {},
     "output_type": "execute_result"
    }
   ],
   "source": [
    "flatten_list=[i for  sublist in my_list for i in sublist]\n",
    "flatten_list"
   ]
  },
  {
   "cell_type": "code",
   "execution_count": 15,
   "metadata": {},
   "outputs": [
    {
     "name": "stdout",
     "output_type": "stream",
     "text": [
      "['dhaka', 'horse', 'bangla', 'khulna', 'dinajpur', 12, 3, 4, 5, 6, 7, 8, 10]\n"
     ]
    }
   ],
   "source": [
    "copy_list=list_1.copy()\n",
    "print(copy_list)"
   ]
  },
  {
   "cell_type": "code",
   "execution_count": 16,
   "metadata": {},
   "outputs": [
    {
     "name": "stdout",
     "output_type": "stream",
     "text": [
      "['dhaka', 'horse', 'bangla', 'khulna', 'dinajpur', 12, 3, 4, 5, 6, 7, 8, 10]\n",
      "+++++++++++++++++++++++++++++++++++++++\n",
      "[1, 2, 3, 4, 5, 6, 7, 'bangla', 'english', 'math', 'cat']\n"
     ]
    }
   ],
   "source": [
    "print(list_1)\n",
    "print(\"+++++++++++++++++++++++++++++++++++++++\")\n",
    "print(list_2)"
   ]
  },
  {
   "cell_type": "code",
   "execution_count": 17,
   "metadata": {},
   "outputs": [
    {
     "name": "stdout",
     "output_type": "stream",
     "text": [
      "[('dhaka', 1), ('horse', 2), ('bangla', 3), ('khulna', 4), ('dinajpur', 5), (12, 6), (3, 7), (4, 'bangla'), (5, 'english'), (6, 'math'), (7, 'cat')]\n"
     ]
    }
   ],
   "source": [
    "z=list(zip(list_1,list_2))\n",
    "print(z)"
   ]
  },
  {
   "cell_type": "code",
   "execution_count": 18,
   "metadata": {},
   "outputs": [
    {
     "name": "stdout",
     "output_type": "stream",
     "text": [
      "['p', 'p', 'p', 'p', 'p', 'p', 'p', 'p', 'p', 'p']\n"
     ]
    }
   ],
   "source": [
    "list_3=[\"p\"]*10\n",
    "print(list_3)"
   ]
  },
  {
   "cell_type": "code",
   "execution_count": 19,
   "metadata": {},
   "outputs": [
    {
     "data": {
      "text/plain": [
       "['dhaka', 'horse', 'bangla', 'khulna', 'dinajpur', 12, 3, 4, 5, 6, 7, 8, 10]"
      ]
     },
     "execution_count": 19,
     "metadata": {},
     "output_type": "execute_result"
    }
   ],
   "source": [
    "list_1"
   ]
  },
  {
   "cell_type": "code",
   "execution_count": 23,
   "metadata": {},
   "outputs": [
    {
     "name": "stdout",
     "output_type": "stream",
     "text": [
      "1 ODD\n",
      "2 EVEN\n",
      "3 ODD\n",
      "4 EVEN\n",
      "5 ODD\n",
      "6 EVEN\n",
      "7 ODD\n",
      "8 EVEN\n",
      "9 ODD\n"
     ]
    }
   ],
   "source": [
    "list_4=[1,2,3,4,5,6,7,8,9]\n",
    "for x in list_4:\n",
    "    if x%2==0:\n",
    "        print(x,\"EVEN\")\n",
    "    else:\n",
    "        print(x,\"ODD\")"
   ]
  },
  {
   "cell_type": "code",
   "execution_count": 26,
   "metadata": {},
   "outputs": [
    {
     "data": {
      "text/plain": [
       "[1, 3, 5, 7, 9]"
      ]
     },
     "execution_count": 26,
     "metadata": {},
     "output_type": "execute_result"
    }
   ],
   "source": [
    "filter_list=[i for i in list_4 if i%2!=0]\n",
    "filter_list"
   ]
  },
  {
   "cell_type": "code",
   "execution_count": 28,
   "metadata": {},
   "outputs": [
    {
     "data": {
      "text/plain": [
       "{1: 'one', 2: 'two', 3: 'three'}"
      ]
     },
     "execution_count": 28,
     "metadata": {},
     "output_type": "execute_result"
    }
   ],
   "source": [
    "# list to dicrectory\n",
    "list_key=[1,2,3]\n",
    "list_value=[\"one\",\"two\",\"three\"]\n",
    "my_new_dic=dict(zip(list_key,list_value))\n",
    "my_new_dic"
   ]
  },
  {
   "cell_type": "code",
   "execution_count": 29,
   "metadata": {},
   "outputs": [
    {
     "data": {
      "text/plain": [
       "(['dhaka', 'horse', 'bangla', 'khulna', 'dinajpur', 12, 3, 4, 5, 6, 7, 8, 10],\n",
       " [1, 2, 3, 4, 5, 6, 7, 'bangla', 'english', 'math', 'cat'])"
      ]
     },
     "execution_count": 29,
     "metadata": {},
     "output_type": "execute_result"
    }
   ],
   "source": [
    "list_1,list_2"
   ]
  },
  {
   "cell_type": "code",
   "execution_count": 30,
   "metadata": {},
   "outputs": [
    {
     "data": {
      "text/plain": [
       "[3, 4, 5, 6, 7, 'bangla']"
      ]
     },
     "execution_count": 30,
     "metadata": {},
     "output_type": "execute_result"
    }
   ],
   "source": [
    "new=list(set(list_1)& set(list_2))\n",
    "new"
   ]
  },
  {
   "cell_type": "code",
   "execution_count": 31,
   "metadata": {},
   "outputs": [
    {
     "data": {
      "text/plain": [
       "{3, 4, 5, 6, 7, 'bangla'}"
      ]
     },
     "execution_count": 31,
     "metadata": {},
     "output_type": "execute_result"
    }
   ],
   "source": [
    "new1=set(list_1).intersection(list_2)\n",
    "new1"
   ]
  },
  {
   "cell_type": "code",
   "execution_count": 32,
   "metadata": {},
   "outputs": [
    {
     "name": "stdout",
     "output_type": "stream",
     "text": [
      "[3, 4, 5, 6, 7, 'bangla']\n"
     ]
    }
   ],
   "source": [
    "new2=list(new1)\n",
    "print(new2)"
   ]
  },
  {
   "cell_type": "code",
   "execution_count": 35,
   "metadata": {},
   "outputs": [
    {
     "name": "stdout",
     "output_type": "stream",
     "text": [
      "['b', 'a', 'n', 'g', 'l', 'a', 'd', 'e', 's', 'h', ' ', 'i', 's', ' ', 'a', ' ', 'p', 'o', 'o', 'r', ' ', 'c', 'o', 'u', 'n', 't', 'r', 'y']\n"
     ]
    }
   ],
   "source": [
    "x=\"bangladesh is a poor country\"\n",
    "x=list(x)\n",
    "char_list=[ch for ch in x]\n",
    "print(char_list)"
   ]
  },
  {
   "cell_type": "code",
   "execution_count": null,
   "metadata": {},
   "outputs": [],
   "source": []
  }
 ],
 "metadata": {
  "kernelspec": {
   "display_name": "Python 3",
   "language": "python",
   "name": "python3"
  },
  "language_info": {
   "codemirror_mode": {
    "name": "ipython",
    "version": 3
   },
   "file_extension": ".py",
   "mimetype": "text/x-python",
   "name": "python",
   "nbconvert_exporter": "python",
   "pygments_lexer": "ipython3",
   "version": "3.12.0"
  }
 },
 "nbformat": 4,
 "nbformat_minor": 2
}
