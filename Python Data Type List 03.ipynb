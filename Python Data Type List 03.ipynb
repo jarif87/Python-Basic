{
 "cells": [
  {
   "cell_type": "code",
   "execution_count": 3,
   "metadata": {},
   "outputs": [
    {
     "name": "stdout",
     "output_type": "stream",
     "text": [
      "['e', 'n', 'g', 'l', 'i', 's', 'h', ' ', 'i', 's', ' ', 'g', 'o', 'o', 'd', ' ', 's', 'u', 'b', 'j', 'e', 'c', 't']\n"
     ]
    }
   ],
   "source": [
    "my_list=\"english is good subject\"\n",
    "my_list=list(my_list)\n",
    "cha=[x for x in my_list]\n",
    "print(cha)"
   ]
  },
  {
   "cell_type": "code",
   "execution_count": 6,
   "metadata": {},
   "outputs": [
    {
     "name": "stdout",
     "output_type": "stream",
     "text": [
      "[4, 5, 1.4, 5, 3, 4, 2, 6, 6]\n"
     ]
    }
   ],
   "source": [
    "import random\n",
    "a=[1.4,4,6,5,2,3,4,5,6]\n",
    "random.shuffle(a)\n",
    "print(a)"
   ]
  },
  {
   "cell_type": "code",
   "execution_count": 8,
   "metadata": {},
   "outputs": [
    {
     "name": "stdout",
     "output_type": "stream",
     "text": [
      "['e', 'n', 'g', 'l', 'i', 's', 'h', ' ', 'i', 's', ' ', 'g', 'o', 'o', 'd', ' ', 's', 'u', 'b', 'j', 'e', 'c', 't']\n"
     ]
    }
   ],
   "source": [
    "char=[]\n",
    "for m in my_list:\n",
    "    char.append(m)\n",
    "print(char)"
   ]
  },
  {
   "cell_type": "code",
   "execution_count": 13,
   "metadata": {},
   "outputs": [
    {
     "name": "stdout",
     "output_type": "stream",
     "text": [
      "[1.4, 4, 6, 5, 2, 3, 1]\n"
     ]
    }
   ],
   "source": [
    "b=[1.4,4,6,5,2,3,4,5,6,1.4,1]\n",
    "unique_list=[]\n",
    "for i in b:\n",
    "    if i not in unique_list:\n",
    "        unique_list.append(i)\n",
    "print(unique_list)\n"
   ]
  },
  {
   "cell_type": "code",
   "execution_count": 16,
   "metadata": {},
   "outputs": [
    {
     "name": "stdout",
     "output_type": "stream",
     "text": [
      "[8, 5, 6]\n"
     ]
    }
   ],
   "source": [
    "a=[1,2,3,4,5,6,7,8]\n",
    "b=[11,12,13,1,2,3,4,7]\n",
    "diff=list(set(a)-set(b))\n",
    "print(diff)"
   ]
  },
  {
   "cell_type": "code",
   "execution_count": 15,
   "metadata": {},
   "outputs": [
    {
     "data": {
      "text/plain": [
       "(8, 8)"
      ]
     },
     "execution_count": 15,
     "metadata": {},
     "output_type": "execute_result"
    }
   ],
   "source": [
    "len(a),len(b)"
   ]
  },
  {
   "cell_type": "code",
   "execution_count": 18,
   "metadata": {},
   "outputs": [],
   "source": [
    "c=[1,2,3,4,5,6,6,7]"
   ]
  },
  {
   "cell_type": "code",
   "execution_count": 19,
   "metadata": {},
   "outputs": [
    {
     "name": "stdout",
     "output_type": "stream",
     "text": [
      "[1, 2, 3, 4, 5, 6, 7, 8, 11, 12, 13, 1, 2, 3, 4, 7, 1, 2, 3, 4, 5, 6, 6, 7]\n"
     ]
    }
   ],
   "source": [
    "combine_list=[*a,*b,*c]\n",
    "print(combine_list)"
   ]
  },
  {
   "cell_type": "code",
   "execution_count": 21,
   "metadata": {},
   "outputs": [
    {
     "name": "stdout",
     "output_type": "stream",
     "text": [
      "123\n"
     ]
    }
   ],
   "source": [
    "v=[1, 2, 3, 4, 5, 6, 7, 8, 11, 12, 13, 1, 2, 3, 4, 7, 1, 2, 3, 4, 5, 6, 6, 7]\n",
    "list_sum=sum(v)\n",
    "print(list_sum)"
   ]
  },
  {
   "cell_type": "code",
   "execution_count": 23,
   "metadata": {},
   "outputs": [
    {
     "name": "stdout",
     "output_type": "stream",
     "text": [
      "bangla english math\n"
     ]
    }
   ],
   "source": [
    "x=[\"bangla\",\"english\",\"math\"]\n",
    "c=\" \".join(x)\n",
    "print(c)"
   ]
  },
  {
   "cell_type": "code",
   "execution_count": 26,
   "metadata": {},
   "outputs": [
    {
     "data": {
      "text/plain": [
       "['a', 'c', 'b']"
      ]
     },
     "execution_count": 26,
     "metadata": {},
     "output_type": "execute_result"
    }
   ],
   "source": [
    "list_1=[\"a\",\"b\",\"c\"]\n",
    "list_2=[1,3,2]\n",
    "sort_list=[i for _, i in sorted(zip(list_2,list_1))]\n",
    "sort_list"
   ]
  },
  {
   "cell_type": "code",
   "execution_count": 29,
   "metadata": {},
   "outputs": [
    {
     "data": {
      "text/plain": [
       "[1, 2, 3, 4, 5, 6, 8]"
      ]
     },
     "execution_count": 29,
     "metadata": {},
     "output_type": "execute_result"
    }
   ],
   "source": [
    "list_3=[1,2,3,4,5,6,7,8]\n",
    "c=[i for i in list_3 if i!=7]\n",
    "c"
   ]
  },
  {
   "cell_type": "code",
   "execution_count": 31,
   "metadata": {},
   "outputs": [
    {
     "name": "stdout",
     "output_type": "stream",
     "text": [
      "[2, 3, 4, 5, 6, 7, 8, 9]\n"
     ]
    }
   ],
   "source": [
    "x=list(range(2,10))\n",
    "print(x)"
   ]
  }
 ],
 "metadata": {
  "kernelspec": {
   "display_name": "Python 3",
   "language": "python",
   "name": "python3"
  },
  "language_info": {
   "codemirror_mode": {
    "name": "ipython",
    "version": 3
   },
   "file_extension": ".py",
   "mimetype": "text/x-python",
   "name": "python",
   "nbconvert_exporter": "python",
   "pygments_lexer": "ipython3",
   "version": "3.12.0"
  }
 },
 "nbformat": 4,
 "nbformat_minor": 2
}
