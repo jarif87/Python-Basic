{
 "cells": [
  {
   "cell_type": "code",
   "execution_count": 2,
   "metadata": {},
   "outputs": [
    {
     "data": {
      "text/plain": [
       "[[1, 2], [3, 4], [5, 6], [7, 8]]"
      ]
     },
     "execution_count": 2,
     "metadata": {},
     "output_type": "execute_result"
    }
   ],
   "source": [
    "list_1=[1,2,3,4,5,6,7,8]\n",
    "def chunk_list(list_1,list_size):\n",
    "    return [list_1[i:i+list_size] for i in range(0,len(list_1),list_size)]\n",
    "chunk=chunk_list(list_1,2)\n",
    "chunk"
   ]
  },
  {
   "cell_type": "code",
   "execution_count": 4,
   "metadata": {},
   "outputs": [
    {
     "data": {
      "text/plain": [
       "[25, 26, 12, 27, 10]"
      ]
     },
     "execution_count": 4,
     "metadata": {},
     "output_type": "execute_result"
    }
   ],
   "source": [
    "import random\n",
    "random_value=random.sample(range(1,30),5)\n",
    "random_value"
   ]
  },
  {
   "cell_type": "code",
   "execution_count": 6,
   "metadata": {},
   "outputs": [
    {
     "data": {
      "text/plain": [
       "[(5, 4), (55, 3), (2, 2), (3, 2), (1, 1), (4, 1), (6, 1), (7, 1), (89, 1)]"
      ]
     },
     "execution_count": 6,
     "metadata": {},
     "output_type": "execute_result"
    }
   ],
   "source": [
    "from collections import Counter\n",
    "list_2=[1,2,3,3,2,4,55,55,55,5,5,5,5,6,7,89]\n",
    "c=Counter(list_2).most_common()\n",
    "c"
   ]
  },
  {
   "cell_type": "code",
   "execution_count": 7,
   "metadata": {},
   "outputs": [
    {
     "data": {
      "text/plain": [
       "'1,2,3,3,2,4,55,55,55,5,5,5,5,6,7,89'"
      ]
     },
     "execution_count": 7,
     "metadata": {},
     "output_type": "execute_result"
    }
   ],
   "source": [
    "comma=\",\".join(str(i) for i in list_2)\n",
    "comma"
   ]
  },
  {
   "cell_type": "code",
   "execution_count": 11,
   "metadata": {},
   "outputs": [
    {
     "data": {
      "text/plain": [
       "[1, 4, 9, 16, 25, 36, 49, 64, 81]"
      ]
     },
     "execution_count": 11,
     "metadata": {},
     "output_type": "execute_result"
    }
   ],
   "source": [
    "new_list=[i**2 for i in range(1,10)]\n",
    "new_list"
   ]
  },
  {
   "cell_type": "code",
   "execution_count": 13,
   "metadata": {},
   "outputs": [
    {
     "data": {
      "text/plain": [
       "[1, 2, 3, 4, 5, 6]"
      ]
     },
     "execution_count": 13,
     "metadata": {},
     "output_type": "execute_result"
    }
   ],
   "source": [
    "new_list=[[1,2],[3,4],[5,6]]\n",
    "col_list=sum(new_list,[])\n",
    "col_list"
   ]
  },
  {
   "cell_type": "code",
   "execution_count": 16,
   "metadata": {},
   "outputs": [
    {
     "data": {
      "text/plain": [
       "[(1, 2),\n",
       " (1, 3),\n",
       " (1, 3),\n",
       " (1, 2),\n",
       " (1, 4),\n",
       " (1, 55),\n",
       " (1, 55),\n",
       " (1, 55),\n",
       " (1, 5),\n",
       " (1, 5),\n",
       " (1, 5),\n",
       " (1, 5),\n",
       " (1, 6),\n",
       " (1, 7),\n",
       " (1, 89),\n",
       " (2, 3),\n",
       " (2, 3),\n",
       " (2, 2),\n",
       " (2, 4),\n",
       " (2, 55),\n",
       " (2, 55),\n",
       " (2, 55),\n",
       " (2, 5),\n",
       " (2, 5),\n",
       " (2, 5),\n",
       " (2, 5),\n",
       " (2, 6),\n",
       " (2, 7),\n",
       " (2, 89),\n",
       " (3, 3),\n",
       " (3, 2),\n",
       " (3, 4),\n",
       " (3, 55),\n",
       " (3, 55),\n",
       " (3, 55),\n",
       " (3, 5),\n",
       " (3, 5),\n",
       " (3, 5),\n",
       " (3, 5),\n",
       " (3, 6),\n",
       " (3, 7),\n",
       " (3, 89),\n",
       " (3, 2),\n",
       " (3, 4),\n",
       " (3, 55),\n",
       " (3, 55),\n",
       " (3, 55),\n",
       " (3, 5),\n",
       " (3, 5),\n",
       " (3, 5),\n",
       " (3, 5),\n",
       " (3, 6),\n",
       " (3, 7),\n",
       " (3, 89),\n",
       " (2, 4),\n",
       " (2, 55),\n",
       " (2, 55),\n",
       " (2, 55),\n",
       " (2, 5),\n",
       " (2, 5),\n",
       " (2, 5),\n",
       " (2, 5),\n",
       " (2, 6),\n",
       " (2, 7),\n",
       " (2, 89),\n",
       " (4, 55),\n",
       " (4, 55),\n",
       " (4, 55),\n",
       " (4, 5),\n",
       " (4, 5),\n",
       " (4, 5),\n",
       " (4, 5),\n",
       " (4, 6),\n",
       " (4, 7),\n",
       " (4, 89),\n",
       " (55, 55),\n",
       " (55, 55),\n",
       " (55, 5),\n",
       " (55, 5),\n",
       " (55, 5),\n",
       " (55, 5),\n",
       " (55, 6),\n",
       " (55, 7),\n",
       " (55, 89),\n",
       " (55, 55),\n",
       " (55, 5),\n",
       " (55, 5),\n",
       " (55, 5),\n",
       " (55, 5),\n",
       " (55, 6),\n",
       " (55, 7),\n",
       " (55, 89),\n",
       " (55, 5),\n",
       " (55, 5),\n",
       " (55, 5),\n",
       " (55, 5),\n",
       " (55, 6),\n",
       " (55, 7),\n",
       " (55, 89),\n",
       " (5, 5),\n",
       " (5, 5),\n",
       " (5, 5),\n",
       " (5, 6),\n",
       " (5, 7),\n",
       " (5, 89),\n",
       " (5, 5),\n",
       " (5, 5),\n",
       " (5, 6),\n",
       " (5, 7),\n",
       " (5, 89),\n",
       " (5, 5),\n",
       " (5, 6),\n",
       " (5, 7),\n",
       " (5, 89),\n",
       " (5, 6),\n",
       " (5, 7),\n",
       " (5, 89),\n",
       " (6, 7),\n",
       " (6, 89),\n",
       " (7, 89)]"
      ]
     },
     "execution_count": 16,
     "metadata": {},
     "output_type": "execute_result"
    }
   ],
   "source": [
    "import itertools\n",
    "list_2=[1,2,3,3,2,4,55,55,55,5,5,5,5,6,7,89]\n",
    "\n",
    "new_comb=list(itertools.combinations(list_2,2))\n",
    "new_comb"
   ]
  },
  {
   "cell_type": "code",
   "execution_count": 18,
   "metadata": {},
   "outputs": [
    {
     "data": {
      "text/plain": [
       "[[1, 1, 1, 1], [1, 1, 1, 1], [1, 1, 1, 1], [1, 1, 1, 1]]"
      ]
     },
     "execution_count": 18,
     "metadata": {},
     "output_type": "execute_result"
    }
   ],
   "source": [
    "row=4\n",
    "col=4\n",
    "custom_matrix=[[1 for _ in range(col)] for _ in range(row)]\n",
    "custom_matrix"
   ]
  },
  {
   "cell_type": "code",
   "execution_count": 19,
   "metadata": {},
   "outputs": [
    {
     "data": {
      "text/plain": [
       "[2, 4, 6]"
      ]
     },
     "execution_count": 19,
     "metadata": {},
     "output_type": "execute_result"
    }
   ],
   "source": [
    "new_list=[[1,2],[3,4],[5,6]]\n",
    "col_value=[row[1] for row in new_list]\n",
    "col_value"
   ]
  },
  {
   "cell_type": "code",
   "execution_count": 21,
   "metadata": {},
   "outputs": [
    {
     "data": {
      "text/plain": [
       "[(1, 6), (2, 7), (3, 8), (4, 9), (5, 10)]"
      ]
     },
     "execution_count": 21,
     "metadata": {},
     "output_type": "execute_result"
    }
   ],
   "source": [
    "new_0=[1,2,3,4,5]\n",
    "new_1=[6,7,8,9,10]\n",
    "pair=list(itertools.zip_longest(new_0,new_1,fillvalue=0))\n",
    "pair"
   ]
  },
  {
   "cell_type": "code",
   "execution_count": null,
   "metadata": {},
   "outputs": [],
   "source": []
  },
  {
   "cell_type": "code",
   "execution_count": null,
   "metadata": {},
   "outputs": [],
   "source": []
  }
 ],
 "metadata": {
  "kernelspec": {
   "display_name": "Python 3",
   "language": "python",
   "name": "python3"
  },
  "language_info": {
   "codemirror_mode": {
    "name": "ipython",
    "version": 3
   },
   "file_extension": ".py",
   "mimetype": "text/x-python",
   "name": "python",
   "nbconvert_exporter": "python",
   "pygments_lexer": "ipython3",
   "version": "3.12.0"
  }
 },
 "nbformat": 4,
 "nbformat_minor": 2
}
