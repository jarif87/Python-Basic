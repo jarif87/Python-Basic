{
  "nbformat": 4,
  "nbformat_minor": 0,
  "metadata": {
    "colab": {
      "provenance": []
    },
    "kernelspec": {
      "name": "python3",
      "display_name": "Python 3"
    },
    "language_info": {
      "name": "python"
    }
  },
  "cells": [
    {
      "cell_type": "code",
      "execution_count": 136,
      "metadata": {
        "id": "QwpzZrGAw6at"
      },
      "outputs": [],
      "source": [
        "import re"
      ]
    },
    {
      "cell_type": "code",
      "source": [
        "x=\"My two favourite numbers are 19 and 42\""
      ],
      "metadata": {
        "id": "YpVIN2hkxHKH"
      },
      "execution_count": 137,
      "outputs": []
    },
    {
      "cell_type": "code",
      "source": [
        "y=re.findall(\"[0-9]+\",x)\n",
        "print(y)"
      ],
      "metadata": {
        "colab": {
          "base_uri": "https://localhost:8080/"
        },
        "id": "ic2FwRtOxHOo",
        "outputId": "1c48c130-57f9-4ffb-f438-8941fca03618"
      },
      "execution_count": 138,
      "outputs": [
        {
          "output_type": "stream",
          "name": "stdout",
          "text": [
            "['19', '42']\n"
          ]
        }
      ]
    },
    {
      "cell_type": "code",
      "source": [
        "y=re.findall(\"[0-9]\",x)\n",
        "print(y)"
      ],
      "metadata": {
        "colab": {
          "base_uri": "https://localhost:8080/"
        },
        "id": "5S3zOzekxHTB",
        "outputId": "69ca291f-3143-4928-f1b5-349c76ffe55a"
      },
      "execution_count": 139,
      "outputs": [
        {
          "output_type": "stream",
          "name": "stdout",
          "text": [
            "['1', '9', '4', '2']\n"
          ]
        }
      ]
    },
    {
      "cell_type": "code",
      "source": [
        "r=re.findall(\"[AEIOU]+\",x)"
      ],
      "metadata": {
        "id": "uyyMWIb_xHWW"
      },
      "execution_count": 140,
      "outputs": []
    },
    {
      "cell_type": "code",
      "source": [
        "print(r)"
      ],
      "metadata": {
        "colab": {
          "base_uri": "https://localhost:8080/"
        },
        "id": "BYlwwxTqxHiw",
        "outputId": "f3e9bffc-355a-453c-8ca0-98b0844cf735"
      },
      "execution_count": 141,
      "outputs": [
        {
          "output_type": "stream",
          "name": "stdout",
          "text": [
            "[]\n"
          ]
        }
      ]
    },
    {
      "cell_type": "code",
      "source": [
        "m=\"From : Using the : character\""
      ],
      "metadata": {
        "id": "obdNNlQ0xHlx"
      },
      "execution_count": 142,
      "outputs": []
    },
    {
      "cell_type": "markdown",
      "source": [
        "# greedy matching"
      ],
      "metadata": {
        "id": "18BiEpTL0BDB"
      }
    },
    {
      "cell_type": "code",
      "source": [
        "n=re.findall(\"^F.+:\",m)"
      ],
      "metadata": {
        "id": "FM3103ECxHp7"
      },
      "execution_count": 143,
      "outputs": []
    },
    {
      "cell_type": "code",
      "source": [
        "print(n)"
      ],
      "metadata": {
        "colab": {
          "base_uri": "https://localhost:8080/"
        },
        "id": "B-5X3HKxxHtl",
        "outputId": "cf3eb8ba-e2c1-4f60-b9a9-c1e42309ccf5"
      },
      "execution_count": 144,
      "outputs": [
        {
          "output_type": "stream",
          "name": "stdout",
          "text": [
            "['From : Using the :']\n"
          ]
        }
      ]
    },
    {
      "cell_type": "markdown",
      "source": [
        "# non greedy matching"
      ],
      "metadata": {
        "id": "oEJma-qR0EBs"
      }
    },
    {
      "cell_type": "code",
      "source": [
        "a=re.findall(\"^F.+?:\",m)"
      ],
      "metadata": {
        "id": "9HQWeMgH0HVC"
      },
      "execution_count": 145,
      "outputs": []
    },
    {
      "cell_type": "code",
      "source": [
        "print(a)"
      ],
      "metadata": {
        "colab": {
          "base_uri": "https://localhost:8080/"
        },
        "id": "XTZOR_mG0HQj",
        "outputId": "8c35d041-b82d-4f1b-ec3a-35eb85ab639d"
      },
      "execution_count": 146,
      "outputs": [
        {
          "output_type": "stream",
          "name": "stdout",
          "text": [
            "['From :']\n"
          ]
        }
      ]
    },
    {
      "cell_type": "markdown",
      "source": [
        "# string extraction"
      ],
      "metadata": {
        "id": "aVOslmJA0zX5"
      }
    },
    {
      "cell_type": "code",
      "source": [
        "c=\"From stephen.marquard@uct.ac.za\""
      ],
      "metadata": {
        "id": "SdKECuZm0HM4"
      },
      "execution_count": 147,
      "outputs": []
    },
    {
      "cell_type": "code",
      "source": [
        "y=re.findall(\"\\S+@\\S+\",c)"
      ],
      "metadata": {
        "id": "Vgz1Eec_0HIf"
      },
      "execution_count": 148,
      "outputs": []
    },
    {
      "cell_type": "code",
      "source": [
        "print(y)"
      ],
      "metadata": {
        "colab": {
          "base_uri": "https://localhost:8080/"
        },
        "id": "gbbWmODvxHyA",
        "outputId": "d6f51c43-43f4-47da-eb71-4cced37fde66"
      },
      "execution_count": 149,
      "outputs": [
        {
          "output_type": "stream",
          "name": "stdout",
          "text": [
            "['stephen.marquard@uct.ac.za']\n"
          ]
        }
      ]
    },
    {
      "cell_type": "code",
      "source": [
        "g=\"From stephen.marquard@uct.ac.za\""
      ],
      "metadata": {
        "id": "WYdAG3Qc15p1"
      },
      "execution_count": 150,
      "outputs": []
    },
    {
      "cell_type": "code",
      "source": [
        "v=re.findall(\"^From (\\S+@\\S+)\",g)"
      ],
      "metadata": {
        "id": "DuBnWXqg1OUz"
      },
      "execution_count": 151,
      "outputs": []
    },
    {
      "cell_type": "code",
      "source": [
        "v"
      ],
      "metadata": {
        "colab": {
          "base_uri": "https://localhost:8080/"
        },
        "id": "WKxeWFZC1OQ3",
        "outputId": "0affa063-23bb-4956-dc7d-0b8c0057e4c7"
      },
      "execution_count": 152,
      "outputs": [
        {
          "output_type": "execute_result",
          "data": {
            "text/plain": [
              "['stephen.marquard@uct.ac.za']"
            ]
          },
          "metadata": {},
          "execution_count": 152
        }
      ]
    },
    {
      "cell_type": "code",
      "source": [
        "s = 'A message from csev@umich.edu to cwen@iupui.edu about meeting @2PM'\n",
        "lst = re.findall('\\\\S+@\\\\S+', s)\n",
        "print(lst)"
      ],
      "metadata": {
        "colab": {
          "base_uri": "https://localhost:8080/"
        },
        "id": "CPAqfr2M1OM4",
        "outputId": "a4edf80c-d61d-4370-c948-f87f04269e86"
      },
      "execution_count": 153,
      "outputs": [
        {
          "output_type": "stream",
          "name": "stdout",
          "text": [
            "['csev@umich.edu', 'cwen@iupui.edu']\n"
          ]
        }
      ]
    },
    {
      "cell_type": "code",
      "source": [],
      "metadata": {
        "id": "v0bhDoi01Nhr"
      },
      "execution_count": 152,
      "outputs": []
    }
  ]
}