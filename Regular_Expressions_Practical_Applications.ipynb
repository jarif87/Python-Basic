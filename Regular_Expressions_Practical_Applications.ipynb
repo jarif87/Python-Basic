{
  "nbformat": 4,
  "nbformat_minor": 0,
  "metadata": {
    "colab": {
      "provenance": []
    },
    "kernelspec": {
      "name": "python3",
      "display_name": "Python 3"
    },
    "language_info": {
      "name": "python"
    }
  },
  "cells": [
    {
      "cell_type": "code",
      "execution_count": 1,
      "metadata": {
        "id": "Tz_ouUDVAmgn"
      },
      "outputs": [],
      "source": [
        "data=\"From stephen.marquard@uct.ac.za Sat Jan 5 09 : 14 :16 2023\""
      ]
    },
    {
      "cell_type": "code",
      "source": [
        "x=data.find(\"@\")"
      ],
      "metadata": {
        "id": "npSoCw3mAonl"
      },
      "execution_count": 2,
      "outputs": []
    },
    {
      "cell_type": "code",
      "source": [
        "x"
      ],
      "metadata": {
        "colab": {
          "base_uri": "https://localhost:8080/"
        },
        "id": "yHD35nuCAot0",
        "outputId": "09c3b5c0-9777-43d7-e016-38d5cd08b14f"
      },
      "execution_count": 3,
      "outputs": [
        {
          "output_type": "execute_result",
          "data": {
            "text/plain": [
              "21"
            ]
          },
          "metadata": {},
          "execution_count": 3
        }
      ]
    },
    {
      "cell_type": "code",
      "source": [
        "y=data.find(\" \",x)"
      ],
      "metadata": {
        "id": "qcVcvtNOAowE"
      },
      "execution_count": 4,
      "outputs": []
    },
    {
      "cell_type": "code",
      "source": [
        "y"
      ],
      "metadata": {
        "colab": {
          "base_uri": "https://localhost:8080/"
        },
        "id": "ZOD0FhEDAo1L",
        "outputId": "faf24f27-8e8c-4ba4-b022-d5684bda73c8"
      },
      "execution_count": 5,
      "outputs": [
        {
          "output_type": "execute_result",
          "data": {
            "text/plain": [
              "31"
            ]
          },
          "metadata": {},
          "execution_count": 5
        }
      ]
    },
    {
      "cell_type": "code",
      "source": [
        "data[x+1 : y]"
      ],
      "metadata": {
        "colab": {
          "base_uri": "https://localhost:8080/",
          "height": 34
        },
        "id": "9ODb8-zwAo5G",
        "outputId": "57ec0170-f438-42e5-9e64-24c67b5c29a7"
      },
      "execution_count": 6,
      "outputs": [
        {
          "output_type": "execute_result",
          "data": {
            "text/plain": [
              "'uct.ac.za'"
            ],
            "application/vnd.google.colaboratory.intrinsic+json": {
              "type": "string"
            }
          },
          "metadata": {},
          "execution_count": 6
        }
      ]
    },
    {
      "cell_type": "markdown",
      "source": [
        "#  Double split pattern"
      ],
      "metadata": {
        "id": "0RK36oN3D-cF"
      }
    },
    {
      "cell_type": "code",
      "source": [
        "m=data.split()"
      ],
      "metadata": {
        "id": "j70XCJ42Ao-Z"
      },
      "execution_count": 7,
      "outputs": []
    },
    {
      "cell_type": "code",
      "source": [
        "print(m)"
      ],
      "metadata": {
        "colab": {
          "base_uri": "https://localhost:8080/"
        },
        "id": "QsgUL2QrApGg",
        "outputId": "618ee873-1484-457f-d095-bccfb04e7208"
      },
      "execution_count": 9,
      "outputs": [
        {
          "output_type": "stream",
          "name": "stdout",
          "text": [
            "['From', 'stephen.marquard@uct.ac.za', 'Sat', 'Jan', '5', '09', ':', '14', ':16', '2023']\n"
          ]
        }
      ]
    },
    {
      "cell_type": "code",
      "source": [
        "n=m[1]"
      ],
      "metadata": {
        "id": "528yIkamApLE"
      },
      "execution_count": 10,
      "outputs": []
    },
    {
      "cell_type": "code",
      "source": [
        "k=n.split(\"@\")"
      ],
      "metadata": {
        "id": "4005KV2zApOy"
      },
      "execution_count": 11,
      "outputs": []
    },
    {
      "cell_type": "code",
      "source": [
        "k"
      ],
      "metadata": {
        "colab": {
          "base_uri": "https://localhost:8080/"
        },
        "id": "uAyid3YjApTJ",
        "outputId": "d7afbd6f-2089-4e79-dae0-e162a7483f6a"
      },
      "execution_count": 12,
      "outputs": [
        {
          "output_type": "execute_result",
          "data": {
            "text/plain": [
              "['stephen.marquard', 'uct.ac.za']"
            ]
          },
          "metadata": {},
          "execution_count": 12
        }
      ]
    },
    {
      "cell_type": "code",
      "source": [
        "print(k[1])"
      ],
      "metadata": {
        "colab": {
          "base_uri": "https://localhost:8080/"
        },
        "id": "YNLuFZgyApWb",
        "outputId": "fa2a3f3e-a639-47b6-e287-5fde7caac6c0"
      },
      "execution_count": 13,
      "outputs": [
        {
          "output_type": "stream",
          "name": "stdout",
          "text": [
            "uct.ac.za\n"
          ]
        }
      ]
    },
    {
      "cell_type": "markdown",
      "source": [
        "# Regex version"
      ],
      "metadata": {
        "id": "8nWHZgrcEYxu"
      }
    },
    {
      "cell_type": "code",
      "source": [
        "import re\n",
        "x=re.findall(\"@([^  ]*)\",data)"
      ],
      "metadata": {
        "id": "kQxefEAoEYVA"
      },
      "execution_count": 15,
      "outputs": []
    },
    {
      "cell_type": "code",
      "source": [
        "x"
      ],
      "metadata": {
        "colab": {
          "base_uri": "https://localhost:8080/"
        },
        "id": "nejbfVxQEYQj",
        "outputId": "d1dd2d8f-83fa-4caf-9fed-419fdcc4a325"
      },
      "execution_count": 16,
      "outputs": [
        {
          "output_type": "execute_result",
          "data": {
            "text/plain": [
              "['uct.ac.za']"
            ]
          },
          "metadata": {},
          "execution_count": 16
        }
      ]
    },
    {
      "cell_type": "markdown",
      "source": [
        "# ANother way"
      ],
      "metadata": {
        "id": "fTFlOjM5Fe71"
      }
    },
    {
      "cell_type": "code",
      "source": [
        "c=re.findall(\"^From.*@([^ ]*)\",data)"
      ],
      "metadata": {
        "id": "HqmtGj_sEYNa"
      },
      "execution_count": 17,
      "outputs": []
    },
    {
      "cell_type": "code",
      "source": [
        "c"
      ],
      "metadata": {
        "colab": {
          "base_uri": "https://localhost:8080/"
        },
        "id": "Y-oT_9X_EYF8",
        "outputId": "d1d18e2c-cc9e-419f-84fd-d36b9495ca23"
      },
      "execution_count": 18,
      "outputs": [
        {
          "output_type": "execute_result",
          "data": {
            "text/plain": [
              "['uct.ac.za']"
            ]
          },
          "metadata": {},
          "execution_count": 18
        }
      ]
    },
    {
      "cell_type": "markdown",
      "source": [
        "\n",
        "\n",
        "*   $ ==> A real dollar sign\n",
        "\n",
        "*   plus (+) ==> at least one or more \n",
        "\n",
        "*   . ==> a digit or period\n",
        "\n",
        "\n",
        "\n",
        "\n"
      ],
      "metadata": {
        "id": "eRdK4cIiHHar"
      }
    },
    {
      "cell_type": "code",
      "source": [
        "a=\"We just received $10.00 for cookies\""
      ],
      "metadata": {
        "id": "FpUTQz-zEYCE"
      },
      "execution_count": 19,
      "outputs": []
    },
    {
      "cell_type": "code",
      "source": [
        "b=re.findall(\"\\$[0-9.]+\",a)"
      ],
      "metadata": {
        "id": "NsvmzBioEX-6"
      },
      "execution_count": 22,
      "outputs": []
    },
    {
      "cell_type": "code",
      "source": [
        "print(b)"
      ],
      "metadata": {
        "colab": {
          "base_uri": "https://localhost:8080/"
        },
        "id": "lLreFsXCEX6M",
        "outputId": "be00afd4-3425-4697-9b42-f1ac580c3c96"
      },
      "execution_count": 23,
      "outputs": [
        {
          "output_type": "stream",
          "name": "stdout",
          "text": [
            "['$10.00']\n"
          ]
        }
      ]
    },
    {
      "cell_type": "code",
      "source": [],
      "metadata": {
        "id": "LPBztZqQEX2z"
      },
      "execution_count": null,
      "outputs": []
    },
    {
      "cell_type": "code",
      "source": [],
      "metadata": {
        "id": "b72TRO4LApbp"
      },
      "execution_count": null,
      "outputs": []
    }
  ]
}