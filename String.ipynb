{
 "cells": [
  {
   "cell_type": "code",
   "execution_count": 18,
   "metadata": {},
   "outputs": [
    {
     "name": "stdout",
     "output_type": "stream",
     "text": [
      "bangladesh is a poor country\n"
     ]
    }
   ],
   "source": [
    "x=\"bangladesh is a poor country\"\n",
    "print(x)"
   ]
  },
  {
   "cell_type": "code",
   "execution_count": 19,
   "metadata": {},
   "outputs": [
    {
     "name": "stdout",
     "output_type": "stream",
     "text": [
      "bangla english\n"
     ]
    }
   ],
   "source": [
    "x=\"bangla\"\n",
    "y=\"english\"\n",
    "z=x+\" \"+y\n",
    "print(z)"
   ]
  },
  {
   "cell_type": "code",
   "execution_count": 20,
   "metadata": {},
   "outputs": [
    {
     "name": "stdout",
     "output_type": "stream",
     "text": [
      "0 === a\n",
      "1 === r\n",
      "2 === t\n",
      "3 === i\n",
      "4 === f\n",
      "5 === i\n",
      "6 === c\n",
      "7 === i\n",
      "8 === a\n",
      "9 === l\n",
      "10 ===  \n",
      "11 === i\n",
      "12 === n\n",
      "13 === t\n",
      "14 === e\n",
      "15 === l\n",
      "16 === l\n",
      "17 === i\n",
      "18 === g\n",
      "19 === e\n",
      "20 === n\n",
      "21 === c\n",
      "22 === e\n"
     ]
    }
   ],
   "source": [
    "h=\"artificial intelligence\"\n",
    "for i in range(0,len(h)):\n",
    "    print(i,\"===\",h[i])\n"
   ]
  },
  {
   "cell_type": "code",
   "execution_count": 21,
   "metadata": {},
   "outputs": [
    {
     "name": "stdout",
     "output_type": "stream",
     "text": [
      "string length : 23\n"
     ]
    }
   ],
   "source": [
    "h=len(h)\n",
    "print(f\"string length : {h}\")"
   ]
  },
  {
   "cell_type": "code",
   "execution_count": 22,
   "metadata": {},
   "outputs": [
    {
     "name": "stdout",
     "output_type": "stream",
     "text": [
      "Arti\n",
      "===================================\n",
      "artificial intelligence\n",
      "****************************************\n",
      "ARTIFICIAL INTELLIGENCE\n",
      "---------------------------------------------\n",
      "Artificial intelligence\n"
     ]
    }
   ],
   "source": [
    "a=\"Artificial Intelligence\"\n",
    "print(a[: 4])\n",
    "print(\"===================================\")\n",
    "lower=a.lower()\n",
    "print(lower)\n",
    "print(\"****************************************\")\n",
    "uper=a.upper()\n",
    "print(uper)\n",
    "print(\"---------------------------------------------\")\n",
    "cap=a.capitalize()\n",
    "print(cap)"
   ]
  },
  {
   "cell_type": "code",
   "execution_count": 23,
   "metadata": {},
   "outputs": [],
   "source": [
    "# for i in range(10):\n",
    "#     print(i)"
   ]
  },
  {
   "cell_type": "code",
   "execution_count": 24,
   "metadata": {},
   "outputs": [
    {
     "name": "stdout",
     "output_type": "stream",
     "text": [
      "True\n"
     ]
    }
   ],
   "source": [
    "b=\"Artificial Intelligence\"\n",
    "b=\"Intelligence\"\n",
    "c=b in b\n",
    "print(c)"
   ]
  },
  {
   "cell_type": "code",
   "execution_count": 25,
   "metadata": {},
   "outputs": [
    {
     "name": "stdout",
     "output_type": "stream",
     "text": [
      "['Artificial ', 'Intelligence']\n"
     ]
    }
   ],
   "source": [
    "d=\"Artificial /@Intelligence\"\n",
    "d=d.split(\"/@\")\n",
    "print(d)"
   ]
  },
  {
   "cell_type": "code",
   "execution_count": 26,
   "metadata": {},
   "outputs": [
    {
     "name": "stdout",
     "output_type": "stream",
     "text": [
      "Artificial Intelligence\n"
     ]
    }
   ],
   "source": [
    "e=\"  Artificial Intelligence   \"\n",
    "str=e.strip()\n",
    "print(str)"
   ]
  },
  {
   "cell_type": "code",
   "execution_count": 27,
   "metadata": {},
   "outputs": [
    {
     "name": "stdout",
     "output_type": "stream",
     "text": [
      "bangladesh Artificial Intelligence    left strip\n"
     ]
    }
   ],
   "source": [
    "#lstrip\n",
    "e=\"  Artificial Intelligence   \"\n",
    "lstr=e.lstrip()\n",
    "print(\"bangladesh\",lstr,\"left strip\")"
   ]
  },
  {
   "cell_type": "code",
   "execution_count": 28,
   "metadata": {},
   "outputs": [
    {
     "name": "stdout",
     "output_type": "stream",
     "text": [
      "right strip :   Artificial Intelligence bangladesh\n"
     ]
    }
   ],
   "source": [
    "e=\"  Artificial Intelligence   \"\n",
    "rstr=e.rstrip()\n",
    "print(\"right strip :\",rstr,\"bangladesh\")"
   ]
  },
  {
   "cell_type": "code",
   "execution_count": 29,
   "metadata": {},
   "outputs": [
    {
     "name": "stdout",
     "output_type": "stream",
     "text": [
      "bangladesh\n"
     ]
    }
   ],
   "source": [
    "test=\",,,...grt&**....bangladesh......\"\n",
    "x=test.strip(\",.grt&*\")\n",
    "print(x)"
   ]
  },
  {
   "cell_type": "code",
   "execution_count": 30,
   "metadata": {},
   "outputs": [
    {
     "name": "stdout",
     "output_type": "stream",
     "text": [
      "Name is : mongol_singh\n",
      "Age is : 40\n",
      "Height is : 30\n"
     ]
    }
   ],
   "source": [
    "name=\"mongol_singh\"\n",
    "age=40\n",
    "height=30\n",
    "string_format=f\"Name is : {name}\\nAge is : {age}\\nHeight is : {height}\"\n",
    "print(string_format)"
   ]
  },
  {
   "cell_type": "code",
   "execution_count": 33,
   "metadata": {},
   "outputs": [
    {
     "name": "stdout",
     "output_type": "stream",
     "text": [
      "Name is:\tmongol_singh\n",
      "Age is:\t40\n",
      "Height is:\t30\n"
     ]
    }
   ],
   "source": [
    "string_for=f\"Name is:\\t{name}\\nAge is:\\t{age}\\nHeight is:\\t{height}\"\n",
    "print(string_for)"
   ]
  },
  {
   "cell_type": "code",
   "execution_count": 35,
   "metadata": {},
   "outputs": [
    {
     "name": "stdout",
     "output_type": "stream",
     "text": [
      "math is tough:worst subject\n"
     ]
    }
   ],
   "source": [
    "x=\"math is tough subject\"\n",
    "x_re=x.replace(\"tough\",'tough:worst')\n",
    "print(x_re)"
   ]
  },
  {
   "cell_type": "code",
   "execution_count": 37,
   "metadata": {},
   "outputs": [
    {
     "name": "stdout",
     "output_type": "stream",
     "text": [
      "True\n"
     ]
    }
   ],
   "source": [
    "x_re=x.endswith(\"subject\")\n",
    "print(x_re)"
   ]
  },
  {
   "cell_type": "code",
   "execution_count": 38,
   "metadata": {},
   "outputs": [
    {
     "name": "stdout",
     "output_type": "stream",
     "text": [
      "14\n"
     ]
    }
   ],
   "source": [
    "x=\"math is tough subject\"\n",
    "x_find=x.find(\"subject\") #find index value\n",
    "print(x_find)"
   ]
  },
  {
   "cell_type": "code",
   "execution_count": 41,
   "metadata": {},
   "outputs": [
    {
     "name": "stdout",
     "output_type": "stream",
     "text": [
      "This is a Error\n"
     ]
    }
   ],
   "source": [
    "x=\"math is tough subject\"\n",
    "x_index=x.index(\"subject\") \n",
    "try:\n",
    "    index_val=x.index(\"python\")\n",
    "    print(index_val)\n",
    "except ValueError:\n",
    "    index_value=\"This is a Error\"\n",
    "    print(index_value)"
   ]
  },
  {
   "cell_type": "code",
   "execution_count": 42,
   "metadata": {},
   "outputs": [
    {
     "name": "stdout",
     "output_type": "stream",
     "text": [
      "tcejbus hguot si htam\n"
     ]
    }
   ],
   "source": [
    "y=\"math is tough subject\"\n",
    "rev=y[: :-1]\n",
    "print(rev)"
   ]
  },
  {
   "cell_type": "code",
   "execution_count": 43,
   "metadata": {},
   "outputs": [
    {
     "name": "stdout",
     "output_type": "stream",
     "text": [
      "2\n"
     ]
    }
   ],
   "source": [
    "count=y.count(\"s\")\n",
    "print(count)"
   ]
  },
  {
   "cell_type": "code",
   "execution_count": 49,
   "metadata": {},
   "outputs": [
    {
     "name": "stdout",
     "output_type": "stream",
     "text": [
      "bangla,english,hindi,math\n"
     ]
    }
   ],
   "source": [
    "l=[\"bangla\",\"english\",\"hindi\",\"math\"]\n",
    "join=\",\".join(l)\n",
    "print(join)"
   ]
  },
  {
   "cell_type": "code",
   "execution_count": 50,
   "metadata": {},
   "outputs": [
    {
     "name": "stdout",
     "output_type": "stream",
     "text": [
      "False\n"
     ]
    }
   ],
   "source": [
    "strx=\"bangladesh india pakistan123\"\n",
    "num_check=strx.isalnum()\n",
    "print(num_check)"
   ]
  },
  {
   "cell_type": "code",
   "execution_count": 51,
   "metadata": {},
   "outputs": [
    {
     "name": "stdout",
     "output_type": "stream",
     "text": [
      "True\n"
     ]
    }
   ],
   "source": [
    "strx=\"88457875123\"\n",
    "num_check=strx.isalnum()\n",
    "print(num_check)"
   ]
  },
  {
   "cell_type": "code",
   "execution_count": 52,
   "metadata": {},
   "outputs": [
    {
     "name": "stdout",
     "output_type": "stream",
     "text": [
      "Bangladesh Hindi Math\n"
     ]
    }
   ],
   "source": [
    "stry=\"bangladesh hindi math\"\n",
    "cap=stry.title()\n",
    "print(cap)"
   ]
  },
  {
   "cell_type": "code",
   "execution_count": 54,
   "metadata": {},
   "outputs": [
    {
     "name": "stdout",
     "output_type": "stream",
     "text": [
      "Upper is : False\n",
      "Lower is : True\n"
     ]
    }
   ],
   "source": [
    "str_z=\"bangladesh hindi math\"\n",
    "l=str_z.islower()\n",
    "u=str_z.isupper()\n",
    "print(f\"Upper is : {u}\\nLower is : {l}\")"
   ]
  }
 ],
 "metadata": {
  "kernelspec": {
   "display_name": "Python 3",
   "language": "python",
   "name": "python3"
  },
  "language_info": {
   "codemirror_mode": {
    "name": "ipython",
    "version": 3
   },
   "file_extension": ".py",
   "mimetype": "text/x-python",
   "name": "python",
   "nbconvert_exporter": "python",
   "pygments_lexer": "ipython3",
   "version": "3.12.0"
  }
 },
 "nbformat": 4,
 "nbformat_minor": 2
}
