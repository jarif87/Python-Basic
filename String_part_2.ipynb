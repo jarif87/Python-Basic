{
 "cells": [
  {
   "cell_type": "code",
   "execution_count": 69,
   "metadata": {},
   "outputs": [
    {
     "name": "stdout",
     "output_type": "stream",
     "text": [
      "b\n",
      "*****************************\n",
      "bang\n"
     ]
    }
   ],
   "source": [
    "#Question 5: Explain the difference between indexing and slicing in strings\n",
    "a=\"bangladesh\"\n",
    "print(a[0]) #indexing\n",
    "print(\"*****************************\")\n",
    "print(a[: 4]) #slicing\n"
   ]
  },
  {
   "cell_type": "code",
   "execution_count": 70,
   "metadata": {},
   "outputs": [
    {
     "name": "stdout",
     "output_type": "stream",
     "text": [
      "chittagong\n"
     ]
    }
   ],
   "source": [
    "#Question 6: How can you convert a string to lowercase in Python?\n",
    "b=\"CHITTAGONG\"\n",
    "c=b.lower()\n",
    "print(c)"
   ]
  },
  {
   "cell_type": "code",
   "execution_count": 71,
   "metadata": {},
   "outputs": [
    {
     "name": "stdout",
     "output_type": "stream",
     "text": [
      "present\n"
     ]
    }
   ],
   "source": [
    "f_string=\"python programming\"\n",
    "sub=\"programming\"\n",
    "if sub in f_string:\n",
    "    print(\"present\")\n",
    "else:\n",
    "    print('not present')"
   ]
  },
  {
   "cell_type": "code",
   "execution_count": 72,
   "metadata": {},
   "outputs": [
    {
     "name": "stdout",
     "output_type": "stream",
     "text": [
      "['bangladesh', 'is', 'a', 'poor', 'country']\n"
     ]
    }
   ],
   "source": [
    "sentence=\"bangladesh is a poor country\"\n",
    "x=sentence.split(\" \")\n",
    "print(x)"
   ]
  },
  {
   "cell_type": "code",
   "execution_count": 73,
   "metadata": {},
   "outputs": [
    {
     "name": "stdout",
     "output_type": "stream",
     "text": [
      "hi Bangladesh\n"
     ]
    }
   ],
   "source": [
    "# How can you replace a specific substring in a string with another substring?\n",
    "first_string=\"hello Bangladesh\"\n",
    "sec_string=first_string.replace(\"hello\",\"hi\")\n",
    "print(sec_string)"
   ]
  },
  {
   "cell_type": "code",
   "execution_count": 74,
   "metadata": {},
   "outputs": [
    {
     "name": "stdout",
     "output_type": "stream",
     "text": [
      "bangla english\n"
     ]
    }
   ],
   "source": [
    "words=[\"bangla\",\"english\"]\n",
    "join=\" \".join(words)\n",
    "print(join)"
   ]
  },
  {
   "cell_type": "code",
   "execution_count": 75,
   "metadata": {},
   "outputs": [
    {
     "name": "stdout",
     "output_type": "stream",
     "text": [
      "True\n"
     ]
    }
   ],
   "source": [
    " #How can you check if a string contains only numeric characters?\n",
    " num=\"12345\"\n",
    " x=num.isdigit()\n",
    " print(x)"
   ]
  },
  {
   "cell_type": "code",
   "execution_count": 76,
   "metadata": {},
   "outputs": [
    {
     "name": "stdout",
     "output_type": "stream",
     "text": [
      "his name is shakib and he is 30 years old\n"
     ]
    }
   ],
   "source": [
    "name=\"shakib\"\n",
    "age=30\n",
    "print(\"his name is {} and he is {} years old\".format(name,age))"
   ]
  },
  {
   "cell_type": "code",
   "execution_count": 77,
   "metadata": {},
   "outputs": [
    {
     "name": "stdout",
     "output_type": "stream",
     "text": [
      "True\n"
     ]
    }
   ],
   "source": [
    "var_name=\"first_method\"\n",
    "print(var_name.isidentifier())"
   ]
  },
  {
   "cell_type": "code",
   "execution_count": 78,
   "metadata": {},
   "outputs": [
    {
     "name": "stdout",
     "output_type": "stream",
     "text": [
      "False\n"
     ]
    }
   ],
   "source": [
    "var_name=\"0UUU\"\n",
    "print(var_name.isidentifier())"
   ]
  },
  {
   "cell_type": "code",
   "execution_count": 79,
   "metadata": {},
   "outputs": [
    {
     "name": "stdout",
     "output_type": "stream",
     "text": [
      "python\n"
     ]
    }
   ],
   "source": [
    "\n",
    "#How can you remove leading and trailing whitespaces from a string without using the strip() method?\n",
    "ex_str=\" python \"\n",
    "final_data=ex_str.lstrip().rstrip()\n",
    "print(final_data)"
   ]
  },
  {
   "cell_type": "code",
   "execution_count": 80,
   "metadata": {},
   "outputs": [
    {
     "name": "stdout",
     "output_type": "stream",
     "text": [
      "HI bANGLADESH\n"
     ]
    }
   ],
   "source": [
    "#  How can you swap the case of characters in a string (convert lowercase to uppercase and vice versa)?\n",
    "x=\"hi Bangladesh\"\n",
    "y=x.swapcase()\n",
    "print(y)\n"
   ]
  },
  {
   "cell_type": "code",
   "execution_count": 81,
   "metadata": {},
   "outputs": [
    {
     "name": "stdout",
     "output_type": "stream",
     "text": [
      "True\n"
     ]
    }
   ],
   "source": [
    "string=\"\"\n",
    "empty=not bool(string)\n",
    "print(empty)"
   ]
  },
  {
   "cell_type": "code",
   "execution_count": 82,
   "metadata": {},
   "outputs": [
    {
     "name": "stdout",
     "output_type": "stream",
     "text": [
      "False\n"
     ]
    }
   ],
   "source": [
    "em=bool(string)\n",
    "print(em)\n"
   ]
  },
  {
   "cell_type": "code",
   "execution_count": 83,
   "metadata": {},
   "outputs": [
    {
     "name": "stdout",
     "output_type": "stream",
     "text": [
      "65\n",
      "==========================\n",
      "97\n"
     ]
    }
   ],
   "source": [
    "# What is the purpose of the ord() function in Python related to strings?\n",
    "x=ord(\"A\")\n",
    "y=ord(\"a\")\n",
    "print(x)\n",
    "print(\"==========================\")\n",
    "print(y)"
   ]
  },
  {
   "cell_type": "code",
   "execution_count": 84,
   "metadata": {},
   "outputs": [
    {
     "name": "stdout",
     "output_type": "stream",
     "text": [
      "True\n"
     ]
    }
   ],
   "source": [
    "# How can you check if a string contains only whitespace characters?\n",
    "w=\"         \\t  \\n\"\n",
    "z=w.isspace()\n",
    "print(z)"
   ]
  },
  {
   "cell_type": "code",
   "execution_count": 85,
   "metadata": {},
   "outputs": [
    {
     "name": "stdout",
     "output_type": "stream",
     "text": [
      "python is good programming_language\n"
     ]
    }
   ],
   "source": [
    "# How can you convert a list of strings into a single string with a specific delimiter?\n",
    "x=[\"python\",\"is\",\"good\",\"programming_language\"]\n",
    "delimeter=\" \"\n",
    "join_str=delimeter.join(x)\n",
    "print(join_str)"
   ]
  },
  {
   "cell_type": "code",
   "execution_count": 86,
   "metadata": {},
   "outputs": [
    {
     "data": {
      "text/plain": [
       "False"
      ]
     },
     "execution_count": 86,
     "metadata": {},
     "output_type": "execute_result"
    }
   ],
   "source": [
    "# How can you check if a string is a palindrome (reads the same backward as forward)?\n",
    "\n",
    "def palindrome(input_text):\n",
    "    reversed_text=input_text[: : -1]\n",
    "    return input_text==reversed_text\n",
    "x=\"bangladesh is a poor country in the world\"\n",
    "palindrome(x)\n",
    "\n"
   ]
  },
  {
   "cell_type": "code",
   "execution_count": 87,
   "metadata": {},
   "outputs": [
    {
     "name": "stdout",
     "output_type": "stream",
     "text": [
      "this string is palindrome : True\n"
     ]
    }
   ],
   "source": [
    "y=\"level\"\n",
    "print(f\"this string is palindrome : {palindrome(y)}\")"
   ]
  },
  {
   "cell_type": "code",
   "execution_count": 88,
   "metadata": {},
   "outputs": [
    {
     "name": "stdout",
     "output_type": "stream",
     "text": [
      "*******************\n",
      "<class 'str'>\n",
      "===================\n",
      "<class 'str'>\n"
     ]
    }
   ],
   "source": [
    "#  How can you convert an integer or float to a string in Python?\n",
    "int_num=str(120)\n",
    "float_num=str(10.30)\n",
    "print(\"*******************\")\n",
    "print(type(int_num))\n",
    "print(\"===================\")\n",
    "print(type(float_num))"
   ]
  },
  {
   "cell_type": "code",
   "execution_count": 89,
   "metadata": {},
   "outputs": [
    {
     "name": "stdout",
     "output_type": "stream",
     "text": [
      "7\n",
      "-1\n"
     ]
    }
   ],
   "source": [
    "example_string = \"Python Programming\"\n",
    "index_found = example_string.find(\"Programming\")\n",
    "print(index_found)\n",
    "# or\n",
    "try:\n",
    "    index = example_string.index(\"Java\")\n",
    "    print(index)\n",
    "except ValueError:\n",
    "    index = -1\n",
    "    print(index)"
   ]
  },
  {
   "cell_type": "code",
   "execution_count": 90,
   "metadata": {},
   "outputs": [],
   "source": [
    "# ex_str=\"Python Programming Wonderful\"\n",
    "# index = ex_str.index(\"Java\")\n",
    "# print(index)"
   ]
  },
  {
   "cell_type": "code",
   "execution_count": 91,
   "metadata": {},
   "outputs": [
    {
     "name": "stdout",
     "output_type": "stream",
     "text": [
      "-1\n"
     ]
    }
   ],
   "source": [
    "e_string = \"Python Programming\"\n",
    "index_found = e_string.find(\"Programing\")\n",
    "print(index_found)"
   ]
  },
  {
   "cell_type": "code",
   "execution_count": 92,
   "metadata": {},
   "outputs": [
    {
     "name": "stdout",
     "output_type": "stream",
     "text": [
      "True\n"
     ]
    }
   ],
   "source": [
    "# : How can you check if a string contains only alphabetic characters?\n",
    "x=\"english\"\n",
    "y=x.isalpha()\n",
    "print(y)"
   ]
  },
  {
   "cell_type": "code",
   "execution_count": 100,
   "metadata": {},
   "outputs": [
    {
     "name": "stdout",
     "output_type": "stream",
     "text": [
      "Hello World!\n"
     ]
    }
   ],
   "source": [
    "# How can you remove specific characters from a string in Python?\n",
    "a=\"Hello, World!\"\n",
    "b=a.replace(\",\",  \"\")\n",
    "# c=b.replace(\" \",\"\")\n",
    "print(b)"
   ]
  },
  {
   "cell_type": "code",
   "execution_count": 102,
   "metadata": {},
   "outputs": [],
   "source": [
    "# original_string = \"Hello, World!\"\n",
    "# characters_to_remove = \", \"\n",
    "# modified_string = original_string.replace(\",\", \"\").replace(\" \", \"\")\n",
    "# print(modified_string)"
   ]
  },
  {
   "cell_type": "code",
   "execution_count": null,
   "metadata": {},
   "outputs": [],
   "source": []
  },
  {
   "cell_type": "code",
   "execution_count": null,
   "metadata": {},
   "outputs": [],
   "source": []
  }
 ],
 "metadata": {
  "kernelspec": {
   "display_name": "Python 3",
   "language": "python",
   "name": "python3"
  },
  "language_info": {
   "codemirror_mode": {
    "name": "ipython",
    "version": 3
   },
   "file_extension": ".py",
   "mimetype": "text/x-python",
   "name": "python",
   "nbconvert_exporter": "python",
   "pygments_lexer": "ipython3",
   "version": "3.12.0"
  }
 },
 "nbformat": 4,
 "nbformat_minor": 2
}
