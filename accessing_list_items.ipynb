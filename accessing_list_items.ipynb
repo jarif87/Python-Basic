{
  "nbformat": 4,
  "nbformat_minor": 0,
  "metadata": {
    "colab": {
      "provenance": []
    },
    "kernelspec": {
      "name": "python3",
      "display_name": "Python 3"
    },
    "language_info": {
      "name": "python"
    }
  },
  "cells": [
    {
      "cell_type": "code",
      "execution_count": 5,
      "metadata": {
        "id": "X_GowUHJWGvu"
      },
      "outputs": [],
      "source": [
        "list_0=[1,2,3,4,5,\"bangla\",\"math\",5.0088]\n",
        "#             0,1,2,3,4,     5,         6,               7\n",
        "\n",
        "#     ,,,,,,,,  -5 ,  -4                  -3               -2      -1"
      ]
    },
    {
      "cell_type": "code",
      "source": [
        "print(list_0[5])"
      ],
      "metadata": {
        "colab": {
          "base_uri": "https://localhost:8080/"
        },
        "id": "fM19-c35W1do",
        "outputId": "1db28961-3705-4093-dd4f-1c087c887675"
      },
      "execution_count": 2,
      "outputs": [
        {
          "output_type": "stream",
          "name": "stdout",
          "text": [
            "bangla\n"
          ]
        }
      ]
    },
    {
      "cell_type": "code",
      "source": [
        "print(list_0[-1])"
      ],
      "metadata": {
        "colab": {
          "base_uri": "https://localhost:8080/"
        },
        "id": "NiSdmBXgW1iB",
        "outputId": "81c152a3-d6cc-4a94-848b-e072b71b02da"
      },
      "execution_count": 3,
      "outputs": [
        {
          "output_type": "stream",
          "name": "stdout",
          "text": [
            "5.0088\n"
          ]
        }
      ]
    },
    {
      "cell_type": "code",
      "source": [
        "print(list_0[-2])"
      ],
      "metadata": {
        "colab": {
          "base_uri": "https://localhost:8080/"
        },
        "id": "IjIIDhUkW169",
        "outputId": "ffc67330-81ef-4efa-fb6f-0f3b2c9b7fe7"
      },
      "execution_count": 4,
      "outputs": [
        {
          "output_type": "stream",
          "name": "stdout",
          "text": [
            "math\n"
          ]
        }
      ]
    },
    {
      "cell_type": "code",
      "source": [
        "tw_dim_list=[        [\"bangla\",\"math\",\"biology\"],[\"english\"],[1,2,3,4],[2.22,3,5.22]                           ]"
      ],
      "metadata": {
        "id": "TnkQR-l6W1-A"
      },
      "execution_count": 8,
      "outputs": []
    },
    {
      "cell_type": "code",
      "source": [
        "tw_dim_list[0][1]"
      ],
      "metadata": {
        "colab": {
          "base_uri": "https://localhost:8080/",
          "height": 35
        },
        "id": "f3HSlrPkW2BX",
        "outputId": "58973723-4ed6-48d6-c061-dafaaa98da15"
      },
      "execution_count": 10,
      "outputs": [
        {
          "output_type": "execute_result",
          "data": {
            "text/plain": [
              "'math'"
            ],
            "application/vnd.google.colaboratory.intrinsic+json": {
              "type": "string"
            }
          },
          "metadata": {},
          "execution_count": 10
        }
      ]
    },
    {
      "cell_type": "code",
      "source": [
        "tw_dim_list[2]"
      ],
      "metadata": {
        "colab": {
          "base_uri": "https://localhost:8080/"
        },
        "id": "ZcZTx8NuW2E4",
        "outputId": "53d01bd1-d119-4fe6-f40a-86acdf585010"
      },
      "execution_count": 11,
      "outputs": [
        {
          "output_type": "execute_result",
          "data": {
            "text/plain": [
              "[1, 2, 3, 4]"
            ]
          },
          "metadata": {},
          "execution_count": 11
        }
      ]
    },
    {
      "cell_type": "code",
      "source": [
        "tw_dim_list[2][3]"
      ],
      "metadata": {
        "colab": {
          "base_uri": "https://localhost:8080/"
        },
        "id": "EFky0ecAW2Hp",
        "outputId": "c675e619-04ce-49bd-8521-0a68584e57fc"
      },
      "execution_count": 13,
      "outputs": [
        {
          "output_type": "execute_result",
          "data": {
            "text/plain": [
              "4"
            ]
          },
          "metadata": {},
          "execution_count": 13
        }
      ]
    },
    {
      "cell_type": "code",
      "source": [],
      "metadata": {
        "id": "vYHJaZ_AW2Kt"
      },
      "execution_count": null,
      "outputs": []
    },
    {
      "cell_type": "code",
      "source": [],
      "metadata": {
        "id": "tfQsZrBxW2Oy"
      },
      "execution_count": null,
      "outputs": []
    },
    {
      "cell_type": "code",
      "source": [],
      "metadata": {
        "id": "-B4odwKJW2SF"
      },
      "execution_count": null,
      "outputs": []
    },
    {
      "cell_type": "code",
      "source": [],
      "metadata": {
        "id": "b-X77D1FW2pX"
      },
      "execution_count": null,
      "outputs": []
    }
  ]
}