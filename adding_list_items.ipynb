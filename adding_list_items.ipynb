{
  "nbformat": 4,
  "nbformat_minor": 0,
  "metadata": {
    "colab": {
      "provenance": []
    },
    "kernelspec": {
      "name": "python3",
      "display_name": "Python 3"
    },
    "language_info": {
      "name": "python"
    }
  },
  "cells": [
    {
      "cell_type": "code",
      "execution_count": 1,
      "metadata": {
        "id": "RtxX8kcGb_sb"
      },
      "outputs": [],
      "source": [
        "list=[1,2,3,4,5,5,66,78,\"bangla\",\"english\",\"physics\",\"math\"]"
      ]
    },
    {
      "cell_type": "code",
      "source": [
        "print(list)"
      ],
      "metadata": {
        "colab": {
          "base_uri": "https://localhost:8080/"
        },
        "id": "wfWxo8MxcC1s",
        "outputId": "8ec15640-f44f-4c92-d253-93dd60660b61"
      },
      "execution_count": 2,
      "outputs": [
        {
          "output_type": "stream",
          "name": "stdout",
          "text": [
            "[1, 2, 3, 4, 5, 5, 66, 78, 'bangla', 'english', 'physics', 'math']\n"
          ]
        }
      ]
    },
    {
      "cell_type": "code",
      "source": [
        "list.append(\"biology\")"
      ],
      "metadata": {
        "id": "38t89oLVcC7F"
      },
      "execution_count": 3,
      "outputs": []
    },
    {
      "cell_type": "code",
      "source": [
        "print(\"New list\",list)"
      ],
      "metadata": {
        "colab": {
          "base_uri": "https://localhost:8080/"
        },
        "id": "AAZeBMAucC_p",
        "outputId": "00fac752-49b4-4118-8369-33103f1b7dcc"
      },
      "execution_count": 4,
      "outputs": [
        {
          "output_type": "stream",
          "name": "stdout",
          "text": [
            "New list [1, 2, 3, 4, 5, 5, 66, 78, 'bangla', 'english', 'physics', 'math', 'biology']\n"
          ]
        }
      ]
    },
    {
      "cell_type": "code",
      "source": [
        "list.insert(0,\"chemistry\")"
      ],
      "metadata": {
        "id": "BDWFGzYqcDDH"
      },
      "execution_count": 5,
      "outputs": []
    },
    {
      "cell_type": "code",
      "source": [
        "print(list)"
      ],
      "metadata": {
        "colab": {
          "base_uri": "https://localhost:8080/"
        },
        "id": "yU6VcOplcDGk",
        "outputId": "600d42bf-a701-4ee7-d867-4ba64042f361"
      },
      "execution_count": 6,
      "outputs": [
        {
          "output_type": "stream",
          "name": "stdout",
          "text": [
            "['chemistry', 1, 2, 3, 4, 5, 5, 66, 78, 'bangla', 'english', 'physics', 'math', 'biology']\n"
          ]
        }
      ]
    },
    {
      "cell_type": "code",
      "source": [
        "list.insert(1,100)"
      ],
      "metadata": {
        "id": "DNQ3ct7jcDKP"
      },
      "execution_count": 7,
      "outputs": []
    },
    {
      "cell_type": "code",
      "source": [
        "print(\"new list\",list)"
      ],
      "metadata": {
        "colab": {
          "base_uri": "https://localhost:8080/"
        },
        "id": "eVgQMOEWcDNc",
        "outputId": "16b89a42-ba33-4dbe-91b0-01ce3b30c62f"
      },
      "execution_count": 8,
      "outputs": [
        {
          "output_type": "stream",
          "name": "stdout",
          "text": [
            "new list ['chemistry', 100, 1, 2, 3, 4, 5, 5, 66, 78, 'bangla', 'english', 'physics', 'math', 'biology']\n"
          ]
        }
      ]
    },
    {
      "cell_type": "code",
      "source": [
        "list_1=[1,2,3,4,5,5,66,78,\"bangla\",\"english\",\"physics\",\"math\"]"
      ],
      "metadata": {
        "id": "ZobDYwn-cDRm"
      },
      "execution_count": 9,
      "outputs": []
    },
    {
      "cell_type": "code",
      "source": [
        "print(list_1)"
      ],
      "metadata": {
        "colab": {
          "base_uri": "https://localhost:8080/"
        },
        "id": "Jg9pF0AFcDVD",
        "outputId": "74bac595-0b7f-4c6f-a09a-01c5fe895169"
      },
      "execution_count": 10,
      "outputs": [
        {
          "output_type": "stream",
          "name": "stdout",
          "text": [
            "[1, 2, 3, 4, 5, 5, 66, 78, 'bangla', 'english', 'physics', 'math']\n"
          ]
        }
      ]
    },
    {
      "cell_type": "code",
      "source": [
        "list_2=[\"sun\",\"moon\",\"star\",5.36,2,3]"
      ],
      "metadata": {
        "id": "LwVVtDrpcDYf"
      },
      "execution_count": 11,
      "outputs": []
    },
    {
      "cell_type": "code",
      "source": [
        "list_1.extend(list_2)"
      ],
      "metadata": {
        "id": "D2SUbD5icDcF"
      },
      "execution_count": 12,
      "outputs": []
    },
    {
      "cell_type": "code",
      "source": [
        "print(list_1)"
      ],
      "metadata": {
        "colab": {
          "base_uri": "https://localhost:8080/"
        },
        "id": "pBSYjtDzcDhY",
        "outputId": "ad36edf8-95b4-40dd-d7b9-d9fa1a86c5cf"
      },
      "execution_count": 13,
      "outputs": [
        {
          "output_type": "stream",
          "name": "stdout",
          "text": [
            "[1, 2, 3, 4, 5, 5, 66, 78, 'bangla', 'english', 'physics', 'math', 'sun', 'moon', 'star', 5.36, 2, 3]\n"
          ]
        }
      ]
    },
    {
      "cell_type": "code",
      "source": [
        "list_3=[\"bangladesh\",\"srilanka\",\"india\",\"china\",1,2,3,4,5.66]"
      ],
      "metadata": {
        "id": "RxH8M8QZcDk_"
      },
      "execution_count": 14,
      "outputs": []
    },
    {
      "cell_type": "code",
      "source": [
        "list_3.extend([\"sun\",\"moon\",\"star\",5.36,2,3])"
      ],
      "metadata": {
        "id": "br_04BckcDpA"
      },
      "execution_count": 16,
      "outputs": []
    },
    {
      "cell_type": "code",
      "source": [
        "print(list_3)"
      ],
      "metadata": {
        "colab": {
          "base_uri": "https://localhost:8080/"
        },
        "id": "o6Gc4rFJcDs9",
        "outputId": "4accc659-eeb6-4bf0-d51d-25636d3f3eae"
      },
      "execution_count": 17,
      "outputs": [
        {
          "output_type": "stream",
          "name": "stdout",
          "text": [
            "['bangladesh', 'srilanka', 'india', 'china', 1, 2, 3, 4, 5.66, 'sun', 'moon', 'star', 5.36, 2, 3]\n"
          ]
        }
      ]
    },
    {
      "cell_type": "code",
      "source": [
        "list_4=[\"hi\",\"hello\",\"thank u\",1,2,3,4,5.33]"
      ],
      "metadata": {
        "id": "X5O2fwzX07Gi"
      },
      "execution_count": 18,
      "outputs": []
    },
    {
      "cell_type": "code",
      "source": [
        "list_4"
      ],
      "metadata": {
        "colab": {
          "base_uri": "https://localhost:8080/"
        },
        "id": "Z9oVFtYK1VeO",
        "outputId": "2736003e-dff5-4437-ab6b-a88e60c73def"
      },
      "execution_count": 21,
      "outputs": [
        {
          "output_type": "execute_result",
          "data": {
            "text/plain": [
              "['hi', 'hello', 'thank u', 1, 2, 3, 4, 5.33]"
            ]
          },
          "metadata": {},
          "execution_count": 21
        }
      ]
    },
    {
      "cell_type": "code",
      "source": [
        "list_5=[\"hi\",\"hello\",\"thank u\",1,2,3,4,5.33,\"bangla\",\"english\",\"hindi\"]"
      ],
      "metadata": {
        "id": "-T-nAynF068V"
      },
      "execution_count": 20,
      "outputs": []
    },
    {
      "cell_type": "code",
      "source": [
        "list_5"
      ],
      "metadata": {
        "colab": {
          "base_uri": "https://localhost:8080/"
        },
        "id": "m-EZpiZD063F",
        "outputId": "a0d75586-7a80-4496-96cd-354349a4e586"
      },
      "execution_count": 22,
      "outputs": [
        {
          "output_type": "execute_result",
          "data": {
            "text/plain": [
              "['hi', 'hello', 'thank u', 1, 2, 3, 4, 5.33, 'bangla', 'english', 'hindi']"
            ]
          },
          "metadata": {},
          "execution_count": 22
        }
      ]
    },
    {
      "cell_type": "code",
      "source": [
        "print(\"Updated list\",list_4+list_5)"
      ],
      "metadata": {
        "colab": {
          "base_uri": "https://localhost:8080/"
        },
        "id": "n14fiqWl06xf",
        "outputId": "ee4df65f-9602-4254-ffe9-492ba9715766"
      },
      "execution_count": 23,
      "outputs": [
        {
          "output_type": "stream",
          "name": "stdout",
          "text": [
            "Updated list ['hi', 'hello', 'thank u', 1, 2, 3, 4, 5.33, 'hi', 'hello', 'thank u', 1, 2, 3, 4, 5.33, 'bangla', 'english', 'hindi']\n"
          ]
        }
      ]
    },
    {
      "cell_type": "code",
      "source": [
        "list_6=[\"hi\",\"hello\",\"thank u\",1,2,3,4,5.33,\"bangla\",\"english\",\"hindi\"]"
      ],
      "metadata": {
        "id": "zBn6DUYV06tE"
      },
      "execution_count": 24,
      "outputs": []
    },
    {
      "cell_type": "code",
      "source": [
        "list_6"
      ],
      "metadata": {
        "colab": {
          "base_uri": "https://localhost:8080/"
        },
        "id": "NnsYcnk706og",
        "outputId": "fd695cf4-5fea-4a9e-8779-b4ee35b1fdaf"
      },
      "execution_count": 25,
      "outputs": [
        {
          "output_type": "execute_result",
          "data": {
            "text/plain": [
              "['hi', 'hello', 'thank u', 1, 2, 3, 4, 5.33, 'bangla', 'english', 'hindi']"
            ]
          },
          "metadata": {},
          "execution_count": 25
        }
      ]
    },
    {
      "cell_type": "code",
      "source": [
        "list_7=[\"hi\",\"hello\",\"thank u\",1,2,3,4,5.33,\"bangla\",\"english\",\"hindi\",\"bangladesh is a poor country\"]"
      ],
      "metadata": {
        "id": "33AzMGmA06jj"
      },
      "execution_count": 26,
      "outputs": []
    },
    {
      "cell_type": "code",
      "source": [
        "list_6.append(list_7)"
      ],
      "metadata": {
        "id": "rAeHhHjm06fC"
      },
      "execution_count": 27,
      "outputs": []
    },
    {
      "cell_type": "markdown",
      "source": [
        "# Create Multi dimensional list"
      ],
      "metadata": {
        "id": "SRZK-HPw2U5h"
      }
    },
    {
      "cell_type": "code",
      "source": [
        "print(list_6)"
      ],
      "metadata": {
        "colab": {
          "base_uri": "https://localhost:8080/"
        },
        "id": "J2-BG27FcDwN",
        "outputId": "a2caed4b-3ccf-4a2f-a69b-b06c85cb03bf"
      },
      "execution_count": 28,
      "outputs": [
        {
          "output_type": "stream",
          "name": "stdout",
          "text": [
            "['hi', 'hello', 'thank u', 1, 2, 3, 4, 5.33, 'bangla', 'english', 'hindi', ['hi', 'hello', 'thank u', 1, 2, 3, 4, 5.33, 'bangla', 'english', 'hindi', 'bangladesh is a poor country']]\n"
          ]
        }
      ]
    },
    {
      "cell_type": "code",
      "source": [],
      "metadata": {
        "id": "TNSJ261N2Z17"
      },
      "execution_count": null,
      "outputs": []
    },
    {
      "cell_type": "code",
      "source": [],
      "metadata": {
        "id": "ee7pLmKi2Zu7"
      },
      "execution_count": null,
      "outputs": []
    },
    {
      "cell_type": "code",
      "source": [],
      "metadata": {
        "id": "_K1yA70F2Zmg"
      },
      "execution_count": null,
      "outputs": []
    },
    {
      "cell_type": "code",
      "source": [],
      "metadata": {
        "id": "1BwzMMVM2Zdj"
      },
      "execution_count": null,
      "outputs": []
    },
    {
      "cell_type": "code",
      "source": [],
      "metadata": {
        "id": "A6q2tdV42ZW7"
      },
      "execution_count": null,
      "outputs": []
    }
  ]
}