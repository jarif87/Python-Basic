{
  "nbformat": 4,
  "nbformat_minor": 0,
  "metadata": {
    "colab": {
      "provenance": []
    },
    "kernelspec": {
      "name": "python3",
      "display_name": "Python 3"
    },
    "language_info": {
      "name": "python"
    }
  },
  "cells": [
    {
      "cell_type": "code",
      "execution_count": 1,
      "metadata": {
        "id": "7smLs7Y4EQRH"
      },
      "outputs": [],
      "source": [
        "tuple0=(1,2,3,4,5,6,7)"
      ]
    },
    {
      "cell_type": "code",
      "source": [
        "tuple1=(1,2,3,4,5,6,\"bangla\",\"english\",5.336,3.55)"
      ],
      "metadata": {
        "id": "CqXAoD9bEaJ_"
      },
      "execution_count": 2,
      "outputs": []
    },
    {
      "cell_type": "code",
      "source": [
        "x=tuple0+tuple1"
      ],
      "metadata": {
        "id": "pf35TYLGF1sY"
      },
      "execution_count": 7,
      "outputs": []
    },
    {
      "cell_type": "code",
      "source": [
        "x"
      ],
      "metadata": {
        "colab": {
          "base_uri": "https://localhost:8080/"
        },
        "id": "ket40uscGKWS",
        "outputId": "059de15d-1444-4206-fba5-d7840dc3499f"
      },
      "execution_count": 8,
      "outputs": [
        {
          "output_type": "execute_result",
          "data": {
            "text/plain": [
              "(1, 2, 3, 4, 5, 6, 7, 1, 2, 3, 4, 5, 6, 'bangla', 'english', 5.336, 3.55)"
            ]
          },
          "metadata": {},
          "execution_count": 8
        }
      ]
    },
    {
      "cell_type": "code",
      "source": [
        "y=x+tuple0+tuple1+(\"bangladesh is a poor country\",)"
      ],
      "metadata": {
        "id": "y4uQY1IYGf0f"
      },
      "execution_count": 10,
      "outputs": []
    },
    {
      "cell_type": "code",
      "source": [
        "print(y)"
      ],
      "metadata": {
        "colab": {
          "base_uri": "https://localhost:8080/"
        },
        "id": "xhlu5-AYGsWZ",
        "outputId": "51ac923b-ce8a-47a4-eca6-cd29e8e48cf2"
      },
      "execution_count": 12,
      "outputs": [
        {
          "output_type": "stream",
          "name": "stdout",
          "text": [
            "(1, 2, 3, 4, 5, 6, 7, 1, 2, 3, 4, 5, 6, 'bangla', 'english', 5.336, 3.55, 1, 2, 3, 4, 5, 6, 7, 1, 2, 3, 4, 5, 6, 'bangla', 'english', 5.336, 3.55, 'bangladesh is a poor country')\n"
          ]
        }
      ]
    },
    {
      "cell_type": "markdown",
      "source": [
        "# print multiple items using multiplication"
      ],
      "metadata": {
        "id": "YLDaiomjIJnL"
      }
    },
    {
      "cell_type": "code",
      "source": [
        "new_tup=(\"program\",)*3"
      ],
      "metadata": {
        "id": "VWmMHyYLGwkw"
      },
      "execution_count": 13,
      "outputs": []
    },
    {
      "cell_type": "code",
      "source": [
        "print(new_tup)"
      ],
      "metadata": {
        "colab": {
          "base_uri": "https://localhost:8080/"
        },
        "id": "90z2GZnDIF8s",
        "outputId": "1ddb57be-b892-46aa-aa6c-c88c16af795b"
      },
      "execution_count": 14,
      "outputs": [
        {
          "output_type": "stream",
          "name": "stdout",
          "text": [
            "('program', 'program', 'program')\n"
          ]
        }
      ]
    },
    {
      "cell_type": "code",
      "source": [
        "type(x)"
      ],
      "metadata": {
        "colab": {
          "base_uri": "https://localhost:8080/"
        },
        "id": "ggzpA8a0GMM9",
        "outputId": "f96536e0-9171-4dce-bcf6-ff4ea700fe9e"
      },
      "execution_count": 9,
      "outputs": [
        {
          "output_type": "execute_result",
          "data": {
            "text/plain": [
              "tuple"
            ]
          },
          "metadata": {},
          "execution_count": 9
        }
      ]
    },
    {
      "cell_type": "code",
      "source": [
        "type2=(\"bangla\")"
      ],
      "metadata": {
        "id": "ILm8dmt9EaPf"
      },
      "execution_count": 3,
      "outputs": []
    },
    {
      "cell_type": "code",
      "source": [
        "type(type2)"
      ],
      "metadata": {
        "colab": {
          "base_uri": "https://localhost:8080/"
        },
        "id": "6JsLwIu9EaU5",
        "outputId": "6e327ddd-a7a1-44ba-971f-a13b0ff23dc4"
      },
      "execution_count": 4,
      "outputs": [
        {
          "output_type": "execute_result",
          "data": {
            "text/plain": [
              "str"
            ]
          },
          "metadata": {},
          "execution_count": 4
        }
      ]
    },
    {
      "cell_type": "code",
      "source": [
        "type3=(\"bangla\",)"
      ],
      "metadata": {
        "id": "5USP8ZC6EaZC"
      },
      "execution_count": 5,
      "outputs": []
    },
    {
      "cell_type": "code",
      "source": [
        "type(type3)"
      ],
      "metadata": {
        "colab": {
          "base_uri": "https://localhost:8080/"
        },
        "id": "gFdmKahLEad1",
        "outputId": "50b6ce9c-bf6a-44a6-c9cc-311b98d01e7d"
      },
      "execution_count": 6,
      "outputs": [
        {
          "output_type": "execute_result",
          "data": {
            "text/plain": [
              "tuple"
            ]
          },
          "metadata": {},
          "execution_count": 6
        }
      ]
    },
    {
      "cell_type": "code",
      "source": [],
      "metadata": {
        "id": "r_btNu5yEaiZ"
      },
      "execution_count": null,
      "outputs": []
    },
    {
      "cell_type": "code",
      "source": [],
      "metadata": {
        "id": "mjfJxCXsEa7h"
      },
      "execution_count": null,
      "outputs": []
    }
  ]
}