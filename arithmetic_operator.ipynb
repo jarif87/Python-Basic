{
  "nbformat": 4,
  "nbformat_minor": 0,
  "metadata": {
    "colab": {
      "provenance": []
    },
    "kernelspec": {
      "name": "python3",
      "display_name": "Python 3"
    },
    "language_info": {
      "name": "python"
    }
  },
  "cells": [
    {
      "cell_type": "code",
      "execution_count": 1,
      "metadata": {
        "id": "sywnGu0GHZ7W"
      },
      "outputs": [],
      "source": [
        "num1=10\n",
        "num2=20\n",
        "sum=num1+num2"
      ]
    },
    {
      "cell_type": "code",
      "source": [
        "print(sum)"
      ],
      "metadata": {
        "colab": {
          "base_uri": "https://localhost:8080/"
        },
        "id": "qbQFkwtCHmK5",
        "outputId": "758a97d8-3733-4198-c0c8-f6a0cc02df98"
      },
      "execution_count": 2,
      "outputs": [
        {
          "output_type": "stream",
          "name": "stdout",
          "text": [
            "30\n"
          ]
        }
      ]
    },
    {
      "cell_type": "code",
      "source": [
        "print(sum+20)"
      ],
      "metadata": {
        "colab": {
          "base_uri": "https://localhost:8080/"
        },
        "id": "grzwm9yVHmQY",
        "outputId": "d42f8277-03bb-44c3-e95a-2c5edea24874"
      },
      "execution_count": 3,
      "outputs": [
        {
          "output_type": "stream",
          "name": "stdout",
          "text": [
            "50\n"
          ]
        }
      ]
    },
    {
      "cell_type": "code",
      "source": [
        "num1=20\n",
        "num2=4"
      ],
      "metadata": {
        "id": "YcKkQIqmHmTu"
      },
      "execution_count": 4,
      "outputs": []
    },
    {
      "cell_type": "code",
      "source": [
        "subtract=num1-num2"
      ],
      "metadata": {
        "id": "hpRncFROHmYn"
      },
      "execution_count": 6,
      "outputs": []
    },
    {
      "cell_type": "code",
      "source": [
        "print(subtract)"
      ],
      "metadata": {
        "colab": {
          "base_uri": "https://localhost:8080/"
        },
        "id": "cMY5AWvtHmb0",
        "outputId": "2a48f81e-69b0-4dac-fa41-ac3e3ae259ee"
      },
      "execution_count": 7,
      "outputs": [
        {
          "output_type": "stream",
          "name": "stdout",
          "text": [
            "16\n"
          ]
        }
      ]
    },
    {
      "cell_type": "markdown",
      "source": [
        "# multiplication"
      ],
      "metadata": {
        "id": "50vWfeLfIbzE"
      }
    },
    {
      "cell_type": "code",
      "source": [
        "mul=num1*num2\n",
        "print(mul)"
      ],
      "metadata": {
        "colab": {
          "base_uri": "https://localhost:8080/"
        },
        "id": "Yc1Gfah2HmfF",
        "outputId": "978211ce-df9b-44b6-ff0a-687de88583d3"
      },
      "execution_count": 8,
      "outputs": [
        {
          "output_type": "stream",
          "name": "stdout",
          "text": [
            "80\n"
          ]
        }
      ]
    },
    {
      "cell_type": "markdown",
      "source": [
        "# float division"
      ],
      "metadata": {
        "id": "YB4PMZwVIial"
      }
    },
    {
      "cell_type": "code",
      "source": [
        "num1=10\n",
        "num2=3\n",
        "float_division=num1/num2\n",
        "print(float_division)"
      ],
      "metadata": {
        "colab": {
          "base_uri": "https://localhost:8080/"
        },
        "id": "zJhCfmJKHmiQ",
        "outputId": "cd74bce9-59f9-4ebe-a7b6-181e1b631340"
      },
      "execution_count": 10,
      "outputs": [
        {
          "output_type": "stream",
          "name": "stdout",
          "text": [
            "3.3333333333333335\n"
          ]
        }
      ]
    },
    {
      "cell_type": "markdown",
      "source": [
        "# floor division"
      ],
      "metadata": {
        "id": "hfWlTF-QI7c5"
      }
    },
    {
      "cell_type": "code",
      "source": [
        "num1=10\n",
        "num2=3\n",
        "floor_division=num1//num2\n",
        "print(floor_division)"
      ],
      "metadata": {
        "colab": {
          "base_uri": "https://localhost:8080/"
        },
        "id": "HlrQZ_OUHmld",
        "outputId": "9a031d14-43dd-4dd5-def2-86fb97a48a19"
      },
      "execution_count": 12,
      "outputs": [
        {
          "output_type": "stream",
          "name": "stdout",
          "text": [
            "3\n"
          ]
        }
      ]
    },
    {
      "cell_type": "markdown",
      "source": [
        "# Reminder"
      ],
      "metadata": {
        "id": "1kWtCcIVJg9b"
      }
    },
    {
      "cell_type": "code",
      "source": [
        "mod=10%3\n",
        "print(mod)"
      ],
      "metadata": {
        "colab": {
          "base_uri": "https://localhost:8080/"
        },
        "id": "p5-nsfArHmon",
        "outputId": "0a0571a5-0b5b-43c4-a79b-d1bc58763228"
      },
      "execution_count": 13,
      "outputs": [
        {
          "output_type": "stream",
          "name": "stdout",
          "text": [
            "1\n"
          ]
        }
      ]
    },
    {
      "cell_type": "markdown",
      "source": [
        "# Power"
      ],
      "metadata": {
        "id": "Xe1vDEZ3M5xw"
      }
    },
    {
      "cell_type": "code",
      "source": [
        "num1=3**2\n",
        "print(num1)"
      ],
      "metadata": {
        "colab": {
          "base_uri": "https://localhost:8080/"
        },
        "id": "ATj-1Gm_Hmrl",
        "outputId": "dc41a156-a2e9-44a0-e549-f5a1fc933454"
      },
      "execution_count": 14,
      "outputs": [
        {
          "output_type": "stream",
          "name": "stdout",
          "text": [
            "9\n"
          ]
        }
      ]
    },
    {
      "cell_type": "code",
      "source": [],
      "metadata": {
        "id": "Kxp9ETXeHmx5"
      },
      "execution_count": null,
      "outputs": []
    },
    {
      "cell_type": "code",
      "source": [],
      "metadata": {
        "id": "7a8e_HC0Hm0_"
      },
      "execution_count": null,
      "outputs": []
    },
    {
      "cell_type": "code",
      "source": [],
      "metadata": {
        "id": "kGnbdyTDHm37"
      },
      "execution_count": null,
      "outputs": []
    }
  ]
}