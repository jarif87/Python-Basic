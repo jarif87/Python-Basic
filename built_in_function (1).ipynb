{
  "nbformat": 4,
  "nbformat_minor": 0,
  "metadata": {
    "colab": {
      "provenance": []
    },
    "kernelspec": {
      "name": "python3",
      "display_name": "Python 3"
    },
    "language_info": {
      "name": "python"
    }
  },
  "cells": [
    {
      "cell_type": "code",
      "execution_count": 1,
      "metadata": {
        "id": "cOupiNPu2VMB"
      },
      "outputs": [],
      "source": [
        "int_list=[1,4,5,7,8,9,11,14,19,2,3,7,8]"
      ]
    },
    {
      "cell_type": "code",
      "source": [
        "int_list"
      ],
      "metadata": {
        "colab": {
          "base_uri": "https://localhost:8080/"
        },
        "id": "AwoYV77p2ZGQ",
        "outputId": "02c27512-23e1-42e0-a9ac-11922dea6f85"
      },
      "execution_count": 2,
      "outputs": [
        {
          "output_type": "execute_result",
          "data": {
            "text/plain": [
              "[1, 4, 5, 7, 8, 9, 11, 14, 19, 2, 3, 7, 8]"
            ]
          },
          "metadata": {},
          "execution_count": 2
        }
      ]
    },
    {
      "cell_type": "code",
      "source": [
        "int_list.sort()"
      ],
      "metadata": {
        "id": "9G7Uf_b62ZKO"
      },
      "execution_count": 4,
      "outputs": []
    },
    {
      "cell_type": "code",
      "source": [
        "print(int_list)"
      ],
      "metadata": {
        "colab": {
          "base_uri": "https://localhost:8080/"
        },
        "id": "kMHHeocG2ZOE",
        "outputId": "21d588b2-eca2-4311-ccad-d18f3f5f616b"
      },
      "execution_count": 5,
      "outputs": [
        {
          "output_type": "stream",
          "name": "stdout",
          "text": [
            "[1, 2, 3, 4, 5, 7, 7, 8, 8, 9, 11, 14, 19]\n"
          ]
        }
      ]
    },
    {
      "cell_type": "code",
      "source": [
        "x=[1,3,5,4,2,7,9,8,6,10,1.12,2.63,3.99,6.88,7.8,8.99]"
      ],
      "metadata": {
        "id": "YQr72N832ZSg"
      },
      "execution_count": 6,
      "outputs": []
    },
    {
      "cell_type": "code",
      "source": [
        "x"
      ],
      "metadata": {
        "colab": {
          "base_uri": "https://localhost:8080/"
        },
        "id": "HaNFFPy23WXj",
        "outputId": "cf389753-7d32-4b23-d840-1ce1b7e34be5"
      },
      "execution_count": 8,
      "outputs": [
        {
          "output_type": "execute_result",
          "data": {
            "text/plain": [
              "[1, 1.12, 2, 2.63, 3, 3.99, 4, 5, 6, 6.88, 7, 7.8, 8, 8.99, 9, 10]"
            ]
          },
          "metadata": {},
          "execution_count": 8
        }
      ]
    },
    {
      "cell_type": "code",
      "source": [
        "x.sort()"
      ],
      "metadata": {
        "id": "lGo5JITy2ZW9"
      },
      "execution_count": 9,
      "outputs": []
    },
    {
      "cell_type": "code",
      "source": [
        "print(x)"
      ],
      "metadata": {
        "colab": {
          "base_uri": "https://localhost:8080/"
        },
        "id": "RC8trvlu2ZbO",
        "outputId": "1a3baed6-a3ed-4118-cc35-aca5245f7598"
      },
      "execution_count": 10,
      "outputs": [
        {
          "output_type": "stream",
          "name": "stdout",
          "text": [
            "[1, 1.12, 2, 2.63, 3, 3.99, 4, 5, 6, 6.88, 7, 7.8, 8, 8.99, 9, 10]\n"
          ]
        }
      ]
    },
    {
      "cell_type": "code",
      "source": [
        "upper_list=[\"Bangla\",\"Math\",\"English\",\"Physics\"]"
      ],
      "metadata": {
        "id": "z7yewbYg2Ze5"
      },
      "execution_count": 11,
      "outputs": []
    },
    {
      "cell_type": "code",
      "source": [
        "upper_list"
      ],
      "metadata": {
        "colab": {
          "base_uri": "https://localhost:8080/"
        },
        "id": "5YDPQexj3_SP",
        "outputId": "ade55aa8-de31-482e-ef18-6e29a8574163"
      },
      "execution_count": 14,
      "outputs": [
        {
          "output_type": "execute_result",
          "data": {
            "text/plain": [
              "['Bangla', 'English', 'Math', 'Physics']"
            ]
          },
          "metadata": {},
          "execution_count": 14
        }
      ]
    },
    {
      "cell_type": "code",
      "source": [
        "upper_list.sort()"
      ],
      "metadata": {
        "id": "o4lzcdkr2Zjt"
      },
      "execution_count": 12,
      "outputs": []
    },
    {
      "cell_type": "code",
      "source": [
        "print(upper_list)"
      ],
      "metadata": {
        "colab": {
          "base_uri": "https://localhost:8080/"
        },
        "id": "6ZD2T0Na2ZnV",
        "outputId": "b4e77adc-224c-482e-afc9-984f12124b0c"
      },
      "execution_count": 13,
      "outputs": [
        {
          "output_type": "stream",
          "name": "stdout",
          "text": [
            "['Bangla', 'English', 'Math', 'Physics']\n"
          ]
        }
      ]
    },
    {
      "cell_type": "code",
      "source": [
        "lower_list=[\"bangla\",\"english\",\"math\",\"book\",\"biology\",\"chemistry\"]"
      ],
      "metadata": {
        "id": "BX5M8isA2Z5W"
      },
      "execution_count": 15,
      "outputs": []
    },
    {
      "cell_type": "code",
      "source": [
        "lower_list"
      ],
      "metadata": {
        "colab": {
          "base_uri": "https://localhost:8080/"
        },
        "id": "VzSIxzuc2Z87",
        "outputId": "3c0e421e-5dc9-4d8b-b406-dff2d3c12bd5"
      },
      "execution_count": 16,
      "outputs": [
        {
          "output_type": "execute_result",
          "data": {
            "text/plain": [
              "['bangla', 'english', 'math', 'book', 'biology', 'chemistry']"
            ]
          },
          "metadata": {},
          "execution_count": 16
        }
      ]
    },
    {
      "cell_type": "code",
      "source": [
        "lower_list.sort()"
      ],
      "metadata": {
        "id": "OBeQB6L02aAh"
      },
      "execution_count": 17,
      "outputs": []
    },
    {
      "cell_type": "code",
      "source": [
        "print(lower_list)"
      ],
      "metadata": {
        "colab": {
          "base_uri": "https://localhost:8080/"
        },
        "id": "0fveQo7i2aET",
        "outputId": "066da729-67f4-4465-d22d-726c9a7c7dec"
      },
      "execution_count": 18,
      "outputs": [
        {
          "output_type": "stream",
          "name": "stdout",
          "text": [
            "['bangla', 'biology', 'book', 'chemistry', 'english', 'math']\n"
          ]
        }
      ]
    },
    {
      "cell_type": "code",
      "source": [
        "y=lower_list+upper_list"
      ],
      "metadata": {
        "id": "t36UIrYr438A"
      },
      "execution_count": 19,
      "outputs": []
    },
    {
      "cell_type": "code",
      "source": [
        "print(y)"
      ],
      "metadata": {
        "colab": {
          "base_uri": "https://localhost:8080/"
        },
        "id": "U0jo8tDo43un",
        "outputId": "3810d1da-7490-4287-b6f0-6862064b33c9"
      },
      "execution_count": 21,
      "outputs": [
        {
          "output_type": "stream",
          "name": "stdout",
          "text": [
            "['bangla', 'biology', 'book', 'chemistry', 'english', 'math', 'Bangla', 'English', 'Math', 'Physics']\n"
          ]
        }
      ]
    },
    {
      "cell_type": "code",
      "source": [
        "y.sort()"
      ],
      "metadata": {
        "id": "WGk6SRd843mj"
      },
      "execution_count": 22,
      "outputs": []
    },
    {
      "cell_type": "code",
      "source": [
        "print(y)"
      ],
      "metadata": {
        "colab": {
          "base_uri": "https://localhost:8080/"
        },
        "id": "PmMrJlcw43e8",
        "outputId": "cce60c84-a642-4009-9bfa-de6aa46a8b42"
      },
      "execution_count": 23,
      "outputs": [
        {
          "output_type": "stream",
          "name": "stdout",
          "text": [
            "['Bangla', 'English', 'Math', 'Physics', 'bangla', 'biology', 'book', 'chemistry', 'english', 'math']\n"
          ]
        }
      ]
    },
    {
      "cell_type": "code",
      "source": [
        "y.sort(key=str.lower,reverse=True)"
      ],
      "metadata": {
        "id": "Yu8xzl5843P_"
      },
      "execution_count": 24,
      "outputs": []
    },
    {
      "cell_type": "code",
      "source": [
        "print(y)"
      ],
      "metadata": {
        "colab": {
          "base_uri": "https://localhost:8080/"
        },
        "id": "2RGJ40zm43LD",
        "outputId": "9b62abcb-0a8c-4669-964b-a59b8cb715ae"
      },
      "execution_count": 26,
      "outputs": [
        {
          "output_type": "stream",
          "name": "stdout",
          "text": [
            "['Physics', 'Math', 'math', 'English', 'english', 'chemistry', 'book', 'biology', 'Bangla', 'bangla']\n"
          ]
        }
      ]
    },
    {
      "cell_type": "code",
      "source": [
        "y.sort(key=len)"
      ],
      "metadata": {
        "id": "zz_Z1nxr43HN"
      },
      "execution_count": 27,
      "outputs": []
    },
    {
      "cell_type": "code",
      "source": [
        "print(y)"
      ],
      "metadata": {
        "colab": {
          "base_uri": "https://localhost:8080/"
        },
        "id": "t-LhfeL_7sIt",
        "outputId": "cbcf1288-576a-4e05-d39d-8875b2f44518"
      },
      "execution_count": 28,
      "outputs": [
        {
          "output_type": "stream",
          "name": "stdout",
          "text": [
            "['Math', 'math', 'book', 'Bangla', 'bangla', 'Physics', 'English', 'english', 'biology', 'chemistry']\n"
          ]
        }
      ]
    },
    {
      "cell_type": "code",
      "source": [
        "y.sort(key=len,reverse=True)"
      ],
      "metadata": {
        "id": "oo8VVgHC7vbR"
      },
      "execution_count": 29,
      "outputs": []
    },
    {
      "cell_type": "code",
      "source": [
        "print(y)"
      ],
      "metadata": {
        "colab": {
          "base_uri": "https://localhost:8080/"
        },
        "id": "IseH8p2O7ve8",
        "outputId": "42511b99-ea2c-4618-c27a-2a79469140de"
      },
      "execution_count": 30,
      "outputs": [
        {
          "output_type": "stream",
          "name": "stdout",
          "text": [
            "['chemistry', 'Physics', 'English', 'english', 'biology', 'Bangla', 'bangla', 'Math', 'math', 'book']\n"
          ]
        }
      ]
    },
    {
      "cell_type": "code",
      "source": [],
      "metadata": {
        "id": "ubmqkl727vim"
      },
      "execution_count": null,
      "outputs": []
    },
    {
      "cell_type": "code",
      "source": [],
      "metadata": {
        "id": "xt5hhT_P7vm3"
      },
      "execution_count": null,
      "outputs": []
    },
    {
      "cell_type": "code",
      "source": [],
      "metadata": {
        "id": "U4JIGUAT7vq-"
      },
      "execution_count": null,
      "outputs": []
    }
  ]
}