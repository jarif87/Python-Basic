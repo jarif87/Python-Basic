{
  "nbformat": 4,
  "nbformat_minor": 0,
  "metadata": {
    "colab": {
      "provenance": []
    },
    "kernelspec": {
      "name": "python3",
      "display_name": "Python 3"
    },
    "language_info": {
      "name": "python"
    }
  },
  "cells": [
    {
      "cell_type": "code",
      "execution_count": 29,
      "metadata": {
        "id": "0ZTzF6UwVHFH"
      },
      "outputs": [],
      "source": [
        "text=\"bangladesh\"\n",
        "text_1=\"america\"\n",
        "text_2=\"russia\""
      ]
    },
    {
      "cell_type": "code",
      "source": [
        "x=\"-\".join(text)"
      ],
      "metadata": {
        "id": "5otSUntHVdr8"
      },
      "execution_count": 30,
      "outputs": []
    },
    {
      "cell_type": "code",
      "source": [
        "print(x)"
      ],
      "metadata": {
        "colab": {
          "base_uri": "https://localhost:8080/"
        },
        "id": "PlOh5d0JVdz6",
        "outputId": "c4e74e3e-e614-402b-bec8-2bdf322aa3fc"
      },
      "execution_count": 31,
      "outputs": [
        {
          "output_type": "stream",
          "name": "stdout",
          "text": [
            "b-a-n-g-l-a-d-e-s-h\n"
          ]
        }
      ]
    },
    {
      "cell_type": "code",
      "source": [
        "print(len(text_1))"
      ],
      "metadata": {
        "colab": {
          "base_uri": "https://localhost:8080/"
        },
        "id": "96ljxi3MVd5E",
        "outputId": "d985de74-24ad-4482-f55b-990ee961700f"
      },
      "execution_count": 32,
      "outputs": [
        {
          "output_type": "stream",
          "name": "stdout",
          "text": [
            "7\n"
          ]
        }
      ]
    },
    {
      "cell_type": "code",
      "source": [
        "y=\"i am a student\""
      ],
      "metadata": {
        "id": "HvAASglYVd-S"
      },
      "execution_count": 33,
      "outputs": []
    },
    {
      "cell_type": "code",
      "source": [
        "print(y.capitalize())"
      ],
      "metadata": {
        "colab": {
          "base_uri": "https://localhost:8080/"
        },
        "id": "gkUAo8_PVeCI",
        "outputId": "60305f03-352c-4f50-f875-0e7ceb9458f2"
      },
      "execution_count": 34,
      "outputs": [
        {
          "output_type": "stream",
          "name": "stdout",
          "text": [
            "I am a student\n"
          ]
        }
      ]
    },
    {
      "cell_type": "code",
      "source": [
        "text_4=\"bangladesh is a poor country\""
      ],
      "metadata": {
        "id": "8P5OdJD8VeFu"
      },
      "execution_count": 35,
      "outputs": []
    },
    {
      "cell_type": "code",
      "source": [
        "m=text_4.upper()"
      ],
      "metadata": {
        "id": "kHXApS-qVeJm"
      },
      "execution_count": 36,
      "outputs": []
    },
    {
      "cell_type": "code",
      "source": [
        "print(m)"
      ],
      "metadata": {
        "colab": {
          "base_uri": "https://localhost:8080/"
        },
        "id": "WqGeXeUiVeMo",
        "outputId": "64093df3-8426-4ed1-daac-ab3ff46c3424"
      },
      "execution_count": 37,
      "outputs": [
        {
          "output_type": "stream",
          "name": "stdout",
          "text": [
            "BANGLADESH IS A POOR COUNTRY\n"
          ]
        }
      ]
    },
    {
      "cell_type": "code",
      "source": [
        "name=\"tamim iqbal\""
      ],
      "metadata": {
        "id": "WU9LlgQqVePb"
      },
      "execution_count": 38,
      "outputs": []
    },
    {
      "cell_type": "code",
      "source": [
        "title=name.title()"
      ],
      "metadata": {
        "id": "T5EbVdlFVeSo"
      },
      "execution_count": 39,
      "outputs": []
    },
    {
      "cell_type": "code",
      "source": [
        "print(title)"
      ],
      "metadata": {
        "colab": {
          "base_uri": "https://localhost:8080/"
        },
        "id": "wFKBrYaQWqsy",
        "outputId": "4ec03ef7-eba5-4b2d-f07c-86d97e4810c6"
      },
      "execution_count": 40,
      "outputs": [
        {
          "output_type": "stream",
          "name": "stdout",
          "text": [
            "Tamim Iqbal\n"
          ]
        }
      ]
    },
    {
      "cell_type": "code",
      "source": [
        "food=\"I LOVE PIZZA\""
      ],
      "metadata": {
        "id": "DXNOKqHlWqpR"
      },
      "execution_count": 41,
      "outputs": []
    },
    {
      "cell_type": "code",
      "source": [
        "dish=food.lower()"
      ],
      "metadata": {
        "id": "JaWVx77TWvIX"
      },
      "execution_count": 42,
      "outputs": []
    },
    {
      "cell_type": "code",
      "source": [
        "print(dish)"
      ],
      "metadata": {
        "colab": {
          "base_uri": "https://localhost:8080/"
        },
        "id": "KrXtWv5NWvC3",
        "outputId": "816b798c-35a2-4064-e571-77c1c859b490"
      },
      "execution_count": 43,
      "outputs": [
        {
          "output_type": "stream",
          "name": "stdout",
          "text": [
            "i love pizza\n"
          ]
        }
      ]
    },
    {
      "cell_type": "code",
      "source": [
        "c=\"I love Eating bUrger which is GooD foR HeaLTh\""
      ],
      "metadata": {
        "id": "ejnUm6PFWu9q"
      },
      "execution_count": 44,
      "outputs": []
    },
    {
      "cell_type": "code",
      "source": [
        "swap_case=c.swapcase()"
      ],
      "metadata": {
        "id": "3tWPbPujWu5N"
      },
      "execution_count": 45,
      "outputs": []
    },
    {
      "cell_type": "code",
      "source": [
        "print(swap_case)"
      ],
      "metadata": {
        "colab": {
          "base_uri": "https://localhost:8080/"
        },
        "id": "zidaz7vWWu0l",
        "outputId": "4a47d93e-dfa4-4442-d0ab-850adb8293c1"
      },
      "execution_count": 46,
      "outputs": [
        {
          "output_type": "stream",
          "name": "stdout",
          "text": [
            "i LOVE eATING BuRGER WHICH IS gOOd FOr hEAltH\n"
          ]
        }
      ]
    },
    {
      "cell_type": "markdown",
      "source": [
        "# Count"
      ],
      "metadata": {
        "id": "QtNecUTUZ6zY"
      }
    },
    {
      "cell_type": "code",
      "source": [
        "x=\"i love my country so much\""
      ],
      "metadata": {
        "id": "1mQaT-7HZ6St"
      },
      "execution_count": 47,
      "outputs": []
    },
    {
      "cell_type": "code",
      "source": [
        "y=x.count(\"much\")"
      ],
      "metadata": {
        "id": "qKFlKvp6Z6OV"
      },
      "execution_count": 48,
      "outputs": []
    },
    {
      "cell_type": "code",
      "source": [
        "print(y)"
      ],
      "metadata": {
        "colab": {
          "base_uri": "https://localhost:8080/"
        },
        "id": "xctD_OVMZ6I5",
        "outputId": "f2baf81f-6963-48c5-8304-f0d4aa996a39"
      },
      "execution_count": 49,
      "outputs": [
        {
          "output_type": "stream",
          "name": "stdout",
          "text": [
            "1\n"
          ]
        }
      ]
    },
    {
      "cell_type": "code",
      "source": [
        "print(\"w exists\",x.count(\"w\"),\"times\")"
      ],
      "metadata": {
        "colab": {
          "base_uri": "https://localhost:8080/"
        },
        "id": "om-DCJhwZ6Bc",
        "outputId": "977fbe9d-665b-4910-8c65-3cb31c51ce90"
      },
      "execution_count": 50,
      "outputs": [
        {
          "output_type": "stream",
          "name": "stdout",
          "text": [
            "w exists 0 times\n"
          ]
        }
      ]
    },
    {
      "cell_type": "code",
      "source": [
        "y=\"i live in bangladesh\""
      ],
      "metadata": {
        "id": "4z3mygkxe7vE"
      },
      "execution_count": 51,
      "outputs": []
    },
    {
      "cell_type": "code",
      "source": [
        "print(y.count(\"a\",8))"
      ],
      "metadata": {
        "colab": {
          "base_uri": "https://localhost:8080/"
        },
        "id": "cRhGC97hYQLP",
        "outputId": "9ce906d4-015b-4380-be02-c8fefc0717bf"
      },
      "execution_count": 52,
      "outputs": [
        {
          "output_type": "stream",
          "name": "stdout",
          "text": [
            "2\n"
          ]
        }
      ]
    },
    {
      "cell_type": "code",
      "source": [
        "print(y.count(\"a\",0, 15))"
      ],
      "metadata": {
        "colab": {
          "base_uri": "https://localhost:8080/"
        },
        "id": "LFkPc3axYQG_",
        "outputId": "e236617e-910e-4d0c-f9ab-cad890e55336"
      },
      "execution_count": 53,
      "outputs": [
        {
          "output_type": "stream",
          "name": "stdout",
          "text": [
            "1\n"
          ]
        }
      ]
    },
    {
      "cell_type": "markdown",
      "source": [
        "# find index"
      ],
      "metadata": {
        "id": "i6MKWyOmpNiB"
      }
    },
    {
      "cell_type": "code",
      "source": [
        "text=\"i am a bangladesh\""
      ],
      "metadata": {
        "id": "1LTj7do8gQvl"
      },
      "execution_count": 54,
      "outputs": []
    },
    {
      "cell_type": "code",
      "source": [
        "print(text.find(\"a\"))"
      ],
      "metadata": {
        "id": "jTzRoKpKgQre",
        "colab": {
          "base_uri": "https://localhost:8080/"
        },
        "outputId": "51bed336-1459-4a75-a4d4-30ee3c5ed617"
      },
      "execution_count": 55,
      "outputs": [
        {
          "output_type": "stream",
          "name": "stdout",
          "text": [
            "2\n"
          ]
        }
      ]
    },
    {
      "cell_type": "code",
      "source": [
        "print(text.find(\"a\",   3))"
      ],
      "metadata": {
        "id": "fjuQcM5XgQli",
        "colab": {
          "base_uri": "https://localhost:8080/"
        },
        "outputId": "418026ad-d22f-4c68-dbbd-f23d7e3c9db7"
      },
      "execution_count": 56,
      "outputs": [
        {
          "output_type": "stream",
          "name": "stdout",
          "text": [
            "5\n"
          ]
        }
      ]
    },
    {
      "cell_type": "code",
      "source": [
        "print(\"index from right side\",text.rfind(\"a\",   ))"
      ],
      "metadata": {
        "id": "GIIRlyHHgQhd",
        "colab": {
          "base_uri": "https://localhost:8080/"
        },
        "outputId": "317d97d4-6aba-42e5-9018-b5087eb6b1e2"
      },
      "execution_count": 57,
      "outputs": [
        {
          "output_type": "stream",
          "name": "stdout",
          "text": [
            "index from right side 12\n"
          ]
        }
      ]
    },
    {
      "cell_type": "code",
      "source": [
        "sentence=\"polan is a beautiful country\""
      ],
      "metadata": {
        "id": "3STigbEjgQcw"
      },
      "execution_count": 58,
      "outputs": []
    },
    {
      "cell_type": "code",
      "source": [
        "print(sentence.replace(\"beautiful\",\"nice\"))"
      ],
      "metadata": {
        "id": "nL5r5ciAgQY4",
        "colab": {
          "base_uri": "https://localhost:8080/"
        },
        "outputId": "140ea152-bddf-4ad4-891d-b54fa77ab421"
      },
      "execution_count": 59,
      "outputs": [
        {
          "output_type": "stream",
          "name": "stdout",
          "text": [
            "polan is a nice country\n"
          ]
        }
      ]
    },
    {
      "cell_type": "code",
      "source": [
        "print(sentence.split())"
      ],
      "metadata": {
        "id": "LR8nZR9VgQTr",
        "colab": {
          "base_uri": "https://localhost:8080/"
        },
        "outputId": "893fb982-65c6-4833-934f-46bd84c31464"
      },
      "execution_count": 60,
      "outputs": [
        {
          "output_type": "stream",
          "name": "stdout",
          "text": [
            "['polan', 'is', 'a', 'beautiful', 'country']\n"
          ]
        }
      ]
    },
    {
      "cell_type": "code",
      "source": [
        "print(sentence.split()[3])"
      ],
      "metadata": {
        "id": "ZyIs1c2XgQPU",
        "colab": {
          "base_uri": "https://localhost:8080/"
        },
        "outputId": "8dcfd234-6013-45d4-ccc7-2e6c7def6f3c"
      },
      "execution_count": 61,
      "outputs": [
        {
          "output_type": "stream",
          "name": "stdout",
          "text": [
            "beautiful\n"
          ]
        }
      ]
    },
    {
      "cell_type": "code",
      "source": [
        "print(sentence.split(\"___________________________\"))"
      ],
      "metadata": {
        "id": "y298P0engQJc",
        "colab": {
          "base_uri": "https://localhost:8080/"
        },
        "outputId": "a414db81-8fad-47bd-cc35-9fe1101236db"
      },
      "execution_count": 64,
      "outputs": [
        {
          "output_type": "stream",
          "name": "stdout",
          "text": [
            "['polan is a beautiful country']\n"
          ]
        }
      ]
    },
    {
      "cell_type": "code",
      "source": [],
      "metadata": {
        "id": "4lnbs2UpgP_V"
      },
      "execution_count": 53,
      "outputs": []
    },
    {
      "cell_type": "code",
      "source": [],
      "metadata": {
        "id": "3AtNiuDRYQDQ"
      },
      "execution_count": 53,
      "outputs": []
    }
  ]
}