{
  "nbformat": 4,
  "nbformat_minor": 0,
  "metadata": {
    "colab": {
      "provenance": []
    },
    "kernelspec": {
      "name": "python3",
      "display_name": "Python 3"
    },
    "language_info": {
      "name": "python"
    }
  },
  "cells": [
    {
      "cell_type": "code",
      "execution_count": 13,
      "metadata": {
        "id": "P4BNWa5zZyOv"
      },
      "outputs": [],
      "source": [
        "class Birds:\n",
        "\n",
        "  def fly(self):\n",
        "    print(\"parrot can fly\")\n",
        "\n",
        "  def swim(self):\n",
        "    print(\"parrot cannot swim\")\n",
        "\n"
      ]
    },
    {
      "cell_type": "code",
      "source": [
        "class Penguin:\n",
        "\n",
        "  def fly(self):\n",
        "    print(\"penguin cannot fly\")\n",
        "\n",
        "  def swim(self):\n",
        "    print(\"penguins can swim\")"
      ],
      "metadata": {
        "id": "UKT1POCRZ4uF"
      },
      "execution_count": 14,
      "outputs": []
    },
    {
      "cell_type": "code",
      "source": [
        "#common_interface\n",
        "\n",
        "def flying_test(bird):\n",
        "  bird.fly()"
      ],
      "metadata": {
        "id": "YhsFtr6dZ42T"
      },
      "execution_count": 15,
      "outputs": []
    },
    {
      "cell_type": "code",
      "source": [
        "blu=Birds()"
      ],
      "metadata": {
        "id": "xTVQvOs9Z48p"
      },
      "execution_count": 16,
      "outputs": []
    },
    {
      "cell_type": "code",
      "source": [
        "png=Penguin()"
      ],
      "metadata": {
        "id": "_i5SNZkWZ5A-"
      },
      "execution_count": 17,
      "outputs": []
    },
    {
      "cell_type": "code",
      "source": [
        "flying_test(blu)"
      ],
      "metadata": {
        "colab": {
          "base_uri": "https://localhost:8080/"
        },
        "id": "tOoIKnzNZ5G0",
        "outputId": "c30d2df3-a176-4b47-fb4b-1a00093ee93c"
      },
      "execution_count": 18,
      "outputs": [
        {
          "output_type": "stream",
          "name": "stdout",
          "text": [
            "parrot can fly\n"
          ]
        }
      ]
    },
    {
      "cell_type": "code",
      "source": [
        "flying_test(png)"
      ],
      "metadata": {
        "colab": {
          "base_uri": "https://localhost:8080/"
        },
        "id": "BXBSNU2mZ5Lr",
        "outputId": "357a216c-b748-4f48-87ce-525bdd585c44"
      },
      "execution_count": 19,
      "outputs": [
        {
          "output_type": "stream",
          "name": "stdout",
          "text": [
            "penguin cannot fly\n"
          ]
        }
      ]
    },
    {
      "cell_type": "code",
      "source": [
        "def swimg_test(bird):\n",
        "  bird.swim()"
      ],
      "metadata": {
        "id": "9FOoNaN2Z5Ra"
      },
      "execution_count": 20,
      "outputs": []
    },
    {
      "cell_type": "code",
      "source": [
        "swimg_test(blu)"
      ],
      "metadata": {
        "colab": {
          "base_uri": "https://localhost:8080/"
        },
        "id": "f2Isx-I6Z5Vr",
        "outputId": "d87d2c3e-d3df-48ac-a7ae-962385d2fc2a"
      },
      "execution_count": 21,
      "outputs": [
        {
          "output_type": "stream",
          "name": "stdout",
          "text": [
            "parrot cannot swim\n"
          ]
        }
      ]
    },
    {
      "cell_type": "code",
      "source": [
        "swimg_test(png)"
      ],
      "metadata": {
        "colab": {
          "base_uri": "https://localhost:8080/"
        },
        "id": "DK0xdovkZ5Zk",
        "outputId": "e573f4ac-6502-4142-84a5-b606d1623a90"
      },
      "execution_count": 22,
      "outputs": [
        {
          "output_type": "stream",
          "name": "stdout",
          "text": [
            "penguins can swim\n"
          ]
        }
      ]
    },
    {
      "cell_type": "code",
      "source": [],
      "metadata": {
        "id": "4AK4WgAUZ5gQ"
      },
      "execution_count": 18,
      "outputs": []
    }
  ]
}