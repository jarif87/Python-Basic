{
  "cells": [
    {
      "cell_type": "code",
      "source": [
        "class Bird:\n",
        "    name=\"king_fisher\" #class variable\n",
        "       #(constructor) ,(instance variable)\n",
        "    def __init__(self,name,age):\n",
        "        \n",
        "        self.name=name\n",
        "        self.age=age                         "
      ],
      "metadata": {
        "cell_id": "c2b15ab3f6ea4b5383badd20ab18f787",
        "source_hash": "e2e4b354",
        "execution_start": 1673545691637,
        "execution_millis": 1,
        "deepnote_to_be_reexecuted": false,
        "deepnote_cell_type": "code",
        "id": "K8wkcmJvNA7E"
      },
      "outputs": [],
      "execution_count": 1
    },
    {
      "cell_type": "code",
      "source": [
        "blu_bird=Bird(\"Blu\",20)\n",
        "wo_bird=Bird(\"Wo\",40)"
      ],
      "metadata": {
        "cell_id": "31f8e9382cee4ee392bb7af06a8327dd",
        "source_hash": "154ce5b9",
        "execution_start": 1673545695626,
        "execution_millis": 0,
        "deepnote_to_be_reexecuted": false,
        "deepnote_cell_type": "code",
        "id": "JXoRabOENA7K"
      },
      "outputs": [],
      "execution_count": 2
    },
    {
      "cell_type": "code",
      "source": [
        "print(\"Blu is a {}\".format(blu_bird. __class__.name))"
      ],
      "metadata": {
        "cell_id": "b1a3a48c4a864de293952abbf5d0f79f",
        "source_hash": "8ec95b29",
        "execution_start": 1673545905273,
        "execution_millis": 2,
        "deepnote_to_be_reexecuted": false,
        "deepnote_cell_type": "code",
        "colab": {
          "base_uri": "https://localhost:8080/"
        },
        "id": "i6quB0ZNNA7L",
        "outputId": "4fe5429d-596c-4a89-ac77-62bfa6b4e092"
      },
      "outputs": [
        {
          "output_type": "stream",
          "name": "stdout",
          "text": [
            "Blu is a king_fisher\n"
          ]
        }
      ],
      "execution_count": 3
    },
    {
      "cell_type": "code",
      "source": [
        "print(\"Wo is a {}\".format(wo_bird.__class__.name))"
      ],
      "metadata": {
        "cell_id": "9a1e2a9c6ac14184865a9e14c8a0157e",
        "deepnote_cell_type": "code",
        "colab": {
          "base_uri": "https://localhost:8080/"
        },
        "id": "1BsQdpC9NA7O",
        "outputId": "37e001be-f88c-4595-9001-e5c8fa92043c"
      },
      "outputs": [
        {
          "output_type": "stream",
          "name": "stdout",
          "text": [
            "Wo is a king_fisher\n"
          ]
        }
      ],
      "execution_count": 4
    },
    {
      "cell_type": "code",
      "source": [
        "print(\"{} is {} years old\".format(blu_bird.name,blu_bird.age))"
      ],
      "metadata": {
        "cell_id": "d49d42e4fc544a50852d7900104ce85c",
        "deepnote_cell_type": "code",
        "colab": {
          "base_uri": "https://localhost:8080/"
        },
        "id": "IfLINaIfNA7P",
        "outputId": "ce369553-f0f4-414e-90f8-9d969126d57e"
      },
      "outputs": [
        {
          "output_type": "stream",
          "name": "stdout",
          "text": [
            "Blu is 20 years old\n"
          ]
        }
      ],
      "execution_count": 5
    },
    {
      "cell_type": "code",
      "source": [
        "print(\"{} is {} years old\".format(wo_bird.name,wo_bird.age))"
      ],
      "metadata": {
        "cell_id": "8d571f7fc4fc4f9d90877255c924e55c",
        "deepnote_cell_type": "code",
        "colab": {
          "base_uri": "https://localhost:8080/"
        },
        "id": "axHG61QZNA7Q",
        "outputId": "3cf12ee7-24b8-4523-f001-677854ae68ce"
      },
      "outputs": [
        {
          "output_type": "stream",
          "name": "stdout",
          "text": [
            "Wo is 40 years old\n"
          ]
        }
      ],
      "execution_count": 7
    },
    {
      "cell_type": "code",
      "source": [
        "class New_Car:\n",
        "    vehicle=\"car\"\n",
        "\n",
        "    def __init__(self,model):\n",
        "        self.model=model\n",
        "    def set_price(self,price):\n",
        "        self.price=price\n",
        "\n",
        "    def get_price(self):\n",
        "        return self.price"
      ],
      "metadata": {
        "cell_id": "3de3878a78b641aba8f6874da279a4be",
        "deepnote_cell_type": "code",
        "id": "OyFUy4uKNA7Q"
      },
      "outputs": [],
      "execution_count": 8
    },
    {
      "cell_type": "code",
      "source": [
        "audi=New_Car(\"v88\")"
      ],
      "metadata": {
        "cell_id": "71a5e26859604aa3871b0f83a50f1b64",
        "deepnote_cell_type": "code",
        "id": "5YbKq6_GNA7R"
      },
      "outputs": [],
      "execution_count": 9
    },
    {
      "cell_type": "code",
      "source": [
        "print(audi.model)"
      ],
      "metadata": {
        "cell_id": "2b511358ebec494ab32390f6759ec6dd",
        "deepnote_cell_type": "code",
        "colab": {
          "base_uri": "https://localhost:8080/"
        },
        "id": "84xFvvIJNA7R",
        "outputId": "92040892-ffe5-45a0-9c84-c630b8d92001"
      },
      "outputs": [
        {
          "output_type": "stream",
          "name": "stdout",
          "text": [
            "v88\n"
          ]
        }
      ],
      "execution_count": 10
    },
    {
      "cell_type": "code",
      "source": [
        "audi.set_price(154000)\n",
        "print(audi.get_price())"
      ],
      "metadata": {
        "cell_id": "5a66d03a14d44e538fc01f4efe2947d8",
        "deepnote_cell_type": "code",
        "colab": {
          "base_uri": "https://localhost:8080/"
        },
        "id": "6wwrcPmbNA7S",
        "outputId": "a921f3ae-a76a-4259-d6f2-d5380f8e7c75"
      },
      "outputs": [
        {
          "output_type": "stream",
          "name": "stdout",
          "text": [
            "154000\n"
          ]
        }
      ],
      "execution_count": 11
    },
    {
      "cell_type": "code",
      "source": [],
      "metadata": {
        "cell_id": "31d9a1224f5645cd9798d1efdcb7f33f",
        "deepnote_cell_type": "code",
        "id": "6vp9gleVNA7S"
      },
      "outputs": [],
      "execution_count": null
    },
    {
      "cell_type": "code",
      "source": [],
      "metadata": {
        "cell_id": "e5d6f4a1b3a6455195792a6e410e6937",
        "deepnote_cell_type": "code",
        "id": "C-Y53R9FNA7S"
      },
      "outputs": [],
      "execution_count": null
    },
    {
      "cell_type": "code",
      "source": [],
      "metadata": {
        "cell_id": "06b235893a0e4c7fa4c90c7bcfbcc929",
        "deepnote_cell_type": "code",
        "id": "kfQyYedGNA7T"
      },
      "outputs": [],
      "execution_count": null
    },
    {
      "cell_type": "markdown",
      "source": [
        "<a style='text-decoration:none;line-height:16px;display:flex;color:#5B5B62;padding:10px;justify-content:end;' href='https://deepnote.com?utm_source=created-in-deepnote-cell&projectId=b43704e1-f521-4ddd-a816-ce4ec68f5bd8' target=\"_blank\">\n",
        "<img alt='Created in deepnote.com' style='display:inline;max-height:16px;margin:0px;margin-right:7.5px;' src='data:image/svg+xml;base64,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' > </img>\n",
        "Created in <span style='font-weight:600;margin-left:4px;'>Deepnote</span></a>"
      ],
      "metadata": {
        "tags": [],
        "created_in_deepnote_cell": true,
        "deepnote_cell_type": "markdown",
        "id": "dnu-R8XXNA7T"
      }
    }
  ],
  "nbformat": 4,
  "nbformat_minor": 0,
  "metadata": {
    "vscode": {
      "interpreter": {
        "hash": "f6246b25e200e4c5124e3e61789ac81350562f0761bbcf92ad9e48654207659c"
      }
    },
    "deepnote": {},
    "kernelspec": {
      "name": "python3",
      "language": "python",
      "display_name": "Python 3"
    },
    "language_info": {
      "name": "python",
      "version": "3.9.1 (tags/v3.9.1:1e5d33e, Dec  7 2020, 17:08:21) [MSC v.1927 64 bit (AMD64)]"
    },
    "orig_nbformat": 4,
    "deepnote_notebook_id": "427c6fc2bd054111af33befa7958c16c",
    "deepnote_execution_queue": [],
    "colab": {
      "provenance": []
    }
  }
}