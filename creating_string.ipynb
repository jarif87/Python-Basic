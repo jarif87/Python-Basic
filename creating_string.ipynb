{
  "nbformat": 4,
  "nbformat_minor": 0,
  "metadata": {
    "colab": {
      "provenance": []
    },
    "kernelspec": {
      "name": "python3",
      "display_name": "Python 3"
    },
    "language_info": {
      "name": "python"
    }
  },
  "cells": [
    {
      "cell_type": "code",
      "execution_count": 1,
      "metadata": {
        "id": "CiH_joj-zLR9"
      },
      "outputs": [],
      "source": [
        "str1=\"bangla\"\n",
        "str2=\"english\"\n",
        "str3=\"math\""
      ]
    },
    {
      "cell_type": "code",
      "source": [
        "print(str1 +\"                      \" + str2  + \"   \" + str3)"
      ],
      "metadata": {
        "colab": {
          "base_uri": "https://localhost:8080/"
        },
        "id": "_aYj-k6GzNtQ",
        "outputId": "3b02bfdb-ac91-42a5-9c81-f4cf2ea00179"
      },
      "execution_count": 6,
      "outputs": [
        {
          "output_type": "stream",
          "name": "stdout",
          "text": [
            "bangla                      english   math\n"
          ]
        }
      ]
    },
    {
      "cell_type": "code",
      "source": [
        "print(str1+\"-\"+str2+\"-\"+str3)"
      ],
      "metadata": {
        "colab": {
          "base_uri": "https://localhost:8080/"
        },
        "id": "c-RM-q7MzNxA",
        "outputId": "6a65c68a-65ee-44fe-ab0b-4ef0940323b6"
      },
      "execution_count": 7,
      "outputs": [
        {
          "output_type": "stream",
          "name": "stdout",
          "text": [
            "bangla-english-math\n"
          ]
        }
      ]
    },
    {
      "cell_type": "code",
      "source": [],
      "metadata": {
        "id": "Uzqd7Tw9zN1s"
      },
      "execution_count": null,
      "outputs": []
    },
    {
      "cell_type": "code",
      "source": [],
      "metadata": {
        "id": "M1L2wRQNzN52"
      },
      "execution_count": null,
      "outputs": []
    }
  ]
}