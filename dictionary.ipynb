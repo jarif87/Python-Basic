{
  "nbformat": 4,
  "nbformat_minor": 0,
  "metadata": {
    "colab": {
      "provenance": []
    },
    "kernelspec": {
      "name": "python3",
      "display_name": "Python 3"
    },
    "language_info": {
      "name": "python"
    }
  },
  "cells": [
    {
      "cell_type": "code",
      "execution_count": null,
      "metadata": {
        "id": "h-WmkMg1Xq-M"
      },
      "outputs": [],
      "source": [
        "purse=dict()"
      ]
    },
    {
      "cell_type": "code",
      "source": [
        "purse[\"money\"]=\"taka\"\n",
        "purse[\"bag\"]=\"pen\"\n",
        "purse[\"bangla\"]=90\n",
        "purse[\"english\"]=80"
      ],
      "metadata": {
        "id": "bVIxKRHPXukJ"
      },
      "execution_count": null,
      "outputs": []
    },
    {
      "cell_type": "code",
      "source": [
        "print(purse)"
      ],
      "metadata": {
        "colab": {
          "base_uri": "https://localhost:8080/"
        },
        "id": "IlKAr0aGXuoZ",
        "outputId": "680035cb-780b-4960-b7c5-13e14f9ca76b"
      },
      "execution_count": null,
      "outputs": [
        {
          "output_type": "stream",
          "name": "stdout",
          "text": [
            "{'money': 'taka', 'bag': 'pen', 'bangla': 90, 'english': 80}\n"
          ]
        }
      ]
    },
    {
      "cell_type": "code",
      "source": [
        "purse[\"english\"] +=2"
      ],
      "metadata": {
        "id": "O__YFHuFXusa"
      },
      "execution_count": null,
      "outputs": []
    },
    {
      "cell_type": "code",
      "source": [
        "print(purse)"
      ],
      "metadata": {
        "colab": {
          "base_uri": "https://localhost:8080/"
        },
        "id": "BjZPIMxKXuwU",
        "outputId": "3cd6a3e2-b799-4968-fa14-6d32cd767340"
      },
      "execution_count": null,
      "outputs": [
        {
          "output_type": "stream",
          "name": "stdout",
          "text": [
            "{'money': 'taka', 'bag': 'pen', 'bangla': 90, 'english': 82}\n"
          ]
        }
      ]
    },
    {
      "cell_type": "code",
      "source": [
        "dict = {\"Fri\": 20, \"Thu\": 6, \"Sat\": 1}\n",
        "dict[\"Thu\"] = 13\n",
        "dict[\"Sat\"] = 2\n",
        "dict[\"Sun\"] = 9"
      ],
      "metadata": {
        "id": "K2Fg2Ur5Xu0L"
      },
      "execution_count": null,
      "outputs": []
    },
    {
      "cell_type": "code",
      "source": [
        "print(dict)"
      ],
      "metadata": {
        "colab": {
          "base_uri": "https://localhost:8080/"
        },
        "id": "SDAjK4NpXu38",
        "outputId": "fa0711fe-e6e9-427f-8a69-76b20192731e"
      },
      "execution_count": null,
      "outputs": [
        {
          "output_type": "stream",
          "name": "stdout",
          "text": [
            "{'Fri': 20, 'Thu': 13, 'Sat': 2, 'Sun': 9}\n"
          ]
        }
      ]
    },
    {
      "cell_type": "code",
      "source": [],
      "metadata": {
        "id": "FaVvz22GXu7z"
      },
      "execution_count": null,
      "outputs": []
    },
    {
      "cell_type": "code",
      "source": [],
      "metadata": {
        "id": "IdAhNTZyXu_n"
      },
      "execution_count": null,
      "outputs": []
    },
    {
      "cell_type": "code",
      "source": [],
      "metadata": {
        "id": "1L0DAnF2XvC0"
      },
      "execution_count": null,
      "outputs": []
    },
    {
      "cell_type": "code",
      "source": [],
      "metadata": {
        "id": "gJZcD3DRXvG8"
      },
      "execution_count": null,
      "outputs": []
    }
  ]
}