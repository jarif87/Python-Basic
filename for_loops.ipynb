{
  "nbformat": 4,
  "nbformat_minor": 0,
  "metadata": {
    "colab": {
      "provenance": []
    },
    "kernelspec": {
      "name": "python3",
      "display_name": "Python 3"
    },
    "language_info": {
      "name": "python"
    }
  },
  "cells": [
    {
      "cell_type": "code",
      "execution_count": 1,
      "metadata": {
        "id": "AilW2Em9Djy-"
      },
      "outputs": [],
      "source": [
        "text=\"bangladesh is a small country\""
      ]
    },
    {
      "cell_type": "code",
      "source": [
        "for i in text:\n",
        "  print(i)\n",
        "  # print(text)"
      ],
      "metadata": {
        "colab": {
          "base_uri": "https://localhost:8080/"
        },
        "id": "HTpi_oafDrmK",
        "outputId": "f0b09ad5-3721-44f8-bb04-950152efea39"
      },
      "execution_count": 5,
      "outputs": [
        {
          "output_type": "stream",
          "name": "stdout",
          "text": [
            "b\n",
            "a\n",
            "n\n",
            "g\n",
            "l\n",
            "a\n",
            "d\n",
            "e\n",
            "s\n",
            "h\n",
            " \n",
            "i\n",
            "s\n",
            " \n",
            "a\n",
            " \n",
            "s\n",
            "m\n",
            "a\n",
            "l\n",
            "l\n",
            " \n",
            "c\n",
            "o\n",
            "u\n",
            "n\n",
            "t\n",
            "r\n",
            "y\n"
          ]
        }
      ]
    },
    {
      "cell_type": "code",
      "source": [
        "for i in text:\n",
        "  print(text)"
      ],
      "metadata": {
        "colab": {
          "base_uri": "https://localhost:8080/"
        },
        "id": "A_smWTggDrp_",
        "outputId": "d6c3d91a-08c9-476a-9681-66fd673a2efa"
      },
      "execution_count": 6,
      "outputs": [
        {
          "output_type": "stream",
          "name": "stdout",
          "text": [
            "bangladesh is a small country\n",
            "bangladesh is a small country\n",
            "bangladesh is a small country\n",
            "bangladesh is a small country\n",
            "bangladesh is a small country\n",
            "bangladesh is a small country\n",
            "bangladesh is a small country\n",
            "bangladesh is a small country\n",
            "bangladesh is a small country\n",
            "bangladesh is a small country\n",
            "bangladesh is a small country\n",
            "bangladesh is a small country\n",
            "bangladesh is a small country\n",
            "bangladesh is a small country\n",
            "bangladesh is a small country\n",
            "bangladesh is a small country\n",
            "bangladesh is a small country\n",
            "bangladesh is a small country\n",
            "bangladesh is a small country\n",
            "bangladesh is a small country\n",
            "bangladesh is a small country\n",
            "bangladesh is a small country\n",
            "bangladesh is a small country\n",
            "bangladesh is a small country\n",
            "bangladesh is a small country\n",
            "bangladesh is a small country\n",
            "bangladesh is a small country\n",
            "bangladesh is a small country\n",
            "bangladesh is a small country\n"
          ]
        }
      ]
    },
    {
      "cell_type": "code",
      "source": [
        "for i in range(0,10):\n",
        "  print(i)"
      ],
      "metadata": {
        "colab": {
          "base_uri": "https://localhost:8080/"
        },
        "id": "E16HbHfiDrvg",
        "outputId": "d6baef6a-6036-4f60-96e0-e52177197640"
      },
      "execution_count": 7,
      "outputs": [
        {
          "output_type": "stream",
          "name": "stdout",
          "text": [
            "0\n",
            "1\n",
            "2\n",
            "3\n",
            "4\n",
            "5\n",
            "6\n",
            "7\n",
            "8\n",
            "9\n"
          ]
        }
      ]
    },
    {
      "cell_type": "code",
      "source": [
        "for i in range(6):\n",
        "  print(i)"
      ],
      "metadata": {
        "colab": {
          "base_uri": "https://localhost:8080/"
        },
        "id": "5IYxeZXjDrzS",
        "outputId": "2647a090-5f09-48b8-feaa-fd5aa8c10f0a"
      },
      "execution_count": 8,
      "outputs": [
        {
          "output_type": "stream",
          "name": "stdout",
          "text": [
            "0\n",
            "1\n",
            "2\n",
            "3\n",
            "4\n",
            "5\n"
          ]
        }
      ]
    },
    {
      "cell_type": "code",
      "source": [
        "for i in range(10,20):\n",
        "  print(i)"
      ],
      "metadata": {
        "colab": {
          "base_uri": "https://localhost:8080/"
        },
        "id": "f1cXkVNpDr5X",
        "outputId": "04035bb4-7556-4785-9bb8-950b5ca97d6a"
      },
      "execution_count": 9,
      "outputs": [
        {
          "output_type": "stream",
          "name": "stdout",
          "text": [
            "10\n",
            "11\n",
            "12\n",
            "13\n",
            "14\n",
            "15\n",
            "16\n",
            "17\n",
            "18\n",
            "19\n"
          ]
        }
      ]
    },
    {
      "cell_type": "code",
      "source": [
        "for i in range(1,10,2):\n",
        "  print(i)"
      ],
      "metadata": {
        "colab": {
          "base_uri": "https://localhost:8080/"
        },
        "id": "PFLc0MeMDsHu",
        "outputId": "42b37f6f-1055-45e5-9ba2-9744df6055d9"
      },
      "execution_count": 10,
      "outputs": [
        {
          "output_type": "stream",
          "name": "stdout",
          "text": [
            "1\n",
            "3\n",
            "5\n",
            "7\n",
            "9\n"
          ]
        }
      ]
    },
    {
      "cell_type": "code",
      "source": [
        "lst=[1,2,3,44,55,66,77,8,9,100,11,12]"
      ],
      "metadata": {
        "id": "Mhx1fjSSDsLz"
      },
      "execution_count": 11,
      "outputs": []
    },
    {
      "cell_type": "code",
      "source": [
        "for i in range(len(lst)):\n",
        "  print(lst[i])"
      ],
      "metadata": {
        "colab": {
          "base_uri": "https://localhost:8080/"
        },
        "id": "Mj_iMlWPDsRu",
        "outputId": "93258d02-c7a9-4862-ec9d-1b219de615a1"
      },
      "execution_count": 12,
      "outputs": [
        {
          "output_type": "stream",
          "name": "stdout",
          "text": [
            "1\n",
            "2\n",
            "3\n",
            "44\n",
            "55\n",
            "66\n",
            "77\n",
            "8\n",
            "9\n",
            "100\n",
            "11\n",
            "12\n"
          ]
        }
      ]
    },
    {
      "cell_type": "code",
      "source": [
        "for i in  range(len(lst)):\n",
        "  print(i)"
      ],
      "metadata": {
        "colab": {
          "base_uri": "https://localhost:8080/"
        },
        "id": "I6q0sCvlGPG6",
        "outputId": "d79fecdf-72e7-4fd5-cd14-542ffbce236c"
      },
      "execution_count": 13,
      "outputs": [
        {
          "output_type": "stream",
          "name": "stdout",
          "text": [
            "0\n",
            "1\n",
            "2\n",
            "3\n",
            "4\n",
            "5\n",
            "6\n",
            "7\n",
            "8\n",
            "9\n",
            "10\n",
            "11\n"
          ]
        }
      ]
    },
    {
      "cell_type": "code",
      "source": [
        "sum=0\n",
        "for i in range(0,3):\n",
        "  sum +=int(input(\"ENter your numbers : \"))\n",
        "avg=sum/3\n",
        "print(\"Average value is \",avg)"
      ],
      "metadata": {
        "colab": {
          "base_uri": "https://localhost:8080/"
        },
        "id": "qv82yquOG0yo",
        "outputId": "703bdde6-a250-4bf7-e2a1-3531e2af0dbf"
      },
      "execution_count": 15,
      "outputs": [
        {
          "output_type": "stream",
          "name": "stdout",
          "text": [
            "ENter your numbers : 10\n",
            "ENter your numbers : 20\n",
            "ENter your numbers : 30\n",
            "Average value is  20.0\n"
          ]
        }
      ]
    },
    {
      "cell_type": "code",
      "source": [],
      "metadata": {
        "id": "tpsRaSKNG0sV"
      },
      "execution_count": null,
      "outputs": []
    },
    {
      "cell_type": "code",
      "source": [],
      "metadata": {
        "id": "C5rqA7ZwG0nZ"
      },
      "execution_count": null,
      "outputs": []
    },
    {
      "cell_type": "code",
      "source": [],
      "metadata": {
        "id": "pwM-LwqrGPCd"
      },
      "execution_count": 14,
      "outputs": []
    },
    {
      "cell_type": "code",
      "source": [],
      "metadata": {
        "id": "aG500AosGO-r"
      },
      "execution_count": null,
      "outputs": []
    },
    {
      "cell_type": "code",
      "source": [],
      "metadata": {
        "id": "atDu5UVaDsXZ"
      },
      "execution_count": null,
      "outputs": []
    }
  ]
}