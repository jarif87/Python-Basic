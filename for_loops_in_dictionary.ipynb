{
  "nbformat": 4,
  "nbformat_minor": 0,
  "metadata": {
    "colab": {
      "provenance": []
    },
    "kernelspec": {
      "name": "python3",
      "display_name": "Python 3"
    },
    "language_info": {
      "name": "python"
    }
  },
  "cells": [
    {
      "cell_type": "code",
      "execution_count": 1,
      "metadata": {
        "id": "JsoXMuBxAYTF"
      },
      "outputs": [],
      "source": [
        "dict_0={\"name\":\"tamim\",\"age\":10,\"country\":\"bangladesh\",\"city\":\"dhaka\"}"
      ]
    },
    {
      "cell_type": "code",
      "source": [
        "for i in dict_0:\n",
        "  print(i)"
      ],
      "metadata": {
        "colab": {
          "base_uri": "https://localhost:8080/"
        },
        "id": "51YhslK3AfaY",
        "outputId": "c75b37e0-33cd-406c-f0cf-73f9ba1dc0fa"
      },
      "execution_count": 2,
      "outputs": [
        {
          "output_type": "stream",
          "name": "stdout",
          "text": [
            "name\n",
            "age\n",
            "country\n",
            "city\n"
          ]
        }
      ]
    },
    {
      "cell_type": "code",
      "source": [
        "for i in dict_0.keys():\n",
        "  print(i)"
      ],
      "metadata": {
        "colab": {
          "base_uri": "https://localhost:8080/"
        },
        "id": "ScCWhc7OAffS",
        "outputId": "7511a7a8-4202-4b1b-855b-23439244ebcd"
      },
      "execution_count": 3,
      "outputs": [
        {
          "output_type": "stream",
          "name": "stdout",
          "text": [
            "name\n",
            "age\n",
            "country\n",
            "city\n"
          ]
        }
      ]
    },
    {
      "cell_type": "markdown",
      "source": [
        "# print values"
      ],
      "metadata": {
        "id": "03yZ9CLXBR83"
      }
    },
    {
      "cell_type": "code",
      "source": [
        "for i in dict_0:\n",
        "  print(dict_0[i])"
      ],
      "metadata": {
        "colab": {
          "base_uri": "https://localhost:8080/"
        },
        "id": "ErwmC_-FAfkX",
        "outputId": "304cb2e0-904c-4abf-b27d-fae6190380e6"
      },
      "execution_count": 4,
      "outputs": [
        {
          "output_type": "stream",
          "name": "stdout",
          "text": [
            "tamim\n",
            "10\n",
            "bangladesh\n",
            "dhaka\n"
          ]
        }
      ]
    },
    {
      "cell_type": "code",
      "source": [
        "for i in dict_0.values():\n",
        "  print(i)"
      ],
      "metadata": {
        "colab": {
          "base_uri": "https://localhost:8080/"
        },
        "id": "R3MQFHs5AfoQ",
        "outputId": "6c078005-94ea-48ea-bbf9-75d9e23e372e"
      },
      "execution_count": 6,
      "outputs": [
        {
          "output_type": "stream",
          "name": "stdout",
          "text": [
            "tamim\n",
            "10\n",
            "bangladesh\n",
            "dhaka\n"
          ]
        }
      ]
    },
    {
      "cell_type": "code",
      "source": [
        "dict_0={\"name\":\"tamim\",\"age\":10,\"country\":\"bangladesh\",\"city\":\"dhaka\"}"
      ],
      "metadata": {
        "id": "q8D66wxIAfsW"
      },
      "execution_count": 7,
      "outputs": []
    },
    {
      "cell_type": "code",
      "source": [
        "for i in dict_0:\n",
        "  print(f\"{i}:{(dict_0[i])}\")"
      ],
      "metadata": {
        "colab": {
          "base_uri": "https://localhost:8080/"
        },
        "id": "AVke1eP5Afwj",
        "outputId": "2d7d2bfa-a05d-417e-c040-fc0ef3b2470d"
      },
      "execution_count": 8,
      "outputs": [
        {
          "output_type": "stream",
          "name": "stdout",
          "text": [
            "name:tamim\n",
            "age:10\n",
            "country:bangladesh\n",
            "city:dhaka\n"
          ]
        }
      ]
    },
    {
      "cell_type": "code",
      "source": [
        "for m,n in dict_0.items():\n",
        "  print(f\" {m} : {n  }\")"
      ],
      "metadata": {
        "colab": {
          "base_uri": "https://localhost:8080/"
        },
        "id": "Z74NG0CrAf0X",
        "outputId": "f9fa820b-44ab-4dfd-ab95-409031185fc8"
      },
      "execution_count": 11,
      "outputs": [
        {
          "output_type": "stream",
          "name": "stdout",
          "text": [
            " name : tamim\n",
            " age : 10\n",
            " country : bangladesh\n",
            " city : dhaka\n"
          ]
        }
      ]
    },
    {
      "cell_type": "code",
      "source": [
        "new_dict={}"
      ],
      "metadata": {
        "id": "VvCSou_5Af6e"
      },
      "execution_count": 12,
      "outputs": []
    },
    {
      "cell_type": "code",
      "source": [
        "for z,x  in dict_0.items():\n",
        "  new_dict[z]=x\n",
        "print(new_dict)"
      ],
      "metadata": {
        "colab": {
          "base_uri": "https://localhost:8080/"
        },
        "id": "XxVJEZMFAf-5",
        "outputId": "3ae4fa23-aee4-46e0-bf64-a5abda9e28ad"
      },
      "execution_count": 14,
      "outputs": [
        {
          "output_type": "stream",
          "name": "stdout",
          "text": [
            "{'name': 'tamim', 'age': 10, 'country': 'bangladesh', 'city': 'dhaka'}\n"
          ]
        }
      ]
    },
    {
      "cell_type": "code",
      "source": [],
      "metadata": {
        "id": "fv7Sxb1hAgDO"
      },
      "execution_count": null,
      "outputs": []
    }
  ]
}