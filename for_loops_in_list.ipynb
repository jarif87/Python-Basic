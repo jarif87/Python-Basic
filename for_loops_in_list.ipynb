{
  "nbformat": 4,
  "nbformat_minor": 0,
  "metadata": {
    "colab": {
      "provenance": []
    },
    "kernelspec": {
      "name": "python3",
      "display_name": "Python 3"
    },
    "language_info": {
      "name": "python"
    }
  },
  "cells": [
    {
      "cell_type": "code",
      "execution_count": 1,
      "metadata": {
        "id": "LKhrvLqY82Zv"
      },
      "outputs": [],
      "source": [
        "num=[1,2,3,4,5,67,7]"
      ]
    },
    {
      "cell_type": "code",
      "source": [
        "blank_list=[]"
      ],
      "metadata": {
        "id": "ZB9WdluX9EHV"
      },
      "execution_count": 2,
      "outputs": []
    },
    {
      "cell_type": "code",
      "source": [
        "for i in num:\n",
        "  blank_list.append(i)\n",
        "  print(blank_list)"
      ],
      "metadata": {
        "colab": {
          "base_uri": "https://localhost:8080/"
        },
        "id": "ca_osOCN9ELm",
        "outputId": "99b6ef8e-843e-476f-df07-f91e03a77089"
      },
      "execution_count": 5,
      "outputs": [
        {
          "output_type": "stream",
          "name": "stdout",
          "text": [
            "[1, 2, 3, 4, 5, 67, 7, 1]\n",
            "[1, 2, 3, 4, 5, 67, 7, 1, 2]\n",
            "[1, 2, 3, 4, 5, 67, 7, 1, 2, 3]\n",
            "[1, 2, 3, 4, 5, 67, 7, 1, 2, 3, 4]\n",
            "[1, 2, 3, 4, 5, 67, 7, 1, 2, 3, 4, 5]\n",
            "[1, 2, 3, 4, 5, 67, 7, 1, 2, 3, 4, 5, 67]\n",
            "[1, 2, 3, 4, 5, 67, 7, 1, 2, 3, 4, 5, 67, 7]\n"
          ]
        }
      ]
    },
    {
      "cell_type": "code",
      "source": [
        "print(blank_list)"
      ],
      "metadata": {
        "colab": {
          "base_uri": "https://localhost:8080/"
        },
        "id": "_FlOHSBM9EPh",
        "outputId": "02207b90-a232-4771-c94f-4f43978c87e5"
      },
      "execution_count": 4,
      "outputs": [
        {
          "output_type": "stream",
          "name": "stdout",
          "text": [
            "[1, 2, 3, 4, 5, 67, 7]\n"
          ]
        }
      ]
    },
    {
      "cell_type": "code",
      "source": [
        "num_1=[1,2,3,4,5,6,7,8]\n",
        "sum=0"
      ],
      "metadata": {
        "id": "8bdxpYHD9EUT"
      },
      "execution_count": 8,
      "outputs": []
    },
    {
      "cell_type": "code",
      "source": [
        "for i in num_1:\n",
        "  sum +=i\n",
        "print(sum)"
      ],
      "metadata": {
        "colab": {
          "base_uri": "https://localhost:8080/"
        },
        "id": "bP51qmNL9EYq",
        "outputId": "46e1a19d-0198-4249-fbf6-e28c17c04723"
      },
      "execution_count": 9,
      "outputs": [
        {
          "output_type": "stream",
          "name": "stdout",
          "text": [
            "36\n"
          ]
        }
      ]
    },
    {
      "cell_type": "code",
      "source": [
        "for i in range(0,100):\n",
        "  sum +=i\n",
        "print(sum)"
      ],
      "metadata": {
        "colab": {
          "base_uri": "https://localhost:8080/"
        },
        "id": "pP8TW43I9Ecq",
        "outputId": "b9c990d0-50d9-431e-b5a2-ead32fcf217d"
      },
      "execution_count": 10,
      "outputs": [
        {
          "output_type": "stream",
          "name": "stdout",
          "text": [
            "4986\n"
          ]
        }
      ]
    },
    {
      "cell_type": "code",
      "source": [],
      "metadata": {
        "id": "1Z4YFvM59Egp"
      },
      "execution_count": null,
      "outputs": []
    },
    {
      "cell_type": "code",
      "source": [],
      "metadata": {
        "id": "taKR99lq9E2f"
      },
      "execution_count": null,
      "outputs": []
    },
    {
      "cell_type": "code",
      "source": [],
      "metadata": {
        "id": "ef54hccJ9E7r"
      },
      "execution_count": null,
      "outputs": []
    },
    {
      "cell_type": "code",
      "source": [],
      "metadata": {
        "id": "18ytLFr49FAI"
      },
      "execution_count": null,
      "outputs": []
    },
    {
      "cell_type": "code",
      "source": [],
      "metadata": {
        "id": "Pbj-2Uow9FE4"
      },
      "execution_count": null,
      "outputs": []
    },
    {
      "cell_type": "code",
      "source": [],
      "metadata": {
        "id": "LTaVu2w-9FIl"
      },
      "execution_count": null,
      "outputs": []
    }
  ]
}