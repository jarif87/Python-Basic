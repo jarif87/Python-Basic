{
  "nbformat": 4,
  "nbformat_minor": 0,
  "metadata": {
    "colab": {
      "provenance": []
    },
    "kernelspec": {
      "name": "python3",
      "display_name": "Python 3"
    },
    "language_info": {
      "name": "python"
    }
  },
  "cells": [
    {
      "cell_type": "code",
      "execution_count": 1,
      "metadata": {
        "id": "FbOS96SNGrVj"
      },
      "outputs": [],
      "source": [
        "set_0={\"bangla\",\"english\",\"math\",\"biology\"}"
      ]
    },
    {
      "cell_type": "code",
      "source": [
        "for z in set_0:\n",
        "  print(z)"
      ],
      "metadata": {
        "colab": {
          "base_uri": "https://localhost:8080/"
        },
        "id": "cW3bJaimGyI_",
        "outputId": "a9125d51-620c-4c77-80e0-773b01c0b7b6"
      },
      "execution_count": 3,
      "outputs": [
        {
          "output_type": "stream",
          "name": "stdout",
          "text": [
            "biology\n",
            "bangla\n",
            "english\n",
            "math\n"
          ]
        }
      ]
    },
    {
      "cell_type": "code",
      "source": [
        "empty_set={*()}"
      ],
      "metadata": {
        "id": "ggMtJ4SYGyNg"
      },
      "execution_count": 4,
      "outputs": []
    },
    {
      "cell_type": "code",
      "source": [
        "type(empty_set)"
      ],
      "metadata": {
        "colab": {
          "base_uri": "https://localhost:8080/"
        },
        "id": "n_SNGuH2GyRu",
        "outputId": "925d21a1-35aa-4f7b-edb2-57b432e3a8ab"
      },
      "execution_count": 5,
      "outputs": [
        {
          "output_type": "execute_result",
          "data": {
            "text/plain": [
              "set"
            ]
          },
          "metadata": {},
          "execution_count": 5
        }
      ]
    },
    {
      "cell_type": "code",
      "source": [
        "for m in set_0:\n",
        "  empty_set.add(m)\n",
        "print(empty_set)"
      ],
      "metadata": {
        "colab": {
          "base_uri": "https://localhost:8080/"
        },
        "id": "ZzrOt44KGyWJ",
        "outputId": "4150aeff-813b-4e1b-a9a3-1a7d35074e52"
      },
      "execution_count": 7,
      "outputs": [
        {
          "output_type": "stream",
          "name": "stdout",
          "text": [
            "{'math', 'bangla', 'english', 'biology'}\n"
          ]
        }
      ]
    },
    {
      "cell_type": "code",
      "source": [],
      "metadata": {
        "id": "2DJadILMGyZp"
      },
      "execution_count": null,
      "outputs": []
    },
    {
      "cell_type": "code",
      "source": [],
      "metadata": {
        "id": "zyakvxrYGysG"
      },
      "execution_count": null,
      "outputs": []
    },
    {
      "cell_type": "code",
      "source": [],
      "metadata": {
        "id": "1YBjH6FmGyvg"
      },
      "execution_count": null,
      "outputs": []
    },
    {
      "cell_type": "code",
      "source": [],
      "metadata": {
        "id": "BytcY182Gyzm"
      },
      "execution_count": null,
      "outputs": []
    },
    {
      "cell_type": "code",
      "source": [],
      "metadata": {
        "id": "Du9TpPp-Gy3w"
      },
      "execution_count": null,
      "outputs": []
    }
  ]
}