{
  "nbformat": 4,
  "nbformat_minor": 0,
  "metadata": {
    "colab": {
      "provenance": []
    },
    "kernelspec": {
      "name": "python3",
      "display_name": "Python 3"
    },
    "language_info": {
      "name": "python"
    }
  },
  "cells": [
    {
      "cell_type": "code",
      "execution_count": 1,
      "metadata": {
        "id": "riA9Lx-mFA3q"
      },
      "outputs": [],
      "source": [
        "text=\"bangladesh is a poor country\""
      ]
    },
    {
      "cell_type": "code",
      "source": [
        "for i in text:\n",
        "  print(i)"
      ],
      "metadata": {
        "colab": {
          "base_uri": "https://localhost:8080/"
        },
        "id": "9KJ9synkFGk8",
        "outputId": "305f7583-8145-4eb6-c781-66b367a14cd5"
      },
      "execution_count": 3,
      "outputs": [
        {
          "output_type": "stream",
          "name": "stdout",
          "text": [
            "b\n",
            "a\n",
            "n\n",
            "g\n",
            "l\n",
            "a\n",
            "d\n",
            "e\n",
            "s\n",
            "h\n",
            " \n",
            "i\n",
            "s\n",
            " \n",
            "a\n",
            " \n",
            "p\n",
            "o\n",
            "o\n",
            "r\n",
            " \n",
            "c\n",
            "o\n",
            "u\n",
            "n\n",
            "t\n",
            "r\n",
            "y\n"
          ]
        }
      ]
    },
    {
      "cell_type": "code",
      "source": [
        "for i in text:\n",
        "  print(i,end=\"///\")"
      ],
      "metadata": {
        "colab": {
          "base_uri": "https://localhost:8080/"
        },
        "id": "HYn2DMD5FGsB",
        "outputId": "f004097e-1969-44a9-b15a-4a8712a802bf"
      },
      "execution_count": 6,
      "outputs": [
        {
          "output_type": "stream",
          "name": "stdout",
          "text": [
            "b///a///n///g///l///a///d///e///s///h/// ///i///s/// ///a/// ///p///o///o///r/// ///c///o///u///n///t///r///y///"
          ]
        }
      ]
    },
    {
      "cell_type": "code",
      "source": [
        "for i in text:\n",
        "  print(i, end=\"\")"
      ],
      "metadata": {
        "colab": {
          "base_uri": "https://localhost:8080/"
        },
        "id": "uN0AOXGTFGxi",
        "outputId": "282ab724-95b6-4d00-aece-953affccfa3d"
      },
      "execution_count": 8,
      "outputs": [
        {
          "output_type": "stream",
          "name": "stdout",
          "text": [
            "bangladesh is a poor country"
          ]
        }
      ]
    },
    {
      "cell_type": "code",
      "source": [
        "for  i in reversed(text):\n",
        "  print(i)"
      ],
      "metadata": {
        "colab": {
          "base_uri": "https://localhost:8080/"
        },
        "id": "EK_lmkv7FG2t",
        "outputId": "fb5d6d45-6a83-49f0-c855-a56e13a46c16"
      },
      "execution_count": 10,
      "outputs": [
        {
          "output_type": "stream",
          "name": "stdout",
          "text": [
            "y\n",
            "r\n",
            "t\n",
            "n\n",
            "u\n",
            "o\n",
            "c\n",
            " \n",
            "r\n",
            "o\n",
            "o\n",
            "p\n",
            " \n",
            "a\n",
            " \n",
            "s\n",
            "i\n",
            " \n",
            "h\n",
            "s\n",
            "e\n",
            "d\n",
            "a\n",
            "l\n",
            "g\n",
            "n\n",
            "a\n",
            "b\n"
          ]
        }
      ]
    },
    {
      "cell_type": "code",
      "source": [
        "for i in reversed(text):\n",
        "  print(i ,end=\"\")"
      ],
      "metadata": {
        "colab": {
          "base_uri": "https://localhost:8080/"
        },
        "id": "AYQBEjOOFG8c",
        "outputId": "4bcb3ab8-c366-420a-b22c-919b4817826b"
      },
      "execution_count": 11,
      "outputs": [
        {
          "output_type": "stream",
          "name": "stdout",
          "text": [
            "yrtnuoc roop a si hsedalgnab"
          ]
        }
      ]
    },
    {
      "cell_type": "code",
      "source": [],
      "metadata": {
        "id": "B553yar6FHLb"
      },
      "execution_count": null,
      "outputs": []
    },
    {
      "cell_type": "code",
      "source": [],
      "metadata": {
        "id": "Jx5UNptjFHQ2"
      },
      "execution_count": null,
      "outputs": []
    }
  ]
}