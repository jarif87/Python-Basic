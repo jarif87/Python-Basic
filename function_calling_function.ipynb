{
  "nbformat": 4,
  "nbformat_minor": 0,
  "metadata": {
    "colab": {
      "provenance": []
    },
    "kernelspec": {
      "name": "python3",
      "display_name": "Python 3"
    },
    "language_info": {
      "name": "python"
    }
  },
  "cells": [
    {
      "cell_type": "code",
      "execution_count": 1,
      "metadata": {
        "colab": {
          "base_uri": "https://localhost:8080/"
        },
        "id": "1XMUT9c2hoLj",
        "outputId": "b318e13b-2173-41f3-c276-85acd7b3ea9b"
      },
      "outputs": [
        {
          "output_type": "stream",
          "name": "stdout",
          "text": [
            "This is outer function\n",
            "hi\n",
            "this is inner function\n"
          ]
        }
      ],
      "source": [
        "def outer_function():\n",
        "  print(\"This is outer function\")\n",
        "\n",
        "  def inner_function():\n",
        "    print(\"this is inner function\")\n",
        "  print(\"hi\")\n",
        "  inner_function()\n",
        "\n",
        "outer_function()"
      ]
    },
    {
      "cell_type": "code",
      "source": [
        "def square(x):\n",
        "  return x*x\n",
        "def sum_square(array,n):\n",
        "  sum=0\n",
        "  for i in range(n):\n",
        "    square_value=square(array[i])\n",
        "    sum +=square_value\n",
        "  return sum\n",
        "array=[1,2,3,4,5]\n",
        "n=len(array)\n",
        "total=sum_square(array,n)\n",
        "print(total)"
      ],
      "metadata": {
        "colab": {
          "base_uri": "https://localhost:8080/"
        },
        "id": "mttjl4nyhrpy",
        "outputId": "665ffc1b-2990-4309-b054-d3430d5f0608"
      },
      "execution_count": 2,
      "outputs": [
        {
          "output_type": "stream",
          "name": "stdout",
          "text": [
            "55\n"
          ]
        }
      ]
    },
    {
      "cell_type": "code",
      "source": [],
      "metadata": {
        "id": "llKNJItWhrta"
      },
      "execution_count": null,
      "outputs": []
    },
    {
      "cell_type": "code",
      "source": [],
      "metadata": {
        "id": "9tOHw0T4hryM"
      },
      "execution_count": null,
      "outputs": []
    },
    {
      "cell_type": "code",
      "source": [],
      "metadata": {
        "id": "prk9AAfWhr2U"
      },
      "execution_count": null,
      "outputs": []
    },
    {
      "cell_type": "code",
      "source": [],
      "metadata": {
        "id": "scimM28Khr5z"
      },
      "execution_count": null,
      "outputs": []
    },
    {
      "cell_type": "code",
      "source": [],
      "metadata": {
        "id": "SRU8cfHuhsJA"
      },
      "execution_count": null,
      "outputs": []
    },
    {
      "cell_type": "code",
      "source": [],
      "metadata": {
        "id": "eaixhQxShsL7"
      },
      "execution_count": null,
      "outputs": []
    },
    {
      "cell_type": "code",
      "source": [],
      "metadata": {
        "id": "eZuPuQTFhsPg"
      },
      "execution_count": null,
      "outputs": []
    }
  ]
}