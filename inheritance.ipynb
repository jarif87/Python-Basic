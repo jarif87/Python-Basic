{
  "nbformat": 4,
  "nbformat_minor": 0,
  "metadata": {
    "colab": {
      "provenance": []
    },
    "kernelspec": {
      "name": "python3",
      "display_name": "Python 3"
    },
    "language_info": {
      "name": "python"
    }
  },
  "cells": [
    {
      "cell_type": "code",
      "execution_count": 41,
      "metadata": {
        "id": "jJ1xtHjRdNPP"
      },
      "outputs": [],
      "source": [
        "#parent class\n",
        "class Bird:\n",
        "\n",
        "  def __init__(self):\n",
        "    print(\"birds looks happy\")\n",
        "\n",
        "  def fly(self):\n",
        "    print(\"birds can fly\")\n",
        "\n",
        "  def swim(self):\n",
        "    print(\"birds cannot swim\")"
      ]
    },
    {
      "cell_type": "code",
      "source": [
        "\n",
        "# child class\n",
        "\n",
        "class Penguin(Bird):\n",
        "\n",
        "\n",
        "  def __init__(self):\n",
        "    print(\"penguin looks happy\")\n",
        "\n",
        "  def fly(self):\n",
        "    print(\"penguin cannot fly\")\n",
        "\n",
        "  def swim(self):\n",
        "    print(\"penguin can swim\")"
      ],
      "metadata": {
        "id": "jwyhTu-RdR6E"
      },
      "execution_count": 42,
      "outputs": []
    },
    {
      "cell_type": "code",
      "source": [
        "png=Penguin()"
      ],
      "metadata": {
        "colab": {
          "base_uri": "https://localhost:8080/"
        },
        "id": "E7VooqSadSCj",
        "outputId": "d871dacb-ff5c-42fd-f6c3-e79a74ce8b1d"
      },
      "execution_count": 43,
      "outputs": [
        {
          "output_type": "stream",
          "name": "stdout",
          "text": [
            "penguin looks happy\n"
          ]
        }
      ]
    },
    {
      "cell_type": "code",
      "source": [
        "png.fly()"
      ],
      "metadata": {
        "colab": {
          "base_uri": "https://localhost:8080/"
        },
        "id": "Rw_1IjeZdSHI",
        "outputId": "f8b93cc6-06b6-4691-bfa7-b2823ec77e22"
      },
      "execution_count": 44,
      "outputs": [
        {
          "output_type": "stream",
          "name": "stdout",
          "text": [
            "penguin cannot fly\n"
          ]
        }
      ]
    },
    {
      "cell_type": "code",
      "source": [
        "class Parent:\n",
        "  def show(self):\n",
        "    print(\"parent class\")"
      ],
      "metadata": {
        "id": "8mJzoA1ldSLb"
      },
      "execution_count": 45,
      "outputs": []
    },
    {
      "cell_type": "code",
      "source": [
        "class Child(Parent):\n",
        "\n",
        "  def display(self):\n",
        "    Parent.show(self)     #calling parents class method\n",
        "    print(\"child class\")"
      ],
      "metadata": {
        "id": "b04HhFxrdSQq"
      },
      "execution_count": 46,
      "outputs": []
    },
    {
      "cell_type": "code",
      "source": [
        "ob=Child()"
      ],
      "metadata": {
        "id": "afylqB_idSUt"
      },
      "execution_count": 47,
      "outputs": []
    },
    {
      "cell_type": "code",
      "source": [
        "ob.display()"
      ],
      "metadata": {
        "colab": {
          "base_uri": "https://localhost:8080/"
        },
        "id": "BxViYFW8dSYy",
        "outputId": "de60d80b-21d9-4bc1-a7a0-5662f0aafc4e"
      },
      "execution_count": 48,
      "outputs": [
        {
          "output_type": "stream",
          "name": "stdout",
          "text": [
            "parent class\n",
            "child class\n"
          ]
        }
      ]
    },
    {
      "cell_type": "code",
      "source": [
        "ob.show()"
      ],
      "metadata": {
        "colab": {
          "base_uri": "https://localhost:8080/"
        },
        "id": "NnZoAU8tdSjU",
        "outputId": "9c4215b4-6a0f-41cb-bcff-b32d1123b8c5"
      },
      "execution_count": 49,
      "outputs": [
        {
          "output_type": "stream",
          "name": "stdout",
          "text": [
            "parent class\n"
          ]
        }
      ]
    },
    {
      "cell_type": "code",
      "source": [],
      "metadata": {
        "id": "StpbpcCkdSnD"
      },
      "execution_count": 49,
      "outputs": []
    },
    {
      "cell_type": "code",
      "source": [],
      "metadata": {
        "id": "FBaRG09KdSq8"
      },
      "execution_count": 49,
      "outputs": []
    }
  ]
}