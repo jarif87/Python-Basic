{
  "nbformat": 4,
  "nbformat_minor": 0,
  "metadata": {
    "colab": {
      "provenance": []
    },
    "kernelspec": {
      "name": "python3",
      "display_name": "Python 3"
    },
    "language_info": {
      "name": "python"
    }
  },
  "cells": [
    {
      "cell_type": "code",
      "execution_count": 1,
      "metadata": {
        "id": "rKYAoo_1_TLU",
        "colab": {
          "base_uri": "https://localhost:8080/"
        },
        "outputId": "5a5dbb98-3ef7-4608-d65c-abf36052022c"
      },
      "outputs": [
        {
          "output_type": "stream",
          "name": "stdout",
          "text": [
            "Enter your number : 10\n",
            "10\n"
          ]
        }
      ],
      "source": [
        "x=int(input(\"Enter your number : \"))\n",
        "print(x)"
      ]
    },
    {
      "cell_type": "code",
      "source": [
        "y=input(\"Enter your name : \")\n",
        "print(\"my name is {}\".format(y))"
      ],
      "metadata": {
        "colab": {
          "base_uri": "https://localhost:8080/"
        },
        "id": "H46vgt43GqSL",
        "outputId": "6df9ab2a-4ec6-46f4-de41-d2aaba54c77b"
      },
      "execution_count": 2,
      "outputs": [
        {
          "output_type": "stream",
          "name": "stdout",
          "text": [
            "Enter your name : tamim\n",
            "my name is tamim\n"
          ]
        }
      ]
    },
    {
      "cell_type": "code",
      "source": [],
      "metadata": {
        "id": "8hRbq0peGqPM"
      },
      "execution_count": null,
      "outputs": []
    },
    {
      "cell_type": "code",
      "source": [],
      "metadata": {
        "id": "LtFXwJwvGqLq"
      },
      "execution_count": null,
      "outputs": []
    },
    {
      "cell_type": "code",
      "source": [],
      "metadata": {
        "id": "htTsdX-PGqG8"
      },
      "execution_count": null,
      "outputs": []
    },
    {
      "cell_type": "code",
      "source": [],
      "metadata": {
        "id": "E6S4NH9FGqDc"
      },
      "execution_count": null,
      "outputs": []
    },
    {
      "cell_type": "code",
      "source": [],
      "metadata": {
        "id": "6dvcUG7eGqAA"
      },
      "execution_count": null,
      "outputs": []
    },
    {
      "cell_type": "code",
      "source": [],
      "metadata": {
        "id": "GhCDlIYSGp8B"
      },
      "execution_count": null,
      "outputs": []
    }
  ]
}