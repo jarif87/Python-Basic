{
  "nbformat": 4,
  "nbformat_minor": 0,
  "metadata": {
    "colab": {
      "provenance": []
    },
    "kernelspec": {
      "name": "python3",
      "display_name": "Python 3"
    },
    "language_info": {
      "name": "python"
    }
  },
  "cells": [
    {
      "cell_type": "code",
      "execution_count": 1,
      "metadata": {
        "id": "84bpUR8xaKTL"
      },
      "outputs": [],
      "source": [
        "list_0=[\"bangladesh\",\"india\",\"pakistan\",\"nepal\",\"srilanka\",\"america\",\"srilanka\"]"
      ]
    },
    {
      "cell_type": "code",
      "source": [
        "len(list_0)"
      ],
      "metadata": {
        "colab": {
          "base_uri": "https://localhost:8080/"
        },
        "id": "nTI8q8_JaNj8",
        "outputId": "0ac198d5-482c-4fd7-9e8b-32d9f7a72f3d"
      },
      "execution_count": 2,
      "outputs": [
        {
          "output_type": "execute_result",
          "data": {
            "text/plain": [
              "7"
            ]
          },
          "metadata": {},
          "execution_count": 2
        }
      ]
    },
    {
      "cell_type": "code",
      "source": [
        "print(list_0)"
      ],
      "metadata": {
        "colab": {
          "base_uri": "https://localhost:8080/"
        },
        "id": "cgbcBa5xaNon",
        "outputId": "dafdd3e8-2fd3-4ef0-be60-9a2f2cca6d3a"
      },
      "execution_count": 3,
      "outputs": [
        {
          "output_type": "stream",
          "name": "stdout",
          "text": [
            "['bangladesh', 'india', 'pakistan', 'nepal', 'srilanka', 'america', 'srilanka']\n"
          ]
        }
      ]
    },
    {
      "cell_type": "code",
      "source": [
        "print(list_0[: 4])"
      ],
      "metadata": {
        "colab": {
          "base_uri": "https://localhost:8080/"
        },
        "id": "ltguck25aNtP",
        "outputId": "94c87a41-1ebd-4ebc-d145-1c7f6255aa9d"
      },
      "execution_count": 4,
      "outputs": [
        {
          "output_type": "stream",
          "name": "stdout",
          "text": [
            "['bangladesh', 'india', 'pakistan', 'nepal']\n"
          ]
        }
      ]
    },
    {
      "cell_type": "code",
      "source": [
        "print(list_0[2 : ])"
      ],
      "metadata": {
        "colab": {
          "base_uri": "https://localhost:8080/"
        },
        "id": "lByRsUkXaN8l",
        "outputId": "89484cec-a8dd-42dc-d624-d37879925ec9"
      },
      "execution_count": 5,
      "outputs": [
        {
          "output_type": "stream",
          "name": "stdout",
          "text": [
            "['pakistan', 'nepal', 'srilanka', 'america', 'srilanka']\n"
          ]
        }
      ]
    },
    {
      "cell_type": "code",
      "source": [
        "print(list_0[: ])"
      ],
      "metadata": {
        "colab": {
          "base_uri": "https://localhost:8080/"
        },
        "id": "2PhCUsp8aN_7",
        "outputId": "bf5c6e8c-b350-49b4-ef2f-cef8b6fa0b06"
      },
      "execution_count": 6,
      "outputs": [
        {
          "output_type": "stream",
          "name": "stdout",
          "text": [
            "['bangladesh', 'india', 'pakistan', 'nepal', 'srilanka', 'america', 'srilanka']\n"
          ]
        }
      ]
    },
    {
      "cell_type": "code",
      "source": [],
      "metadata": {
        "id": "vfcWkWXjaOC8"
      },
      "execution_count": null,
      "outputs": []
    },
    {
      "cell_type": "code",
      "source": [],
      "metadata": {
        "id": "6uaCIGqFaOGf"
      },
      "execution_count": null,
      "outputs": []
    },
    {
      "cell_type": "code",
      "source": [],
      "metadata": {
        "id": "KTSrJmSgaOKV"
      },
      "execution_count": null,
      "outputs": []
    }
  ]
}