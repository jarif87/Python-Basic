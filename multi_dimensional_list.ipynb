{
  "nbformat": 4,
  "nbformat_minor": 0,
  "metadata": {
    "colab": {
      "provenance": []
    },
    "kernelspec": {
      "name": "python3",
      "display_name": "Python 3"
    },
    "language_info": {
      "name": "python"
    }
  },
  "cells": [
    {
      "cell_type": "code",
      "execution_count": 1,
      "metadata": {
        "id": "0M-mai45US-J"
      },
      "outputs": [],
      "source": [
        "two_dim_lists=[     [\"bangla\"],[\"english\"]       ]"
      ]
    },
    {
      "cell_type": "code",
      "source": [
        "type(two_dim_lists)"
      ],
      "metadata": {
        "colab": {
          "base_uri": "https://localhost:8080/"
        },
        "id": "1ezRCXvEUYfz",
        "outputId": "466aa4e0-ec80-4b36-caad-78ad3078eb3a"
      },
      "execution_count": 2,
      "outputs": [
        {
          "output_type": "execute_result",
          "data": {
            "text/plain": [
              "list"
            ]
          },
          "metadata": {},
          "execution_count": 2
        }
      ]
    },
    {
      "cell_type": "code",
      "source": [
        "two_dim_lists[0]"
      ],
      "metadata": {
        "colab": {
          "base_uri": "https://localhost:8080/"
        },
        "id": "rZCPdpY8UYjh",
        "outputId": "53ddf554-533f-4252-9309-f17f5664fc43"
      },
      "execution_count": 3,
      "outputs": [
        {
          "output_type": "execute_result",
          "data": {
            "text/plain": [
              "['bangla']"
            ]
          },
          "metadata": {},
          "execution_count": 3
        }
      ]
    },
    {
      "cell_type": "code",
      "source": [
        "tw_dm_list=[           [\"bangla\"],[\"math\"],[1,2,3,4]              ]"
      ],
      "metadata": {
        "id": "iJTKrdTIUYn1"
      },
      "execution_count": 4,
      "outputs": []
    },
    {
      "cell_type": "markdown",
      "source": [
        "# print inside value"
      ],
      "metadata": {
        "id": "5cBqoJQAVYJ8"
      }
    },
    {
      "cell_type": "code",
      "source": [
        "print(*tw_dm_list)"
      ],
      "metadata": {
        "colab": {
          "base_uri": "https://localhost:8080/"
        },
        "id": "Q84G-GdNUYyV",
        "outputId": "bab2017c-34fd-4060-ec00-f8dfc75d4b97"
      },
      "execution_count": 6,
      "outputs": [
        {
          "output_type": "stream",
          "name": "stdout",
          "text": [
            "['bangla'] ['math'] [1, 2, 3, 4]\n"
          ]
        }
      ]
    },
    {
      "cell_type": "code",
      "source": [
        "print(tw_dm_list)"
      ],
      "metadata": {
        "colab": {
          "base_uri": "https://localhost:8080/"
        },
        "id": "GYK_cih1UY6E",
        "outputId": "ae2cd268-d88b-4c2a-dea1-931dcbdfd1d2"
      },
      "execution_count": 7,
      "outputs": [
        {
          "output_type": "stream",
          "name": "stdout",
          "text": [
            "[['bangla'], ['math'], [1, 2, 3, 4]]\n"
          ]
        }
      ]
    },
    {
      "cell_type": "code",
      "source": [
        "one_dm_list=[1,2,3,4,\"chemistry\"]"
      ],
      "metadata": {
        "id": "8aGPMNQvUY9f"
      },
      "execution_count": 8,
      "outputs": []
    },
    {
      "cell_type": "code",
      "source": [
        "print(one_dm_list)"
      ],
      "metadata": {
        "colab": {
          "base_uri": "https://localhost:8080/"
        },
        "id": "_tKwKJLCUZBR",
        "outputId": "2f85bbc8-7fac-48ad-b3c0-238e5c260159"
      },
      "execution_count": 9,
      "outputs": [
        {
          "output_type": "stream",
          "name": "stdout",
          "text": [
            "[1, 2, 3, 4, 'chemistry']\n"
          ]
        }
      ]
    },
    {
      "cell_type": "code",
      "source": [
        "print(*one_dm_list)"
      ],
      "metadata": {
        "colab": {
          "base_uri": "https://localhost:8080/"
        },
        "id": "aV8HbXQ6UZFw",
        "outputId": "4316deb1-f1d8-4e72-ad9c-02da06856a03"
      },
      "execution_count": 10,
      "outputs": [
        {
          "output_type": "stream",
          "name": "stdout",
          "text": [
            "1 2 3 4 chemistry\n"
          ]
        }
      ]
    },
    {
      "cell_type": "code",
      "source": [],
      "metadata": {
        "id": "_zjGWK4dUZJ-"
      },
      "execution_count": null,
      "outputs": []
    },
    {
      "cell_type": "code",
      "source": [],
      "metadata": {
        "id": "VpiSEnwcUZNj"
      },
      "execution_count": null,
      "outputs": []
    }
  ]
}