{
  "nbformat": 4,
  "nbformat_minor": 0,
  "metadata": {
    "colab": {
      "provenance": []
    },
    "kernelspec": {
      "name": "python3",
      "display_name": "Python 3"
    },
    "language_info": {
      "name": "python"
    }
  },
  "cells": [
    {
      "cell_type": "code",
      "execution_count": 3,
      "metadata": {
        "colab": {
          "base_uri": "https://localhost:8080/"
        },
        "id": "TjgLv43u6aZR",
        "outputId": "0d7a308b-728e-493f-ecbd-7074969e7834"
      },
      "outputs": [
        {
          "output_type": "stream",
          "name": "stdout",
          "text": [
            "ENter food name : y\n",
            "ENter sports person name : y\n",
            "Pizza is my favourite\n"
          ]
        }
      ],
      "source": [
        "food=input(\"ENter food name : \")==\"y\"\n",
        "sports_person=input(\"ENter sports person name : \")==\"y\"\n",
        "\n",
        "if sports_person:\n",
        "  if food:\n",
        "    print(\"Pizza is my favourite\")\n",
        "  else:\n",
        "    print(\"shakib al hasan\")\n",
        "else:\n",
        "  if food:\n",
        "    print(\"berger\")\n",
        "  else:\n",
        "    print(\"tamim iqbal\")"
      ]
    },
    {
      "cell_type": "code",
      "source": [
        "amount=int(input(\"Enter your amount : \"))\n",
        "if amount==200:\n",
        "  print(\"Burger\")\n",
        "elif amount==600:\n",
        "  print(\"Pizza\")\n",
        "elif amount==1050:\n",
        "  print(\"Kacci Biriyani\")\n",
        "else:\n",
        "  print(\"Nione\")"
      ],
      "metadata": {
        "colab": {
          "base_uri": "https://localhost:8080/"
        },
        "id": "gthZsFnC63je",
        "outputId": "bb5fe947-7447-4ce9-d4ef-71936aafbbc4"
      },
      "execution_count": 4,
      "outputs": [
        {
          "output_type": "stream",
          "name": "stdout",
          "text": [
            "Enter your amount : 200\n",
            "Burger\n"
          ]
        }
      ]
    },
    {
      "cell_type": "code",
      "source": [
        "mark=int(input(\"ENter your Marks : \"))\n",
        "if  100>=mark>=80:\n",
        "  print(\"A+\")\n",
        "elif 79>=mark>=70:\n",
        "  print(\"A\")\n",
        "elif 69>=mark>=60:\n",
        "  print(\"A-\")\n",
        "elif 59>=mark>=50:\n",
        "  print(\"B\")\n",
        "elif 49>=mark>=40:\n",
        "  print(\"C\")\n",
        "else:\n",
        "  print(\"Fail\")"
      ],
      "metadata": {
        "colab": {
          "base_uri": "https://localhost:8080/"
        },
        "id": "0eL4qztv63nb",
        "outputId": "7309edb2-1cf1-4e7a-9ef0-ecbf696838f8"
      },
      "execution_count": 5,
      "outputs": [
        {
          "output_type": "stream",
          "name": "stdout",
          "text": [
            "ENter your Marks : 50\n",
            "B\n"
          ]
        }
      ]
    },
    {
      "cell_type": "markdown",
      "source": [
        "# Elf Complex Branching"
      ],
      "metadata": {
        "id": "ZqJIlqZuHJCj"
      }
    },
    {
      "cell_type": "code",
      "source": [
        "hungry=input(\"are you hungry?????????????????\")\n",
        "if hungry==\"yes\":\n",
        "  print(\"Go to resturant\")\n",
        "  cost=float(input(\"how much does the pizza price : \"))\n",
        "  if cost>=500:\n",
        "    print(\"One Pizza\")\n",
        "  else:\n",
        "    print(\"Two Pizza\")\n",
        "elif hungry==\"no\":\n",
        "  print(\"stay home\")\n",
        "  pubg=input(\"Do you want to play Pubg Mobile :\")\n",
        "  if pubg==\"yes\":\n",
        "    print(\"See you layer\")\n",
        "  else:\n",
        "    print(\"Go to study room\")\n",
        "  subject=input(\"ENter subject name : \")\n",
        "  if subject==\"english\":\n",
        "    print(\"this is my favourite subject\")\n",
        "  else:\n",
        "    print(\"i don't like this subject\")\n",
        "else:\n",
        "  print(\"invalid\")\n",
        "\n"
      ],
      "metadata": {
        "colab": {
          "base_uri": "https://localhost:8080/"
        },
        "id": "GPSsWyzy63sN",
        "outputId": "65167e4e-635d-43b3-c253-e2dc1c5ab42f"
      },
      "execution_count": 8,
      "outputs": [
        {
          "output_type": "stream",
          "name": "stdout",
          "text": [
            "are you hungry?????????????????no\n",
            "stay home\n",
            "Do you want to play Pubg Mobile :no\n",
            "Go to study room\n",
            "ENter subject name : english\n",
            "this is my favourite subject\n"
          ]
        }
      ]
    },
    {
      "cell_type": "code",
      "source": [],
      "metadata": {
        "id": "cyupMHou63wR"
      },
      "execution_count": null,
      "outputs": []
    },
    {
      "cell_type": "code",
      "source": [],
      "metadata": {
        "id": "l0DKoQBi630N"
      },
      "execution_count": null,
      "outputs": []
    },
    {
      "cell_type": "code",
      "source": [],
      "metadata": {
        "id": "Vt_q59bi64L_"
      },
      "execution_count": null,
      "outputs": []
    },
    {
      "cell_type": "code",
      "source": [],
      "metadata": {
        "id": "3ivfwQr164Pu"
      },
      "execution_count": null,
      "outputs": []
    },
    {
      "cell_type": "code",
      "source": [],
      "metadata": {
        "id": "JqhcUJuY64Td"
      },
      "execution_count": null,
      "outputs": []
    }
  ]
}