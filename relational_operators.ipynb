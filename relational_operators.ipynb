{
  "nbformat": 4,
  "nbformat_minor": 0,
  "metadata": {
    "colab": {
      "provenance": []
    },
    "kernelspec": {
      "name": "python3",
      "display_name": "Python 3"
    },
    "language_info": {
      "name": "python"
    }
  },
  "cells": [
    {
      "cell_type": "code",
      "execution_count": 1,
      "metadata": {
        "colab": {
          "base_uri": "https://localhost:8080/"
        },
        "id": "OymkrD6KqK5j",
        "outputId": "ab138876-c88f-4984-8168-b781391716d1"
      },
      "outputs": [
        {
          "output_type": "stream",
          "name": "stdout",
          "text": [
            "True\n"
          ]
        }
      ],
      "source": [
        "num1=10\n",
        "num2=20\n",
        "greater_than=num2>num1\n",
        "print(greater_than)"
      ]
    },
    {
      "cell_type": "code",
      "source": [
        "less_than=num2<num1\n",
        "print(less_than)"
      ],
      "metadata": {
        "colab": {
          "base_uri": "https://localhost:8080/"
        },
        "id": "xsmQCb-xqcQ_",
        "outputId": "017b3790-e250-4587-b78c-ae8f5ba9ed54"
      },
      "execution_count": 3,
      "outputs": [
        {
          "output_type": "stream",
          "name": "stdout",
          "text": [
            "False\n"
          ]
        }
      ]
    },
    {
      "cell_type": "code",
      "source": [
        "x=num1==num2\n",
        "print(x)"
      ],
      "metadata": {
        "colab": {
          "base_uri": "https://localhost:8080/"
        },
        "id": "q5vk4ZeYqcLL",
        "outputId": "856f5b52-b96a-4ea0-b876-ac6d8af3b9c1"
      },
      "execution_count": 4,
      "outputs": [
        {
          "output_type": "stream",
          "name": "stdout",
          "text": [
            "False\n"
          ]
        }
      ]
    },
    {
      "cell_type": "code",
      "source": [
        "num3=20\n",
        "y=num2==num3\n"
      ],
      "metadata": {
        "id": "_sa7Bl2ZqcEg"
      },
      "execution_count": 6,
      "outputs": []
    },
    {
      "cell_type": "code",
      "source": [
        "print(y)"
      ],
      "metadata": {
        "colab": {
          "base_uri": "https://localhost:8080/"
        },
        "id": "ySLooeWEqb9g",
        "outputId": "b421b415-deb1-4843-ac5c-fae32bd1d67f"
      },
      "execution_count": 7,
      "outputs": [
        {
          "output_type": "stream",
          "name": "stdout",
          "text": [
            "True\n"
          ]
        }
      ]
    },
    {
      "cell_type": "markdown",
      "source": [
        "# greater_equal"
      ],
      "metadata": {
        "id": "dsn9bHefrLjS"
      }
    },
    {
      "cell_type": "code",
      "source": [
        "num1=20\n",
        "num2=15"
      ],
      "metadata": {
        "id": "s39yAB1zqb2U"
      },
      "execution_count": 11,
      "outputs": []
    },
    {
      "cell_type": "code",
      "source": [
        "z=num1>=num2\n",
        "print(z)"
      ],
      "metadata": {
        "colab": {
          "base_uri": "https://localhost:8080/"
        },
        "id": "yb4a2ZrKqbwd",
        "outputId": "ef913cb6-6ff0-4563-8df3-86a043e21388"
      },
      "execution_count": 12,
      "outputs": [
        {
          "output_type": "stream",
          "name": "stdout",
          "text": [
            "True\n"
          ]
        }
      ]
    },
    {
      "cell_type": "markdown",
      "source": [
        "# less_equal"
      ],
      "metadata": {
        "id": "IC54azgxr68g"
      }
    },
    {
      "cell_type": "code",
      "source": [
        "v=num1<=num\n",
        "print(v)"
      ],
      "metadata": {
        "colab": {
          "base_uri": "https://localhost:8080/"
        },
        "id": "FX_qL059qbnv",
        "outputId": "b95b99de-3be9-48b6-99ab-1c901d81ae23"
      },
      "execution_count": 13,
      "outputs": [
        {
          "output_type": "stream",
          "name": "stdout",
          "text": [
            "False\n"
          ]
        }
      ]
    },
    {
      "cell_type": "markdown",
      "source": [
        "# Not_Equal"
      ],
      "metadata": {
        "id": "W9XTo39ZskW4"
      }
    },
    {
      "cell_type": "code",
      "source": [
        "b=num1 !=num2\n",
        "print(b)"
      ],
      "metadata": {
        "colab": {
          "base_uri": "https://localhost:8080/"
        },
        "id": "X5DHor5zsj-N",
        "outputId": "a4243a90-05a0-484e-feeb-fd7a59ceaf21"
      },
      "execution_count": 14,
      "outputs": [
        {
          "output_type": "stream",
          "name": "stdout",
          "text": [
            "True\n"
          ]
        }
      ]
    },
    {
      "cell_type": "code",
      "source": [
        "num1=12\n",
        "num2=12\n",
        "n=num1 !=num2\n",
        "print(n)"
      ],
      "metadata": {
        "colab": {
          "base_uri": "https://localhost:8080/"
        },
        "id": "ueLxPRikqbdC",
        "outputId": "8e54630b-dc9a-48cc-ab0b-e3041d8430f2"
      },
      "execution_count": 15,
      "outputs": [
        {
          "output_type": "stream",
          "name": "stdout",
          "text": [
            "False\n"
          ]
        }
      ]
    },
    {
      "cell_type": "code",
      "source": [],
      "metadata": {
        "id": "q6eTd0COs6js"
      },
      "execution_count": null,
      "outputs": []
    }
  ]
}