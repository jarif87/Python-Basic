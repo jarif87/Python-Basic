{
  "nbformat": 4,
  "nbformat_minor": 0,
  "metadata": {
    "colab": {
      "provenance": []
    },
    "kernelspec": {
      "name": "python3",
      "display_name": "Python 3"
    },
    "language_info": {
      "name": "python"
    }
  },
  "cells": [
    {
      "cell_type": "code",
      "execution_count": 9,
      "metadata": {
        "id": "fxAK9ECuMQEP"
      },
      "outputs": [],
      "source": [
        "num=10\n",
        "num2=20"
      ]
    },
    {
      "cell_type": "code",
      "source": [
        "temp=num\n",
        "num=num2\n",
        "num2=temp"
      ],
      "metadata": {
        "id": "liT4ptZAMR-5"
      },
      "execution_count": 10,
      "outputs": []
    },
    {
      "cell_type": "code",
      "source": [
        "print(num)\n"
      ],
      "metadata": {
        "colab": {
          "base_uri": "https://localhost:8080/"
        },
        "id": "GWVP1wV0MSKp",
        "outputId": "709ef589-4531-4485-a86c-6d4fae089cd7"
      },
      "execution_count": 11,
      "outputs": [
        {
          "output_type": "stream",
          "name": "stdout",
          "text": [
            "20\n"
          ]
        }
      ]
    },
    {
      "cell_type": "code",
      "source": [
        "print(num2)"
      ],
      "metadata": {
        "colab": {
          "base_uri": "https://localhost:8080/"
        },
        "id": "un6ZgVKHMSXH",
        "outputId": "56badb6c-00fa-421a-af52-ffaf133a87ad"
      },
      "execution_count": 12,
      "outputs": [
        {
          "output_type": "stream",
          "name": "stdout",
          "text": [
            "10\n"
          ]
        }
      ]
    },
    {
      "cell_type": "code",
      "source": [
        "number_1=int(input(\"Enter your first number : \"))\n",
        "number_2=int(input(\"Enter your second number : \"))\n",
        "\n",
        "temp=number_1\n",
        "number_1=number_2\n",
        "number_2=temp"
      ],
      "metadata": {
        "colab": {
          "base_uri": "https://localhost:8080/"
        },
        "id": "ywOk_jClMTXf",
        "outputId": "ba9e7b7a-c64f-4be3-958a-e79f0b8dee58"
      },
      "execution_count": 19,
      "outputs": [
        {
          "name": "stdout",
          "output_type": "stream",
          "text": [
            "Enter your first number : 10\n",
            "Enter your second number : 30\n"
          ]
        }
      ]
    },
    {
      "cell_type": "code",
      "source": [
        "print(\"Number1 is\",number_1)"
      ],
      "metadata": {
        "colab": {
          "base_uri": "https://localhost:8080/"
        },
        "id": "swdUG7LMMTpS",
        "outputId": "7cb1cbd3-d117-448b-8379-57f1b679f583"
      },
      "execution_count": 20,
      "outputs": [
        {
          "output_type": "stream",
          "name": "stdout",
          "text": [
            "Number1 is 30\n"
          ]
        }
      ]
    },
    {
      "cell_type": "code",
      "source": [
        "print(\"Number2 is\",number_2)"
      ],
      "metadata": {
        "colab": {
          "base_uri": "https://localhost:8080/"
        },
        "id": "GTiB3u5kN318",
        "outputId": "8c9fdd2b-248f-45e6-90dc-04c0d7225515"
      },
      "execution_count": 21,
      "outputs": [
        {
          "output_type": "stream",
          "name": "stdout",
          "text": [
            "Number2 is 10\n"
          ]
        }
      ]
    },
    {
      "cell_type": "code",
      "source": [
        "v=10\n",
        "w=20\n",
        "v,w=w,v\n"
      ],
      "metadata": {
        "id": "G14LioaWORHh"
      },
      "execution_count": 23,
      "outputs": []
    },
    {
      "cell_type": "code",
      "source": [
        "print(v)"
      ],
      "metadata": {
        "colab": {
          "base_uri": "https://localhost:8080/"
        },
        "id": "Dz1_TGmYOQ7g",
        "outputId": "9139f195-16ec-4665-b91a-00143ce5b675"
      },
      "execution_count": 24,
      "outputs": [
        {
          "output_type": "stream",
          "name": "stdout",
          "text": [
            "20\n"
          ]
        }
      ]
    },
    {
      "cell_type": "code",
      "source": [
        "print(w)"
      ],
      "metadata": {
        "colab": {
          "base_uri": "https://localhost:8080/"
        },
        "id": "JaF3fcnIOQzh",
        "outputId": "b479b5b5-64ba-46c7-fd44-294fc54be742"
      },
      "execution_count": 25,
      "outputs": [
        {
          "output_type": "stream",
          "name": "stdout",
          "text": [
            "10\n"
          ]
        }
      ]
    },
    {
      "cell_type": "code",
      "source": [],
      "metadata": {
        "id": "4GI6KjM1OQse"
      },
      "execution_count": null,
      "outputs": []
    },
    {
      "cell_type": "code",
      "source": [],
      "metadata": {
        "id": "TohO8IDgOQi4"
      },
      "execution_count": null,
      "outputs": []
    },
    {
      "cell_type": "code",
      "source": [],
      "metadata": {
        "id": "rVAHQOgdOQYE"
      },
      "execution_count": null,
      "outputs": []
    }
  ]
}