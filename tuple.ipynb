{
  "nbformat": 4,
  "nbformat_minor": 0,
  "metadata": {
    "colab": {
      "provenance": []
    },
    "kernelspec": {
      "name": "python3",
      "display_name": "Python 3"
    },
    "language_info": {
      "name": "python"
    }
  },
  "cells": [
    {
      "cell_type": "code",
      "execution_count": 1,
      "metadata": {
        "id": "PiUep7pd8U20"
      },
      "outputs": [],
      "source": [
        "x=()"
      ]
    },
    {
      "cell_type": "code",
      "source": [
        "type(x)"
      ],
      "metadata": {
        "colab": {
          "base_uri": "https://localhost:8080/"
        },
        "id": "qtXqkTbq8XN3",
        "outputId": "7ae7e6db-b3f9-4b78-98ab-983cec36890c"
      },
      "execution_count": 2,
      "outputs": [
        {
          "output_type": "execute_result",
          "data": {
            "text/plain": [
              "tuple"
            ]
          },
          "metadata": {},
          "execution_count": 2
        }
      ]
    },
    {
      "cell_type": "code",
      "source": [
        "y=(1,2,3,4,5,1.22,3.65)"
      ],
      "metadata": {
        "id": "lRaDzJIa8XR5"
      },
      "execution_count": 3,
      "outputs": []
    },
    {
      "cell_type": "code",
      "source": [
        "print(y)"
      ],
      "metadata": {
        "colab": {
          "base_uri": "https://localhost:8080/"
        },
        "id": "LfRdFPR78XV_",
        "outputId": "d486507f-a749-4493-8122-010a04190fd3"
      },
      "execution_count": 4,
      "outputs": [
        {
          "output_type": "stream",
          "name": "stdout",
          "text": [
            "(1, 2, 3, 4, 5, 1.22, 3.65)\n"
          ]
        }
      ]
    },
    {
      "cell_type": "code",
      "source": [
        "string=(\"bangla\",\"horse\",\"cat\",\"dog\")"
      ],
      "metadata": {
        "id": "SQoJ8-DE8Xbg"
      },
      "execution_count": 5,
      "outputs": []
    },
    {
      "cell_type": "code",
      "source": [
        "type(string)"
      ],
      "metadata": {
        "colab": {
          "base_uri": "https://localhost:8080/"
        },
        "id": "_mTVzhVh8XfX",
        "outputId": "33aaad46-7ae8-4eb9-98a7-8b12ded5f082"
      },
      "execution_count": 6,
      "outputs": [
        {
          "output_type": "execute_result",
          "data": {
            "text/plain": [
              "tuple"
            ]
          },
          "metadata": {},
          "execution_count": 6
        }
      ]
    },
    {
      "cell_type": "code",
      "source": [
        "print(string)"
      ],
      "metadata": {
        "colab": {
          "base_uri": "https://localhost:8080/"
        },
        "id": "BpPoChVL9MR1",
        "outputId": "14b615bd-d5c6-44f1-f0d5-fcf3031a19f2"
      },
      "execution_count": 7,
      "outputs": [
        {
          "output_type": "stream",
          "name": "stdout",
          "text": [
            "('bangla', 'horse', 'cat', 'dog')\n"
          ]
        }
      ]
    },
    {
      "cell_type": "code",
      "source": [
        "z=(1,2,3,4,5,\"bangla\",\"math\",\"tamim\",3.55,3.66,2.154,2.55)"
      ],
      "metadata": {
        "id": "nv--rPPV9MIJ"
      },
      "execution_count": 8,
      "outputs": []
    },
    {
      "cell_type": "code",
      "source": [
        "print(type(z[5]))"
      ],
      "metadata": {
        "colab": {
          "base_uri": "https://localhost:8080/"
        },
        "id": "gvv7C3Xs9slw",
        "outputId": "fe4c6578-bda6-4d6d-bd94-f67485d24fa7"
      },
      "execution_count": 9,
      "outputs": [
        {
          "output_type": "stream",
          "name": "stdout",
          "text": [
            "<class 'str'>\n"
          ]
        }
      ]
    },
    {
      "cell_type": "code",
      "source": [
        "print(type(z[0]))"
      ],
      "metadata": {
        "colab": {
          "base_uri": "https://localhost:8080/"
        },
        "id": "miNU2Fjc9sqR",
        "outputId": "f31860f8-795d-4553-e20a-141d86917ded"
      },
      "execution_count": 10,
      "outputs": [
        {
          "output_type": "stream",
          "name": "stdout",
          "text": [
            "<class 'int'>\n"
          ]
        }
      ]
    },
    {
      "cell_type": "code",
      "source": [
        "print(type(z[-1]))"
      ],
      "metadata": {
        "colab": {
          "base_uri": "https://localhost:8080/"
        },
        "id": "fKk__Quk9svW",
        "outputId": "55c73dd5-5612-49d8-fe97-e9965a3e7739"
      },
      "execution_count": 11,
      "outputs": [
        {
          "output_type": "stream",
          "name": "stdout",
          "text": [
            "<class 'float'>\n"
          ]
        }
      ]
    },
    {
      "cell_type": "code",
      "source": [],
      "metadata": {
        "id": "KkstEcQr9szl"
      },
      "execution_count": null,
      "outputs": []
    },
    {
      "cell_type": "code",
      "source": [],
      "metadata": {
        "id": "IjAozWkw9s4J"
      },
      "execution_count": null,
      "outputs": []
    }
  ]
}