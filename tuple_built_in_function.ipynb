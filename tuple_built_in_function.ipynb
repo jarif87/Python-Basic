{
  "nbformat": 4,
  "nbformat_minor": 0,
  "metadata": {
    "colab": {
      "provenance": []
    },
    "kernelspec": {
      "name": "python3",
      "display_name": "Python 3"
    },
    "language_info": {
      "name": "python"
    }
  },
  "cells": [
    {
      "cell_type": "code",
      "execution_count": 1,
      "metadata": {
        "id": "2SgHsCt-7LB8"
      },
      "outputs": [],
      "source": [
        "tuple0=(1,2,3,4,5)"
      ]
    },
    {
      "cell_type": "code",
      "source": [
        "x=sum(tuple0)"
      ],
      "metadata": {
        "id": "Zf3A3CTe7LvJ"
      },
      "execution_count": 2,
      "outputs": []
    },
    {
      "cell_type": "code",
      "source": [
        "print(\"Sum of Tuple\\n\",x)"
      ],
      "metadata": {
        "colab": {
          "base_uri": "https://localhost:8080/"
        },
        "id": "KQNXVHDq7Ly0",
        "outputId": "bb3ec345-dc8c-4c29-94a3-aa0091f41757"
      },
      "execution_count": 3,
      "outputs": [
        {
          "output_type": "stream",
          "name": "stdout",
          "text": [
            "Sum of Tuple\n",
            " 15\n"
          ]
        }
      ]
    },
    {
      "cell_type": "code",
      "source": [
        "y=len(tuple0)"
      ],
      "metadata": {
        "id": "yIwga6Gw7L2t"
      },
      "execution_count": 4,
      "outputs": []
    },
    {
      "cell_type": "code",
      "source": [
        "print(\"Average is\\n\",x/y)"
      ],
      "metadata": {
        "colab": {
          "base_uri": "https://localhost:8080/"
        },
        "id": "kOnK6a_C7L6u",
        "outputId": "edfa2a0f-9542-4cce-8e7b-781197b466d5"
      },
      "execution_count": 5,
      "outputs": [
        {
          "output_type": "stream",
          "name": "stdout",
          "text": [
            "Average is\n",
            " 3.0\n"
          ]
        }
      ]
    },
    {
      "cell_type": "code",
      "source": [
        "print(\"Reverse tuple\\n\",tuple0[:      :      -1])"
      ],
      "metadata": {
        "colab": {
          "base_uri": "https://localhost:8080/"
        },
        "id": "BP_HyHVzB0o-",
        "outputId": "0e3ace53-e640-416a-9a5c-09dffd72524c"
      },
      "execution_count": 6,
      "outputs": [
        {
          "output_type": "stream",
          "name": "stdout",
          "text": [
            "Reverse tuple\n",
            " (5, 4, 3, 2, 1)\n"
          ]
        }
      ]
    },
    {
      "cell_type": "code",
      "source": [
        "print(tuple0.count(1))"
      ],
      "metadata": {
        "colab": {
          "base_uri": "https://localhost:8080/"
        },
        "id": "OYvnhnhvB0tT",
        "outputId": "f57166e1-777b-4c35-8d00-8619c5e3afe4"
      },
      "execution_count": 7,
      "outputs": [
        {
          "output_type": "stream",
          "name": "stdout",
          "text": [
            "1\n"
          ]
        }
      ]
    },
    {
      "cell_type": "code",
      "source": [],
      "metadata": {
        "id": "4TghK0r5B0w1"
      },
      "execution_count": null,
      "outputs": []
    },
    {
      "cell_type": "code",
      "source": [],
      "metadata": {
        "id": "6iUXWu3VB1E7"
      },
      "execution_count": null,
      "outputs": []
    },
    {
      "cell_type": "code",
      "source": [],
      "metadata": {
        "id": "jQjc1pRRB1H-"
      },
      "execution_count": null,
      "outputs": []
    },
    {
      "cell_type": "code",
      "source": [],
      "metadata": {
        "id": "BNMYaOXqB1Lp"
      },
      "execution_count": null,
      "outputs": []
    }
  ]
}