{
  "nbformat": 4,
  "nbformat_minor": 0,
  "metadata": {
    "colab": {
      "provenance": []
    },
    "kernelspec": {
      "name": "python3",
      "display_name": "Python 3"
    },
    "language_info": {
      "name": "python"
    }
  },
  "cells": [
    {
      "cell_type": "code",
      "execution_count": 1,
      "metadata": {
        "id": "djkQzijU2wwN"
      },
      "outputs": [],
      "source": [
        "list_0=[\"bangla\",\"english\",\"rakib\",1,2,3,4]"
      ]
    },
    {
      "cell_type": "code",
      "source": [
        "list_0"
      ],
      "metadata": {
        "colab": {
          "base_uri": "https://localhost:8080/"
        },
        "id": "QOLDF_ee21X-",
        "outputId": "189a499e-2d6d-443f-a463-97d4211adb34"
      },
      "execution_count": 2,
      "outputs": [
        {
          "output_type": "execute_result",
          "data": {
            "text/plain": [
              "['bangla', 'english', 'rakib', 1, 2, 3, 4]"
            ]
          },
          "metadata": {},
          "execution_count": 2
        }
      ]
    },
    {
      "cell_type": "code",
      "source": [
        "list_0[2]=100"
      ],
      "metadata": {
        "id": "VsXcsAeZ21cY"
      },
      "execution_count": 3,
      "outputs": []
    },
    {
      "cell_type": "markdown",
      "source": [
        "#  update list"
      ],
      "metadata": {
        "id": "mc5O9Z5N3WoL"
      }
    },
    {
      "cell_type": "code",
      "source": [
        "print(list_0)"
      ],
      "metadata": {
        "colab": {
          "base_uri": "https://localhost:8080/"
        },
        "id": "YvcctnRb21hQ",
        "outputId": "8d1deb7e-d5ee-4535-d85a-73f4849d49de"
      },
      "execution_count": 4,
      "outputs": [
        {
          "output_type": "stream",
          "name": "stdout",
          "text": [
            "['bangla', 'english', 100, 1, 2, 3, 4]\n"
          ]
        }
      ]
    },
    {
      "cell_type": "code",
      "source": [
        "list_0[0]=\"shakib al hasan\""
      ],
      "metadata": {
        "id": "yPUCDWcG21lg"
      },
      "execution_count": 5,
      "outputs": []
    },
    {
      "cell_type": "code",
      "source": [
        "print(\"New list\",list_0)"
      ],
      "metadata": {
        "colab": {
          "base_uri": "https://localhost:8080/"
        },
        "id": "OMIefcvk21qh",
        "outputId": "eaf82fad-0f35-4fd2-ab07-0c752fe02abc"
      },
      "execution_count": 6,
      "outputs": [
        {
          "output_type": "stream",
          "name": "stdout",
          "text": [
            "New list ['shakib al hasan', 'english', 100, 1, 2, 3, 4]\n"
          ]
        }
      ]
    },
    {
      "cell_type": "code",
      "source": [],
      "metadata": {
        "id": "F94NyVFc21u0"
      },
      "execution_count": null,
      "outputs": []
    },
    {
      "cell_type": "code",
      "source": [],
      "metadata": {
        "id": "GMJYzeHI21yq"
      },
      "execution_count": null,
      "outputs": []
    }
  ]
}