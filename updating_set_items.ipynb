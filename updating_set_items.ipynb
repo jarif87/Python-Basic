{
  "nbformat": 4,
  "nbformat_minor": 0,
  "metadata": {
    "colab": {
      "provenance": []
    },
    "kernelspec": {
      "name": "python3",
      "display_name": "Python 3"
    },
    "language_info": {
      "name": "python"
    }
  },
  "cells": [
    {
      "cell_type": "code",
      "execution_count": 1,
      "metadata": {
        "id": "OJ8EROjA3FoT"
      },
      "outputs": [],
      "source": [
        "set0={1,2,3,4,5,\"bangla\"}"
      ]
    },
    {
      "cell_type": "code",
      "source": [
        "set0"
      ],
      "metadata": {
        "colab": {
          "base_uri": "https://localhost:8080/"
        },
        "id": "HXxKA9-63JrD",
        "outputId": "53081e21-1ff2-4400-96b4-0efa8c71f17d"
      },
      "execution_count": 2,
      "outputs": [
        {
          "output_type": "execute_result",
          "data": {
            "text/plain": [
              "{1, 2, 3, 4, 5, 'bangla'}"
            ]
          },
          "metadata": {},
          "execution_count": 2
        }
      ]
    },
    {
      "cell_type": "code",
      "source": [
        "set0.update({\"english\",44,55,66})"
      ],
      "metadata": {
        "id": "Pi2Kx6iK3JxY"
      },
      "execution_count": 3,
      "outputs": []
    },
    {
      "cell_type": "code",
      "source": [
        "set0"
      ],
      "metadata": {
        "colab": {
          "base_uri": "https://localhost:8080/"
        },
        "id": "pS4jkgWV3J08",
        "outputId": "6d7742bb-699a-4d8e-de2b-7a9265231108"
      },
      "execution_count": 4,
      "outputs": [
        {
          "output_type": "execute_result",
          "data": {
            "text/plain": [
              "{1, 2, 3, 4, 44, 5, 55, 66, 'bangla', 'english'}"
            ]
          },
          "metadata": {},
          "execution_count": 4
        }
      ]
    },
    {
      "cell_type": "code",
      "source": [
        "set0.update([\"america\",\"japan\",\"london\",4,5,6,7,8])"
      ],
      "metadata": {
        "id": "xhDFOjPD3J4O"
      },
      "execution_count": 5,
      "outputs": []
    },
    {
      "cell_type": "code",
      "source": [
        "print(set0)"
      ],
      "metadata": {
        "colab": {
          "base_uri": "https://localhost:8080/"
        },
        "id": "I-tOfXca3J7z",
        "outputId": "333c9624-5253-4c03-fd82-8ead10ae51ea"
      },
      "execution_count": 7,
      "outputs": [
        {
          "output_type": "stream",
          "name": "stdout",
          "text": [
            "{1, 2, 3, 4, 5, 66, 6, 7, 8, 'english', 44, 'london', 'america', 55, 'japan', 'bangla'}\n"
          ]
        }
      ]
    },
    {
      "cell_type": "code",
      "source": [
        "set0.update({100,200,300},[\"mango\",\"apple\",\"jack-fruit\"])"
      ],
      "metadata": {
        "id": "b74T7vW73J_e"
      },
      "execution_count": 8,
      "outputs": []
    },
    {
      "cell_type": "code",
      "source": [
        "print(set0)"
      ],
      "metadata": {
        "colab": {
          "base_uri": "https://localhost:8080/"
        },
        "id": "0qwYN7xS3KF6",
        "outputId": "205700c1-be12-4432-88fc-596a65901b83"
      },
      "execution_count": 9,
      "outputs": [
        {
          "output_type": "stream",
          "name": "stdout",
          "text": [
            "{1, 2, 3, 4, 5, 66, 6, 7, 8, 200, 'mango', 'apple', 'london', 'bangla', 100, 'english', 44, 300, 'america', 55, 'japan', 'jack-fruit'}\n"
          ]
        }
      ]
    },
    {
      "cell_type": "code",
      "source": [],
      "metadata": {
        "id": "vlBDFt1N3KJ7"
      },
      "execution_count": null,
      "outputs": []
    },
    {
      "cell_type": "code",
      "source": [],
      "metadata": {
        "id": "ZOwl6qQO3KNp"
      },
      "execution_count": null,
      "outputs": []
    }
  ]
}