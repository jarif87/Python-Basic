{
  "nbformat": 4,
  "nbformat_minor": 0,
  "metadata": {
    "colab": {
      "provenance": []
    },
    "kernelspec": {
      "name": "python3",
      "display_name": "Python 3"
    },
    "language_info": {
      "name": "python"
    }
  },
  "cells": [
    {
      "cell_type": "code",
      "source": [
        "import requests\n",
        "from bs4 import BeautifulSoup"
      ],
      "metadata": {
        "id": "UrdvnRfI-3Cj"
      },
      "execution_count": null,
      "outputs": []
    },
    {
      "cell_type": "code",
      "source": [
        "url=\"https://www.zekelabs.com/\""
      ],
      "metadata": {
        "id": "_sKNfaRa-3HG"
      },
      "execution_count": null,
      "outputs": []
    },
    {
      "cell_type": "code",
      "source": [
        "a=requests.get(url)"
      ],
      "metadata": {
        "id": "PxFjoSlL_J4b"
      },
      "execution_count": null,
      "outputs": []
    },
    {
      "cell_type": "code",
      "source": [
        "b=a.text"
      ],
      "metadata": {
        "id": "HJvmgc8R_JxF"
      },
      "execution_count": null,
      "outputs": []
    },
    {
      "cell_type": "code",
      "source": [
        "result=BeautifulSoup(b)"
      ],
      "metadata": {
        "id": "HPlOhQiN_ZlI"
      },
      "execution_count": null,
      "outputs": []
    },
    {
      "cell_type": "code",
      "source": [
        "for i in result.find_all(\"img\"):\n",
        "  print(i.get(\"src\"))"
      ],
      "metadata": {
        "colab": {
          "base_uri": "https://localhost:8080/"
        },
        "id": "FUlq3tdz_sT_",
        "outputId": "ba5f652b-313a-46ad-ca4b-ae7d98ffe217"
      },
      "execution_count": null,
      "outputs": [
        {
          "output_type": "stream",
          "name": "stdout",
          "text": [
            "/static/img/main/components/consulting2-01.png\n",
            "/static/img/main/components/corporate_training-01.png\n",
            "/static/img/main/components/consulting3-01.png\n",
            "/static/img/main/components/consulting4-01.png\n",
            "static/img/main/stats/classroom_training_hours.svg\n",
            "static/img/main/stats/corporate_training_hours.svg\n",
            "static/img/main/stats/courses.svg\n",
            "static/img/main/logos/ey.svg\n",
            "static/img/main/logos/ge.svg\n",
            "static/img/main/logos/intel.png\n",
            "static/img/main/logos/kabbage.svg\n",
            "static/img/main/logos/cisco.svg\n",
            "static/img/main/logos/epsilon.svg\n",
            "static/img/main/logos/hcl.svg\n",
            "static/img/main/logos/mitel.svg\n",
            "static/img/main/logos/zekeLabs-partner-weinvest.png\n",
            "static/img/main/logos/schneider.svg\n",
            "static/img/main/logos/scio.svg\n",
            "static/img/main/logos/zekeLabs-partner-tcs.png\n",
            "static/img/main/logos/ziess.svg\n",
            "static/img/main/logos/ribbon.svg\n",
            "static/img/main/logos/zekeLabs-partner-altimetrik.png\n",
            "static/img/main/logos/zekeLabs-partner-cerner.png\n",
            "static/img/main/logos/zekeLabs-partner-evalueserve.png\n",
            "static/img/main/logos/zekeLabs-partner-ibm.png\n",
            "static/img/main/logos/tangoe.svg\n",
            "static/img/main/logos/zekeLabs-partner-accenture.png\n",
            "static/media/photos/2018/11/21/face-recognition-800x500-01.jpg\n",
            "static/media/photos/2018/11/21/NLP-800x500-01.jpg\n",
            "static/media/photos/2018/11/21/chatbots-800x500-01.jpg\n",
            "static/media/photos/2018/11/21/robotics-800x500-01.jpg\n",
            "/static/media/photos/2018/11/22/datascience-800x500-01.jpg\n",
            "/static/media/photos/2018/11/22/machinelearning-800x500-01.jpg\n",
            "/static/media/photos/2018/11/22/deeplearning-800x500-01.jpg\n",
            "/static/media/photos/2018/11/22/artificialintelligence-800x500-01.jpg\n",
            "/static/media/photos/2017/12/04/machine-learning-using-h2o-training-in-banglore-800-500.jpg\n",
            "/static/media/photos/2017/06/22/rsz_1img_365251.jpg\n",
            "/static/media/photos/2017/08/18/best-r-training-in-bangalore.png\n",
            "/static/media/photos/2017/07/24/best-data-analysis-training-in-bangalore-india.png\n",
            "/static/media/photos/2017/08/01/best-data-visualization-bokeh-training-in-bangalore-india.png\n",
            "static/media/photos/2016/10/21/learn-amazon-web-services-online-training-in-Bangalore.jpg\n",
            "static/media/photos/2017/07/23/best-aws-sysops-training-in-bangalore-india.png\n",
            "static/media/photos/2018/04/03/best-aws-devops-training-in-bangalore-india-new.png\n",
            "static/media/photos/2016/11/24/learn-microsoft-azure-bangalore.jpg\n",
            "static/media/photos/2017/06/22/rsz_1img_365226.jpg\n",
            "/static/media/photos/2017/09/10/best-chef-training-in-bangalore.png\n",
            "static/media/photos/2016/11/24/learn-docker-bangalore.png\n",
            "static/media/photos/2018/04/03/DevOps-Training-in-bangalore-new.png\n",
            "static/img/courses/learn-hadoop-big-data-in-Bangalore.jpg\n",
            "static/img/courses/learn-apache-spark-in-Bangalore.png\n",
            "static/media/photos/2017/06/24/learn-machine-learning-in-Bangalore.png\n",
            "static/media/photos/2017/10/23/zeke_pyspark_800_500.jpg\n",
            "/static/media/photos/2017/09/10/best-ui-development-training-in-bangalore.png\n",
            "static/media/photos/2016/12/14/angular2-small_N2ecf3A.png\n",
            "static/media/photos/2017/09/10/best-angular-4-training-in-bangalore-india1.png\n",
            "static/media/photos/2017/11/21/zekeLabs-Angular5-Trainings-in-Banglore_800_500.jpg\n",
            "static/img/courses/learn-java-in-Bangalore.jpg\n",
            "static/img/courses/learn-python-in-Bangalore.jpg\n",
            "static/media/photos/2016/11/29/learn-scala-in-Bangalore.jpg\n",
            "static/img/courses/learn-pl-sql-in-Bangalore.jpg\n",
            "static/img/courses/learn-spring-in-Bangalore.jpg\n",
            "static/img/courses/learn-android-mobile-application-development-in-Bangalore.jpg\n",
            "static/img/courses/learn-django-in-Bangalore.jpg\n",
            "static/media/photos/2017/04/19/why-lot.png \n",
            "https://msg91.com/images/startups/msg91Badge.png\n",
            "/static/img/flags/india_flag_small_2.png\n",
            "/static/img/flags/singapore-flag-button-round-xs.png\n"
          ]
        }
      ]
    },
    {
      "cell_type": "code",
      "source": [],
      "metadata": {
        "id": "1PVqbk1r_sQC"
      },
      "execution_count": null,
      "outputs": []
    },
    {
      "cell_type": "code",
      "source": [],
      "metadata": {
        "id": "6BhtkXlw_sLx"
      },
      "execution_count": null,
      "outputs": []
    },
    {
      "cell_type": "code",
      "source": [],
      "metadata": {
        "id": "uYCLPEOT_sG1"
      },
      "execution_count": null,
      "outputs": []
    }
  ]
}