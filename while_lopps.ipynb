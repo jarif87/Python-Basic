{
  "nbformat": 4,
  "nbformat_minor": 0,
  "metadata": {
    "colab": {
      "provenance": []
    },
    "kernelspec": {
      "name": "python3",
      "display_name": "Python 3"
    },
    "language_info": {
      "name": "python"
    }
  },
  "cells": [
    {
      "cell_type": "code",
      "execution_count": 8,
      "metadata": {
        "id": "aIUkx3p5N3M3"
      },
      "outputs": [],
      "source": [
        "i=1"
      ]
    },
    {
      "cell_type": "code",
      "source": [
        "while  i<=10:\n",
        "  print(i)\n",
        "  i =i+1\n",
        "  print(\"updated value\",i)\n",
        "print(\"End\")"
      ],
      "metadata": {
        "colab": {
          "base_uri": "https://localhost:8080/"
        },
        "id": "MTguOnw-N6MU",
        "outputId": "588f1816-773d-4e8e-c765-5ced346fcc6d"
      },
      "execution_count": 9,
      "outputs": [
        {
          "output_type": "stream",
          "name": "stdout",
          "text": [
            "1\n",
            "updated value 2\n",
            "2\n",
            "updated value 3\n",
            "3\n",
            "updated value 4\n",
            "4\n",
            "updated value 5\n",
            "5\n",
            "updated value 6\n",
            "6\n",
            "updated value 7\n",
            "7\n",
            "updated value 8\n",
            "8\n",
            "updated value 9\n",
            "9\n",
            "updated value 10\n",
            "10\n",
            "updated value 11\n",
            "End\n"
          ]
        }
      ]
    },
    {
      "cell_type": "code",
      "source": [],
      "metadata": {
        "id": "IW8oCNEON6Sp"
      },
      "execution_count": null,
      "outputs": []
    },
    {
      "cell_type": "code",
      "source": [],
      "metadata": {
        "id": "XwC4-DSqN6XK"
      },
      "execution_count": null,
      "outputs": []
    }
  ]
}